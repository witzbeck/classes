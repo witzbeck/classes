{
 "cells": [
  {
   "cell_type": "markdown",
   "metadata": {},
   "source": [
    "Armijo Line-Search Rule\n",
    "\n",
    "The successive reduction rule suitably modified to eliminate theoretical convergence difficulty"
   ]
  },
  {
   "cell_type": "code",
   "execution_count": 19,
   "metadata": {},
   "outputs": [],
   "source": [
    "#Imports and definitions\n",
    "import numpy as np\n",
    "import sympy as sp\n",
    "import pandas as pd\n",
    "\n",
    "#Initial point\n",
    "x0,y0 = -1,-1\n",
    "init_p = [x0,y0]\n",
    "\n",
    "#Line search parameters\n",
    "s,beta,sigma = 1,0.5,0.1\n",
    "\n",
    "#Number of iterations\n",
    "n_iter= range(5)\n",
    "\n",
    "#Function to be minimized\n",
    "#   I'm choosing for fm and fm_grad to take a single\n",
    "#   vector as input so that my armijostep function\n",
    "#   generalizes to n dimensions\n",
    "def fm(v=init_p):\n",
    "    x = v[0]\n",
    "    y = v[-1]\n",
    "    a = x - 2*y**2\n",
    "    b = x - 3*y**2\n",
    "    return a*b\n",
    "\n",
    "#Gradient of fm\n",
    "def fm_grad(v=init_p):\n",
    "    x = v[0]\n",
    "    y = v[-1]\n",
    "    fdx = (x - 2*y**2)+(x - 3*y**2)\n",
    "    fdy = (-6*y)*(x - 2*y**2)+(-4*y)*(x - 3*y**2)\n",
    "    \n",
    "    #We desire the trasposed gradient, which in 2d looks like this\n",
    "    return [fdx,fdy]\n"
   ]
  },
  {
   "cell_type": "code",
   "execution_count": 18,
   "metadata": {},
   "outputs": [
    {
     "name": "stdout",
     "output_type": "stream",
     "text": [
      "2\n",
      "{'step#': 1, 'step_size': 0.0, 'while_iter': 0, 'fm()': 125137.0, 'fm_grad()': [-722.0, 41592.0]}\n",
      "{'step#': 1, 'step_size': 0.0, 'while_iter': 101, 'fm()': 1.471276190356969e+21, 'fm_grad()': [-78296343847.0, 4.702929398396384e+16]}\n",
      "[-1.0, -1.0, 12.0, 125137.0] [1.0, 1.0]\n",
      "{'step#': 2, 'step_size': 0.1, 'while_iter': 0, 'fm()': 98751.60428525993, 'fm_grad()': [-641.3804999999998, 34823.336183999985]}\n",
      "{'step#': 2, 'step_size': 0.1, 'while_iter': 101, 'fm()': 5.7059490505836816e+20, 'fm_grad()': [-48759396746.362854, 2.311232953292266e+16]}\n",
      "[-0.9, -0.8, 11.309999999999999, 98751.60428525993] [1.0, 1.0]\n",
      "{'step#': 3, 'step_size': 0.2, 'while_iter': 0, 'fm()': 77351.95959295999, 'fm_grad()': [-567.6479999999999, 28994.32345599999]}\n",
      "{'step#': 3, 'step_size': 0.2, 'while_iter': 101, 'fm()': 2.1480111523375222e+20, 'fm_grad()': [-29916628265.95457, 1.110772713979622e+16]}\n",
      "[-0.8, -0.6000000000000001, 10.639999999999999, 77351.95959295999] [1.0, 1.0]\n",
      "{'step#': 4, 'step_size': 0.30000000000000004, 'while_iter': 0, 'fm()': 60110.15011006004, 'fm_grad()': [-500.4005000000002, 23998.001976000014]}\n",
      "{'step#': 4, 'step_size': 0.30000000000000004, 'while_iter': 101, 'fm()': 7.833259255143642e+19, 'fm_grad()': [-18066150732.669758, 5212603355785232.0]}\n",
      "[-0.7, -0.3999999999999999, 9.990000000000002, 60110.15011006004] [1.0, 1.0]\n",
      "{'step#': 5, 'step_size': 0.4, 'while_iter': 0, 'fm()': 46315.84087296004, 'fm_grad()': [-439.24800000000016, 19736.78054400001]}\n",
      "{'step#': 5, 'step_size': 0.4, 'while_iter': 101, 'fm()': 2.7610194314450887e+19, 'fm_grad()': [-10725785580.04678, 2384514135193209.0]}\n",
      "[-0.6, -0.19999999999999996, 9.360000000000001, 46315.84087296004] [1.0, 1.0]\n"
     ]
    }
   ],
   "source": [
    "def armijostep(fm=fm,fm_grad=fm_grad,\n",
    "                init_p=init_p,n_iter=n_iter,\n",
    "                s=s,beta=beta,sigma=sigma):\n",
    "    \"\"\"\n",
    "    Inputs:\n",
    "        fm: function to minimize\n",
    "        fm_grad: gradient of fm\n",
    "        init_p: initial point\n",
    "        n_iter: number of iterations\n",
    "        s,beta,sigma: line search parameters\n",
    "    \"\"\"\n",
    "    #Number of dimensions determined by length of initiating vector\n",
    "    n_dim = len(init_p)\n",
    "\n",
    "    #Lists to store function in/out values\n",
    "    points_list = [init_p]\n",
    "    fm_list = [fm(init_p)]\n",
    "    \n",
    "    #Generating column headers for future dataframe\n",
    "    results_col = [\"d\" + str(i+1) for i in range(n_dim)]\n",
    "    results_col.append(\"fm\")\n",
    "    \n",
    "    #print(results,results_col)\n",
    "    print(n_dim)\n",
    "    for step in n_iter:\n",
    "        cur_p = [results[-1][j] for j in range(n_dim)] \n",
    "        last_fm = fm(cur_p)\n",
    "        grad = fm_grad(cur_p)\n",
    "        d = [-m/abs(m) for m in grad]\n",
    "\n",
    "        for dim in range(n_dim):\n",
    "            k = 0\n",
    "            step_size = d[dim]*s*step*sigma*beta**k\n",
    "            candidate_p = cur_p\n",
    "            candidate_p[dim] = cur_p[dim] + step_size \n",
    "\n",
    "            while_iter = 0\n",
    "            while fm(candidate_p) > last_fm:\n",
    "                while_iter += 1\n",
    "                if while_iter > 100:\n",
    "                    break\n",
    "                k+=1\n",
    "                candidate_p[dim] += d[dim]*s*step*sigma*beta**k\n",
    "\n",
    "            result = candidate_p\n",
    "            result.append(fm(candidate_p))\n",
    "            print({\n",
    "                \"step#\":step+1,\n",
    "                \"dimension\":dim\n",
    "                \"step_size\":step_size,\n",
    "                \"while_iter\":while_iter,\n",
    "                \"fm()\":fm(candidate_p),\n",
    "                \"fm_grad()\":fm_grad(candidate_p)\n",
    "            })\n",
    "\n",
    "\n",
    "\n",
    "        print(cur_p,d)\n",
    "\n",
    "\n",
    "        #results.append([])\n",
    "\n",
    "    \n",
    "\n",
    "\n",
    "armijostep()"
   ]
  },
  {
   "cell_type": "code",
   "execution_count": 6,
   "metadata": {},
   "outputs": [
    {
     "data": {
      "text/plain": [
       "-1"
      ]
     },
     "execution_count": 6,
     "metadata": {},
     "output_type": "execute_result"
    }
   ],
   "source": []
  },
  {
   "cell_type": "code",
   "execution_count": null,
   "metadata": {},
   "outputs": [],
   "source": []
  }
 ],
 "metadata": {
  "interpreter": {
   "hash": "78706c31b69ede7c2c34732072d004318d4815f038b3d91e252f917f8ecd20eb"
  },
  "kernelspec": {
   "display_name": "Python 3.9.7 64-bit ('math857': conda)",
   "language": "python",
   "name": "python3"
  },
  "language_info": {
   "codemirror_mode": {
    "name": "ipython",
    "version": 3
   },
   "file_extension": ".py",
   "mimetype": "text/x-python",
   "name": "python",
   "nbconvert_exporter": "python",
   "pygments_lexer": "ipython3",
   "version": "3.9.7"
  },
  "orig_nbformat": 4
 },
 "nbformat": 4,
 "nbformat_minor": 2
}
