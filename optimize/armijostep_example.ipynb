{
 "cells": [
  {
   "cell_type": "markdown",
   "metadata": {},
   "source": [
    "Armijostep Example"
   ]
  },
  {
   "cell_type": "code",
   "execution_count": 2,
   "metadata": {},
   "outputs": [],
   "source": [
    "#Imports\n",
    "import numpy as np\n",
    "import sympy as sp\n",
    "from matplotlib.pyplot import plot\n",
    "import math"
   ]
  },
  {
   "cell_type": "code",
   "execution_count": 3,
   "metadata": {},
   "outputs": [],
   "source": [
    "#Function\n",
    "def f(x):\n",
    "    if abs(x) > 1:\n",
    "        if x > 1:\n",
    "            x = 1-x\n",
    "\n",
    "        elif x < 1:\n",
    "            x = 1+x\n",
    "\n",
    "        return (3/4)*x**2-2*x\n",
    "\n",
    "    else:\n",
    "        return x**2-1\n"
   ]
  },
  {
   "cell_type": "code",
   "execution_count": 4,
   "metadata": {},
   "outputs": [],
   "source": [
    "#The gradient of f(x)\n",
    "\n",
    "def f_grad(x):\n",
    "    if abs(x) > 1:\n",
    "        if x > 1:\n",
    "            return (1.5)*x+.5\n",
    "\n",
    "        elif x < 1:\n",
    "            return (1.5)*x-.5\n",
    "\n",
    "    else:\n",
    "        return 2*x\n"
   ]
  },
  {
   "cell_type": "code",
   "execution_count": 5,
   "metadata": {},
   "outputs": [
    {
     "name": "stdout",
     "output_type": "stream",
     "text": [
      "[α, β, k, m, s]\n",
      "[1.0, 0.1, 0.01, 0.001, 0.0001, 1e-05]\n",
      "[0.0, 0.1, 0.2, 0.30000000000000004, 0.4, 0.5]\n"
     ]
    }
   ],
   "source": [
    "#definitions\n",
    "a, b, k, m, s = sp.symbols('α β k m s')\n",
    "vars = [a, b, k, m, s]\n",
    "print(vars)\n",
    "\n",
    "typ_alphas = [1/(10**i) for i in np.arange(0,6,1)]\n",
    "print(typ_alphas)\n",
    "typ_betas = [0.1*i for i in range(6)]\n",
    "print(typ_betas)"
   ]
  },
  {
   "cell_type": "code",
   "execution_count": 8,
   "metadata": {},
   "outputs": [
    {
     "name": "stdout",
     "output_type": "stream",
     "text": [
      "0\n",
      "2\n"
     ]
    }
   ],
   "source": [
    "x=1\n",
    "def armijostep(f=f,f_grad=f_grad,dk=0,s=1,beta=.5,sigma=.1):\n",
    "    \n",
    "    print(f(x))\n",
    "    print(f_grad(x))\n",
    "\n",
    "armijostep()"
   ]
  },
  {
   "cell_type": "code",
   "execution_count": 18,
   "metadata": {},
   "outputs": [
    {
     "data": {
      "image/png": "[encoded data removed]",
      "text/plain": [
       "<Figure size 432x288 with 1 Axes>"
      ]
     },
     "metadata": {
      "needs_background": "light"
     },
     "output_type": "display_data"
    }
   ],
   "source": [
    "#Plotting f(x) and f'(x)\n",
    "x = np.linspace(-5,5)\n",
    "y = [f(i) for i in x]\n",
    "z = [f_grad(i) for i in x]\n",
    "p1 = plot(x,y)\n",
    "p2 = plot(x,z)"
   ]
  },
  {
   "cell_type": "code",
   "execution_count": null,
   "metadata": {},
   "outputs": [],
   "source": []
  }
 ],
 "metadata": {
  "interpreter": {
   "hash": "78706c31b69ede7c2c34732072d004318d4815f038b3d91e252f917f8ecd20eb"
  },
  "kernelspec": {
   "display_name": "Python 3.9.7 64-bit ('math857': conda)",
   "language": "python",
   "name": "python3"
  },
  "language_info": {
   "codemirror_mode": {
    "name": "ipython",
    "version": 3
   },
   "file_extension": ".py",
   "mimetype": "text/x-python",
   "name": "python",
   "nbconvert_exporter": "python",
   "pygments_lexer": "ipython3",
   "version": "3.9.7"
  },
  "orig_nbformat": 4
 },
 "nbformat": 4,
 "nbformat_minor": 2
}
