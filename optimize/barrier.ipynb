{
 "cells": [
  {
   "cell_type": "code",
   "execution_count": null,
   "metadata": {},
   "outputs": [],
   "source": [
    "import numpy as np\n",
    "\n",
    "x_len = 5\n",
    "x = np.array([np.random.randint(10) for i in range(x_len)])\n",
    "def f(x=x):\n",
    "    sum_sq = sum([xn**2 for xn in x])\n",
    "    return sum_sq"
   ]
  },
  {
   "cell_type": "code",
   "execution_count": null,
   "metadata": {},
   "outputs": [],
   "source": [
    "mu = 1\n",
    "def barrier_func(pen_term=mu,f=f,x=x):\n",
    "    fx = f(x=x)\n",
    "    logs = [np.log(xn) for xn in x]\n",
    "    sum_logs = sum(logs)\n",
    "    return fx-(pen_term*sum_logs)\n",
    "mus = [i for i in range(-10,10)]\n",
    "for mu in mus:\n",
    "    print(barrier_func(pen_term=mu))"
   ]
  },
  {
   "cell_type": "code",
   "execution_count": 22,
   "metadata": {},
   "outputs": [
    {
     "data": {
      "text/plain": [
       "13.45362404707371"
      ]
     },
     "execution_count": 22,
     "metadata": {},
     "output_type": "execute_result"
    }
   ],
   "source": [
    "def s(mu=mu,x=x,e=np.e):\n",
    "    X = np.diag(x)\n",
    "    inv_X = np.linalg.inv(X)\n",
    "    return mu*inv_X*e\n",
    "\"\"\"\n",
    "mus = [round(-i/10+10,2) for i in range(100)]\n",
    "for mu in mus:\n",
    "    print(s(mu=mu))\n",
    "\"\"\"\n",
    "np.linalg.norm(x)"
   ]
  },
  {
   "cell_type": "code",
   "execution_count": 24,
   "metadata": {},
   "outputs": [
    {
     "data": {
      "text/plain": [
       "5500.0"
      ]
     },
     "execution_count": 24,
     "metadata": {},
     "output_type": "execute_result"
    }
   ],
   "source": [
    "66000/12\n"
   ]
  },
  {
   "cell_type": "code",
   "execution_count": null,
   "metadata": {},
   "outputs": [],
   "source": []
  }
 ],
 "metadata": {
  "interpreter": {
   "hash": "e4c811bee47d8c90b3eff8a9506211954d5d179212002b4a6acca2329b32ea02"
  },
  "kernelspec": {
   "display_name": "Python 3.9.7 ('algofi')",
   "language": "python",
   "name": "python3"
  },
  "language_info": {
   "codemirror_mode": {
    "name": "ipython",
    "version": 3
   },
   "file_extension": ".py",
   "mimetype": "text/x-python",
   "name": "python",
   "nbconvert_exporter": "python",
   "pygments_lexer": "ipython3",
   "version": "3.9.7"
  },
  "orig_nbformat": 4
 },
 "nbformat": 4,
 "nbformat_minor": 2
}
