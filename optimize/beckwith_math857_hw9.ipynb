{
 "cells": [
  {
   "cell_type": "markdown",
   "metadata": {},
   "source": [
    "min p1*x1^2 + p2*x2^2 + p3*x3^2\n",
    "\n",
    "s.t. p1 >= 0, p2 >= 0, p3 >= 0, p1 + p2 + p3 = 5\n",
    "\n",
    "#for simplicity, the p vector will be concatenated with the x vector \n",
    "#such that p123=x456"
   ]
  },
  {
   "cell_type": "code",
   "execution_count": 11,
   "metadata": {},
   "outputs": [],
   "source": [
    "import numpy as np\n",
    "from scipy.optimize import minimize "
   ]
  },
  {
   "cell_type": "code",
   "execution_count": 12,
   "metadata": {},
   "outputs": [],
   "source": [
    "fun = lambda x: (x[3]*x[0]**2) + (x[4]*x[1]**2) + (x[5]*x[2]**2)\n",
    "cons = ({\"type\":\"ineq\",\"fun\":lambda x: -x[0]+2*x[1]+4},\n",
    "        {\"type\":\"ineq\",\"fun\":lambda x: -x[0] - x[2] + x[1] + 2},\n",
    "        {\"type\":\"eq\",\"fun\":lambda x: x[3] + x[4] + x[5] - 5})\n",
    "bnds = ((None,None),    #x1\n",
    "        (None,None),    #x2\n",
    "        (None,None),    #x3\n",
    "        (0,None),       #p1\n",
    "        (0,None),       #p2\n",
    "        (0,None))       #p3"
   ]
  },
  {
   "cell_type": "code",
   "execution_count": 13,
   "metadata": {},
   "outputs": [
    {
     "data": {
      "text/plain": [
       "     fun: 0.0\n",
       "     jac: array([0., 0., 0., 0., 0., 0.])\n",
       " message: 'Optimization terminated successfully'\n",
       "    nfev: 8\n",
       "     nit: 1\n",
       "    njev: 1\n",
       "  status: 0\n",
       " success: True\n",
       "       x: array([0.        , 0.        , 0.        , 1.66666667, 1.66666667,\n",
       "       1.66666667])"
      ]
     },
     "execution_count": 13,
     "metadata": {},
     "output_type": "execute_result"
    }
   ],
   "source": [
    "res = minimize(fun,np.zeros(6),constraints=cons,bounds=bnds)\n",
    "res"
   ]
  },
  {
   "cell_type": "markdown",
   "metadata": {},
   "source": [
    "Optimization Output:\n",
    "\n",
    "     fun: 0.0\n",
    "     jac: array([0., 0., 0., 0., 0., 0.])\n",
    " message: 'Optimization terminated successfully'\n",
    "    nfev: 8\n",
    "     nit: 1\n",
    "    njev: 1\n",
    "  status: 0\n",
    " success: True\n",
    "       x: array([0.        , 0.        , 0.        , 1.66666667, 1.66666667,\n",
    "       1.66666667])"
   ]
  }
 ],
 "metadata": {
  "interpreter": {
   "hash": "e4c811bee47d8c90b3eff8a9506211954d5d179212002b4a6acca2329b32ea02"
  },
  "kernelspec": {
   "display_name": "Python 3.9.7 ('algofi')",
   "language": "python",
   "name": "python3"
  },
  "language_info": {
   "codemirror_mode": {
    "name": "ipython",
    "version": 3
   },
   "file_extension": ".py",
   "mimetype": "text/x-python",
   "name": "python",
   "nbconvert_exporter": "python",
   "pygments_lexer": "ipython3",
   "version": "3.9.7"
  },
  "orig_nbformat": 4
 },
 "nbformat": 4,
 "nbformat_minor": 2
}
