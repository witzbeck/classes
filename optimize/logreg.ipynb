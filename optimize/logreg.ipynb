{
 "cells": [
  {
   "cell_type": "markdown",
   "metadata": {},
   "source": [
    "Logistic Regression\n",
    "A simple example: Probability of passing an exam vs hours of study\n",
    "\n",
    "Write script to contain & reference for P(x), B0/B1, grad, grad2, etc.\n",
    "\n",
    "p(x) = log function \n",
    "L = cumprod(p)*cumprod(1-p)\n"
   ]
  },
  {
   "cell_type": "code",
   "execution_count": 8,
   "metadata": {},
   "outputs": [
    {
     "name": "stdout",
     "output_type": "stream",
     "text": [
      "20 20\n"
     ]
    }
   ],
   "source": [
    "import numpy as np\n",
    "\n",
    "#constants\n",
    "beta0 = 5\n",
    "beta1 = 2\n",
    "#data\n",
    "hours = [0.50,0.75,1.00,1.25,1.50,1.75,1.75,2.00,2.25,2.50,2.75,3.00,3.25,3.50,4.00,4.25,4.50,4.75,5.00,5.50]\n",
    "passed = [0,0,0,0,0,0,1,0,1,0,1,0,1,0,1,1,1,1,1,1]\n",
    "\n",
    "print(len(hours),len(passed))\n"
   ]
  },
  {
   "cell_type": "code",
   "execution_count": 9,
   "metadata": {},
   "outputs": [
    {
     "data": {
      "text/plain": [
       "0.9933071490757153"
      ]
     },
     "execution_count": 9,
     "metadata": {},
     "output_type": "execute_result"
    }
   ],
   "source": [
    "def p(x,beta0,beta1):\n",
    "    ex = beta0 + beta1*x\n",
    "    px = 1/(1+np.exp(-ex))\n",
    "    return px\n",
    "\n",
    "\n",
    "p(1,2,3)"
   ]
  },
  {
   "cell_type": "code",
   "execution_count": 10,
   "metadata": {},
   "outputs": [
    {
     "name": "stdout",
     "output_type": "stream",
     "text": [
      "0.7108693963767958\n"
     ]
    }
   ],
   "source": [
    "#Likelihood\n",
    "cumprod = 1\n",
    "for i,x in enumerate(hours):\n",
    "    if p(x)>=0.5:\n",
    "        cumprod*=p(x)\n",
    "    else:\n",
    "        cumprod*=(1-p(x))\n",
    "print(cumprod)\n"
   ]
  },
  {
   "cell_type": "code",
   "execution_count": 15,
   "metadata": {},
   "outputs": [
    {
     "name": "stdout",
     "output_type": "stream",
     "text": [
      "-37.29773393784235\n"
     ]
    }
   ],
   "source": [
    "#Loglikelihood\n",
    "def loglik(x_list,y_list):\n",
    "    cumsum = 0\n",
    "    for i,x in enumerate(x_list):\n",
    "        px = p(x,beta0=beta0,beta1=beta1)\n",
    "        cumsum += y_list[i]*np.log(p(x,beta0=beta0,beta1=beta1)) \n",
    "        cumsum += (1-y_list[i])*np.log(1-p(x,beta0=beta0,beta1=beta1))\n",
    "    print(cumsum)\n",
    "\n",
    "loglik(hours,passed,.1,2)"
   ]
  },
  {
   "cell_type": "code",
   "execution_count": 16,
   "metadata": {},
   "outputs": [
    {
     "data": {
      "text/plain": [
       "(-9.266599784919347, -45.04847296756811)"
      ]
     },
     "execution_count": 16,
     "metadata": {},
     "output_type": "execute_result"
    }
   ],
   "source": [
    "def loglik_grad(x_list,y_list):\n",
    "    dl_db0 = 0\n",
    "    dl_db1 = 0\n",
    "\n",
    "    for i,x in enumerate(x_list):\n",
    "        px = p(x,beta0=beta0,beta1=beta1)\n",
    "\n",
    "        dl_db0 += (y_list[i]-px)\n",
    "        dl_db1 += (y_list[i]-(x*px))\n",
    "    \n",
    "    return dl_db0,dl_db1\n",
    "loglik_grad(hours,passed,.1,2)"
   ]
  },
  {
   "cell_type": "code",
   "execution_count": null,
   "metadata": {},
   "outputs": [],
   "source": []
  }
 ],
 "metadata": {
  "interpreter": {
   "hash": "78706c31b69ede7c2c34732072d004318d4815f038b3d91e252f917f8ecd20eb"
  },
  "kernelspec": {
   "display_name": "Python 3.9.7 64-bit ('math857': conda)",
   "language": "python",
   "name": "python3"
  },
  "language_info": {
   "codemirror_mode": {
    "name": "ipython",
    "version": 3
   },
   "file_extension": ".py",
   "mimetype": "text/x-python",
   "name": "python",
   "nbconvert_exporter": "python",
   "pygments_lexer": "ipython3",
   "version": "3.9.7"
  },
  "orig_nbformat": 4
 },
 "nbformat": 4,
 "nbformat_minor": 2
}
