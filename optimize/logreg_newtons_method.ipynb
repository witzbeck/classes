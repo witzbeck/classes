{
 "cells": [
  {
   "cell_type": "code",
   "execution_count": 4,
   "metadata": {},
   "outputs": [
    {
     "data": {
      "text/plain": [
       "9"
      ]
     },
     "execution_count": 4,
     "metadata": {},
     "output_type": "execute_result"
    }
   ],
   "source": [
    "import numpy as np\n",
    "def f(x,y):\n",
    "    a = (x-2)**2\n",
    "    b = (y-2)**2\n",
    "    return a*b\n",
    "f(1,5)\n"
   ]
  },
  {
   "cell_type": "code",
   "execution_count": 6,
   "metadata": {},
   "outputs": [
    {
     "data": {
      "text/plain": [
       "array([-18,   6])"
      ]
     },
     "execution_count": 6,
     "metadata": {},
     "output_type": "execute_result"
    }
   ],
   "source": [
    "def f_grad(x,y):\n",
    "    dx = 2*(x-2)*(y-2)**2\n",
    "    dy = 2*(y-2)*(x-2)**2\n",
    "\n",
    "    grad = np.array([dx,dy])\n",
    "\n",
    "    return grad\n",
    "f_grad(1,5)\n"
   ]
  },
  {
   "cell_type": "code",
   "execution_count": 7,
   "metadata": {},
   "outputs": [
    {
     "data": {
      "text/plain": [
       "array([[ 18, -12],\n",
       "       [-12,   2]])"
      ]
     },
     "execution_count": 7,
     "metadata": {},
     "output_type": "execute_result"
    }
   ],
   "source": [
    "def f_hess(x,y):\n",
    "    dxdx = 2*(y-2)**2\n",
    "    dxdy = 4*(x-2)*(y-2)\n",
    "    dydx = 4*(x-2)*(y-2)\n",
    "    dydy = 2*(x-2)**2\n",
    "\n",
    "    hess = np.array([[dxdx,dxdy],[dxdy,dydy]])\n",
    "    return hess\n",
    "f_hess(1,5)"
   ]
  },
  {
   "cell_type": "code",
   "execution_count": null,
   "metadata": {},
   "outputs": [],
   "source": [
    "def newtons_meth(x,y):\n",
    "    pass"
   ]
  }
 ],
 "metadata": {
  "interpreter": {
   "hash": "78706c31b69ede7c2c34732072d004318d4815f038b3d91e252f917f8ecd20eb"
  },
  "kernelspec": {
   "display_name": "Python 3.9.7 64-bit ('math857': conda)",
   "language": "python",
   "name": "python3"
  },
  "language_info": {
   "codemirror_mode": {
    "name": "ipython",
    "version": 3
   },
   "file_extension": ".py",
   "mimetype": "text/x-python",
   "name": "python",
   "nbconvert_exporter": "python",
   "pygments_lexer": "ipython3",
   "version": "3.9.7"
  },
  "orig_nbformat": 4
 },
 "nbformat": 4,
 "nbformat_minor": 2
}
