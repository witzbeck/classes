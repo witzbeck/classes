{
 "cells": [
  {
   "cell_type": "code",
   "execution_count": 3,
   "metadata": {},
   "outputs": [],
   "source": [
    "from scipy.stats import norm, invgamma\n",
    "from math import sqrt\n"
   ]
  },
  {
   "attachments": {},
   "cell_type": "markdown",
   "metadata": {},
   "source": [
    "Chapter 6 | 3, 4, 6, 7, 9"
   ]
  },
  {
   "cell_type": "code",
   "execution_count": 4,
   "metadata": {},
   "outputs": [
    {
     "data": {
      "text/plain": [
       "<scipy.stats._distn_infrastructure.rv_continuous_frozen at 0x7fa47fc7b6a0>"
      ]
     },
     "execution_count": 4,
     "metadata": {},
     "output_type": "execute_result"
    }
   ],
   "source": [
    "\"\"\"\n",
    "Question 3:\n",
    "Xbar = mean(16 independent normal random vars)\n",
    "Can be summarized as N(0, 1/16)\n",
    "\n",
    "Find c such that P(|Xbar| < c) = 0.5\n",
    "P(|Xbar| < c) = P(Xbar < c) - P(-Xbar < c)\n",
    "P(|Xbar| < c) = P(Xbar < c) - P(Xbar > c)\n",
    "P(|Xbar| < c) = P(Xbar < c) - (1 - P(Xbar < c))\n",
    "0.5  = 2 * P(Xbar < c) - 1\n",
    "-- make func\n",
    "0.5 = 2 * Fx(c) - 1\n",
    "0.5 = 2 * IO((c - 0) / sqrt(1/16)) - 1\n",
    "1.5 = 2 * IO((c) / (1/4))\n",
    "invgamma(0.75) = invgamma(IO(4c))\n",
    "--standardize\n",
    "--then solve\n",
    "\"\"\"\n",
    "mean = 0\n",
    "std_dev = 1 / 16\n",
    "var = sqrt(std_dev)\n",
    "\n",
    "avg_norm_series = lambda i, n: sum([sum(norm(0, 1).rvs(n)) / n for j in range(i)])\n",
    "avg_norm_series(16, 100)\n",
    "invgamma(0.75)"
   ]
  },
  {
   "cell_type": "code",
   "execution_count": 7,
   "metadata": {},
   "outputs": [
    {
     "name": "stdout",
     "output_type": "stream",
     "text": [
      "c = 0.16862243754902043\n"
     ]
    }
   ],
   "source": [
    "# Question 3\n",
    "from scipy.stats import norm    \n",
    "\n",
    "# use inverse of norm cdf to calc c \n",
    "c = norm.ppf(0.75) / 4\n",
    "print(f\"c = {c}\")"
   ]
  },
  {
   "cell_type": "code",
   "execution_count": 8,
   "metadata": {},
   "outputs": [
    {
     "name": "stdout",
     "output_type": "stream",
     "text": [
      "4a = -1.8945786050613054\n",
      "4b = 1.894578605061305\n"
     ]
    }
   ],
   "source": [
    "# Question 4\n",
    "from scipy.stats import t   \n",
    "dof = 7                     # degrees of freedom\n",
    "a = t.ppf(0.05, dof)      \n",
    "b = t.ppf(0.95, dof)\n",
    "print(f\"4a = {a}\")\n",
    "print(f\"4b = {b}\")"
   ]
  },
  {
   "cell_type": "code",
   "execution_count": null,
   "metadata": {},
   "outputs": [],
   "source": []
  }
 ],
 "metadata": {
  "kernelspec": {
   "display_name": "math856",
   "language": "python",
   "name": "python3"
  },
  "language_info": {
   "codemirror_mode": {
    "name": "ipython",
    "version": 3
   },
   "file_extension": ".py",
   "mimetype": "text/x-python",
   "name": "python",
   "nbconvert_exporter": "python",
   "pygments_lexer": "ipython3",
   "version": "3.10.4"
  },
  "orig_nbformat": 4,
  "vscode": {
   "interpreter": {
    "hash": "74aa70bb94be14790dcb80ccfd636fb6b6fe9e86cfb6c131c017d9eab8b217b9"
   }
  }
 },
 "nbformat": 4,
 "nbformat_minor": 2
}
