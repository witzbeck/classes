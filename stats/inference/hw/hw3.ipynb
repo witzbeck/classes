{
 "cells": [
  {
   "attachments": {},
   "cell_type": "markdown",
   "metadata": {},
   "source": [
    "Alex Beckwith\n",
    "\n",
    "Math856\n",
    "\n",
    "hw3"
   ]
  },
  {
   "attachments": {},
   "cell_type": "markdown",
   "metadata": {},
   "source": [
    "Chapter 8:\n",
    "\n",
    "5abc, 7ab, 21ab, 47ab, 50ab"
   ]
  },
  {
   "attachments": {},
   "cell_type": "markdown",
   "metadata": {},
   "source": [
    "Problem 5 (pg 314):\n",
    "\n",
    "a. for a discrete rv, EX = Σ(k * P(X = k) ... n * P(X = n))\n",
    "\n",
    "for this rv,\n",
    "\n",
    "EX = 1 * P(X = 1) + 2 * P(X = 2)\n",
    "\n",
    "5/3 = 1 * θ + 2 * (1 - θ)\n",
    "\n",
    "5/3 = 2 - θ\n",
    "\n",
    "θ = 1/3"
   ]
  },
  {
   "attachments": {},
   "cell_type": "markdown",
   "metadata": {},
   "source": [
    "5b: What is the likelihood function?\n",
    "\n",
    "lik(θ) = Π(f(Xi | θ))\n",
    "\n",
    "lik(θ) = p(x=1; θ)^n1 * p(x=2; θ)^n2\n",
    "\n",
    "lik(θ) = (θ)^n1 * (1 - θ)^n2"
   ]
  },
  {
   "attachments": {},
   "cell_type": "markdown",
   "metadata": {},
   "source": [
    "5c: What is the maximum likelihood estimate of θ?\n",
    "\n",
    "loglik(θ) = n1*log(θ) + n2*log(1 - θ)\n",
    "\n",
    "dloglik(θ)/dθ = n1 / θ + n2 / (1 - θ)\n",
    "\n",
    "-n1 / θ = n2 / (1 - θ)\n",
    "\n",
    "-n1 / n2 = θ - θ^2"
   ]
  },
  {
   "cell_type": "code",
   "execution_count": 1,
   "metadata": {},
   "outputs": [
    {
     "data": {
      "text/plain": [
       "1.6666666666666667"
      ]
     },
     "execution_count": 1,
     "metadata": {},
     "output_type": "execute_result"
    }
   ],
   "source": [
    "# X is discrete rand var\n",
    "X = {\n",
    "    1: \"theta\",\n",
    "    2: \"1-theta\"\n",
    "}\n",
    "x_obs = [1, 2, 2]\n",
    "EX = x_avg = sum(x_obs) / len(x_obs)\n",
    "\n"
   ]
  },
  {
   "cell_type": "code",
   "execution_count": null,
   "metadata": {},
   "outputs": [],
   "source": []
  }
 ],
 "metadata": {
  "kernelspec": {
   "display_name": "algofi",
   "language": "python",
   "name": "python3"
  },
  "language_info": {
   "codemirror_mode": {
    "name": "ipython",
    "version": 3
   },
   "file_extension": ".py",
   "mimetype": "text/x-python",
   "name": "python",
   "nbconvert_exporter": "python",
   "pygments_lexer": "ipython3",
   "version": "3.10.8"
  },
  "orig_nbformat": 4,
  "vscode": {
   "interpreter": {
    "hash": "e4c811bee47d8c90b3eff8a9506211954d5d179212002b4a6acca2329b32ea02"
   }
  }
 },
 "nbformat": 4,
 "nbformat_minor": 2
}
