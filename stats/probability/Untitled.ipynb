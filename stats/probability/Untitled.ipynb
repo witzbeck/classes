{
 "cells": [
  {
   "cell_type": "code",
   "execution_count": null,
   "id": "d64bed4d",
   "metadata": {},
   "outputs": [],
   "source": [
    "\"\"\"\n",
    "a) Customers arrive at a coffee place at a rate of 5 / minute.  \n",
    "Assuming a Poisson process, \n",
    "find the probability that at most 7 cust arrive in the next 2 minutes.\n",
    "b) Based on properties of a Poisson process, find (without calculation) :\n",
    "Given that 7 customers have arrived in the first 2 minutes, what is the probability that 7 customers will arrive in the third minute?\n",
    "\n",
    "\n",
    "\"\"\""
   ]
  },
  {
   "cell_type": "code",
   "execution_count": 16,
   "id": "b8d417f4",
   "metadata": {},
   "outputs": [
    {
     "name": "stdout",
     "output_type": "stream",
     "text": [
      "The probability that at least 7 cust\n",
      " come in the next 2 min is: 0.22022064660169896\n"
     ]
    }
   ],
   "source": [
    "import numpy as  np\n",
    "\n",
    "#The probability that at most 7 customers arrive\n",
    "#in the next two minutes if the rate is 5cust/min\n",
    "\n",
    "#This function calculates the probability of \n",
    "#a number of occurances within a period, given a rate\n",
    "def poisson(instances,period,rate):\n",
    "    lam = rate*period\n",
    "    numerator = (lam**instances)*np.exp(-lam)\n",
    "    denominator = np.math.factorial(instances)\n",
    "    return numerator/denominator\n",
    "\n",
    "#This list comprehension creates an array of the \n",
    "#probabilities of 0 to 7 customers coming in the next 2 min\n",
    "chances = [poisson(x,2,5) for x in np.arange(0,8)]\n",
    "odds_of_atleast_7in2 = np.sum(chances)\n",
    "\n",
    "print(\"The probability that at least 7 cust\\n\",\n",
    "      \"come in the next 2 min is:\",odds_of_atleast_7in2)    "
   ]
  },
  {
   "cell_type": "code",
   "execution_count": 20,
   "id": "b6ddf4bc",
   "metadata": {},
   "outputs": [
    {
     "name": "stdout",
     "output_type": "stream",
     "text": [
      "0.11512414130468682\n"
     ]
    }
   ],
   "source": [
    "#Using my previously defined Poisson function,\n",
    "#P(7in3|7in2) = P(7in3/P(7in2) \n",
    "\n",
    "odds_7in2 = poisson(7,2,5)\n",
    "odds_7in3 = poisson(7,3,5)\n",
    "\n",
    "print(odds_7in3/odds_7in2)"
   ]
  },
  {
   "cell_type": "code",
   "execution_count": 45,
   "id": "728d1006",
   "metadata": {},
   "outputs": [
    {
     "name": "stdout",
     "output_type": "stream",
     "text": [
      "16.0\n"
     ]
    }
   ],
   "source": [
    "def val(heads):\n",
    "    return 2**(heads-1)\n",
    "def prob(heads):\n",
    "    return (.5)**heads\n",
    "def oddsnwins(heads):\n",
    "    if heads==0:\n",
    "        return 1\n",
    "    else:\n",
    "        return val(heads)*prob(heads)\n",
    "    \n",
    "#odds4_64 = 1-np.sum([(0.5)**k for k in np.arange(1,8)])\n",
    "#print(odds4_64)\n",
    "exp = [oddsnwins(k) for k in np.arange(0,31)]\n",
    "print(np.sum(exp))"
   ]
  },
  {
   "cell_type": "code",
   "execution_count": null,
   "id": "00206e66",
   "metadata": {},
   "outputs": [],
   "source": []
  }
 ],
 "metadata": {
  "kernelspec": {
   "display_name": "Python 3 (ipykernel)",
   "language": "python",
   "name": "python3"
  },
  "language_info": {
   "codemirror_mode": {
    "name": "ipython",
    "version": 3
   },
   "file_extension": ".py",
   "mimetype": "text/x-python",
   "name": "python",
   "nbconvert_exporter": "python",
   "pygments_lexer": "ipython3",
   "version": "3.9.5"
  }
 },
 "nbformat": 4,
 "nbformat_minor": 5
}
