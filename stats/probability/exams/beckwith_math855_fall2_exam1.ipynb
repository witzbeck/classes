{
 "cells": [
  {
   "cell_type": "markdown",
   "metadata": {},
   "source": [
    "Alexander Beckwith\n",
    "\n",
    "Math 855 - Prob w/ Applications\n",
    "\n",
    "Exam 1"
   ]
  },
  {
   "cell_type": "code",
   "execution_count": 27,
   "metadata": {},
   "outputs": [],
   "source": [
    "from math import comb\n",
    "\n",
    "# local imports\n",
    "from prob_dist import binom, pois_dist, hgeom, geom\n",
    "from samplespace import CoinSampleSpace"
   ]
  },
  {
   "cell_type": "markdown",
   "metadata": {},
   "source": [
    "1. (5pts) In a game of poker, what is the probability that a five-card hand from a 52-card deck (i.e., 13\n",
    "different values and 4 different suits)\n",
    "\n",
    "(a) (3pts) will contain exact one ace?\n",
    "\n",
    "(b) (2pts) will contain exact one pair?"
   ]
  },
  {
   "cell_type": "markdown",
   "metadata": {},
   "source": [
    "5a | This situation can be modelled using a hypergeometric frequency function with parameters:"
   ]
  },
  {
   "cell_type": "code",
   "execution_count": 28,
   "metadata": {},
   "outputs": [
    {
     "name": "stdout",
     "output_type": "stream",
     "text": [
      "5a | The probability of drawing exactly one ace when drawing 5 cards from a standard deck is 0.2995\n"
     ]
    }
   ],
   "source": [
    "n = 52      # the number of cards in a deck\n",
    "r = 4       # the number of aces in a deck\n",
    "m = 5       # the number of cards to be drawn\n",
    "k = 1       # the number of aces to be drawn\n",
    "result = hgeom(k, n, r, m)\n",
    "print(f\"5a | The probability of drawing exactly one ace when drawing 5 cards from a standard deck is {round(result, 4)}\")"
   ]
  },
  {
   "cell_type": "markdown",
   "metadata": {},
   "source": [
    "5b | The probability of drawing exactly one pair when drawing 5 cards from a standard deck is as follows:"
   ]
  },
  {
   "cell_type": "code",
   "execution_count": 5,
   "metadata": {},
   "outputs": [],
   "source": [
    "ways_pick5_from52 = comb(52, 5)\n",
    "# there are 13 different card categories that make pairs\n",
    "ways_pair_from5 = 0"
   ]
  },
  {
   "cell_type": "markdown",
   "metadata": {},
   "source": [
    "2. (5pts) A drawer of socks contains seven black socks, eight blue socks, and nine green socks. Two\n",
    "socks are chosen in the dark.\n",
    "\n",
    "(a) (3pts) What is the probability that they match?\n",
    "\n",
    "(b) (2pts) What is the probability that a black pair is chosen?"
   ]
  },
  {
   "cell_type": "code",
   "execution_count": 29,
   "metadata": {},
   "outputs": [
    {
     "name": "stdout",
     "output_type": "stream",
     "text": [
      "2a | The prob that a match is chosen is 0.2935\n",
      "2b | The prob that a black pair is chosen is 0.0761\n"
     ]
    }
   ],
   "source": [
    "# setting values\n",
    "blk = 7\n",
    "blu = 8\n",
    "grn = 9\n",
    "sox = blk + blu + grn\n",
    "\n",
    "# prob of each during first pick\n",
    "p_blu = blu / sox\n",
    "p_blk = blk / sox\n",
    "p_grn = grn / sox\n",
    "\n",
    "# changes to counts after first pick\n",
    "blk -= 1\n",
    "blu -= 1\n",
    "grn -= 1\n",
    "sox -= 1\n",
    "\n",
    "# prob of picking match for each on 2nd pick\n",
    "p_blu_blu = p_blu * (blu / sox)\n",
    "p_blk_blk = p_blk * (blk / sox)\n",
    "p_grn_grn = p_blu * (grn / sox)\n",
    "\n",
    "# prob of any of these situations happening\n",
    "p_pair = p_blk_blk + p_blu_blu + p_grn_grn\n",
    "\n",
    "print(f\"2a | The prob that a match is chosen is {round(p_pair, 4)}\")\n",
    "print(f\"2b | The prob that a black pair is chosen is {round(p_blk_blk, 4)}\")"
   ]
  },
  {
   "cell_type": "markdown",
   "metadata": {},
   "source": [
    "3. (6pts) Suppose that 5 cards are dealt from a 52-card deck.\n",
    "\n",
    "(a) (3pts) What is the probability that they contain at least one face cards?\n",
    "\n",
    "(b) (3pts) Given the first one is a face card, what is the probability of at least one more face cards?"
   ]
  },
  {
   "cell_type": "code",
   "execution_count": 30,
   "metadata": {},
   "outputs": [
    {
     "name": "stdout",
     "output_type": "stream",
     "text": [
      "3a | The prob of drawing at least one face card is 0.6717\n",
      "3b | The prob of drawing at least one more face card is 0.5732\n"
     ]
    }
   ],
   "source": [
    "# establish deck and pick counts\n",
    "n_face_cards = 4 * 3\n",
    "n_deck_cards = 52\n",
    "n_not_face = n_deck_cards - n_face_cards\n",
    "\n",
    "# we want complement, so seek prob of no face cards\n",
    "p_no_face = 1\n",
    "p_no_face *= (n_not_face / n_deck_cards)\n",
    "p_no_face *= (n_not_face / (n_deck_cards - 1))\n",
    "p_no_face *= (n_not_face / (n_deck_cards - 2))\n",
    "p_no_face *= (n_not_face / (n_deck_cards - 3))\n",
    "p_no_face *= (n_not_face / (n_deck_cards - 4))\n",
    "\n",
    "# the prob of at least one face card is the complement of drawing no face cards, so:\n",
    "print(f\"3a | The prob of drawing at least one face card is {round(1 - p_no_face, 4)}\")\n",
    "\n",
    "# establish deck and pick counts\n",
    "n_face_cards = 4 * 3 - 1\n",
    "n_deck_cards = 52 - 1\n",
    "n_not_face = n_deck_cards - n_face_cards\n",
    "\n",
    "# we want complement, so seek prob of no face cards\n",
    "p_no_face = 1\n",
    "p_no_face *= (n_not_face / n_deck_cards)\n",
    "p_no_face *= (n_not_face / (n_deck_cards - 1))\n",
    "p_no_face *= (n_not_face / (n_deck_cards - 2))\n",
    "p_no_face *= (n_not_face / (n_deck_cards - 3))\n",
    "\n",
    "# the prob of at least one more face card is the complement of drawing no face cards after the first, so:\n",
    "print(f\"3b | The prob of drawing at least one more face card is {round(1 - p_no_face, 4)}\")\n"
   ]
  },
  {
   "cell_type": "markdown",
   "metadata": {},
   "source": [
    "4. (6pts) A bin contains 3 different types of disposable flashlights. The probability that a type 1\n",
    "flashlight will give over 100 hours of use is 0.7, with the corresponding probabilities for type 2 and type\n",
    "3 flashlights being 0.4 and 0.3, respectively. Suppose that 20 percent of the flashlights in the bin are\n",
    "type 1, 30 percent are type 2 and 50 percent are type 3.\n",
    "\n",
    "(a) (3pts) What is the probability that a randomly chosen flashlight will give more than 100 hours of\n",
    "use?\n",
    "\n",
    "(b) (3pts) Given the flashlight lasted over 100 hours, what is the conditional probability that it was\n",
    "a type 2 flashlight."
   ]
  },
  {
   "cell_type": "code",
   "execution_count": 31,
   "metadata": {},
   "outputs": [
    {
     "name": "stdout",
     "output_type": "stream",
     "text": [
      "4a | The prob of a randomly chosen flashlight lasting over 100h is 0.41\n",
      "4b | Given that the flashlight laster over 100h, the prob that it was type 2 is 0.2927\n"
     ]
    }
   ],
   "source": [
    "# prob of picking each flashlight\n",
    "p_pick_type1 = 0.2\n",
    "p_pick_type2 = 0.3\n",
    "p_pick_type3 = 0.5\n",
    "\n",
    "# prob of each flashlight lasting over 100h\n",
    "p_100h_type1 = 0.7\n",
    "p_100h_type2 = 0.4\n",
    "p_100h_type3 = 0.3\n",
    "\n",
    "# prob of each flashlight being picked and lasting over 100h\n",
    "p_type1_pick100h = p_pick_type1 * p_100h_type1\n",
    "p_type2_pick100h = p_pick_type2 * p_100h_type2\n",
    "p_type3_pick100h = p_pick_type3 * p_100h_type3\n",
    "\n",
    "# total prob of picking flashlight and it lasting over 100h\n",
    "p_total_pick100h = sum([p_type1_pick100h, p_type2_pick100h, p_type3_pick100h])\n",
    "\n",
    "print(f\"4a | The prob of a randomly chosen flashlight lasting over 100h is {round(p_total_pick100h, 4)}\")\n",
    "\n",
    "p_cond_type2 = p_type2_pick100h / p_total_pick100h\n",
    "print(f\"4b | Given that the flashlight laster over 100h, the prob that it was type 2 is {round(p_cond_type2, 4)}\")\n"
   ]
  },
  {
   "cell_type": "markdown",
   "metadata": {},
   "source": [
    "5. (6pts) On a multiple-choice exam with 3 possible answers for each of the 5 questions.\n",
    "\n",
    "(a) (3pts) What is the probability that a student will get 3 correct answers just by guessing?\n",
    "\n",
    "(b) (3pts) What is the probability that a student will get 4 or more correct answers just by guessing?"
   ]
  },
  {
   "cell_type": "code",
   "execution_count": 32,
   "metadata": {},
   "outputs": [
    {
     "name": "stdout",
     "output_type": "stream",
     "text": [
      "5a | The prob of getting 3 correct answers by guessing is 0.1646\n",
      "5b | The prob of getting at least 4 correct answers by guessing is 0.0453\n"
     ]
    }
   ],
   "source": [
    "n_questions = 5\n",
    "p_correct_guess = 1 / 3\n",
    "\n",
    "# can be modelled using binom distribution\n",
    "p_3_correct = binom(n_questions, 3, p_correct_guess)\n",
    "print(f\"5a | The prob of getting 3 correct answers by guessing is {round(p_3_correct, 4)}\")\n",
    "\n",
    "# only 5 questions total, so options for 4 or more are:\n",
    "p_4_correct = binom(n_questions, 4, p_correct_guess)\n",
    "p_5_correct = binom(n_questions, 5, p_correct_guess)\n",
    "\n",
    "p_4plus_correct = p_4_correct + p_5_correct\n",
    "print(f\"5b | The prob of getting at least 4 correct answers by guessing is {round(p_4plus_correct, 4)}\")"
   ]
  },
  {
   "cell_type": "markdown",
   "metadata": {},
   "source": [
    "6. (6pts) Suppose that the number of the accidents occurring on a highway each day is a Poisson\n",
    "random variable with parameter λ = 3.\n",
    "\n",
    "(a) (3pts) Find the probability that 2 or more accidents occur today.\n",
    "\n",
    "(b) (3pts) Repeat part (a) under the assumption that at least 1 accident occurs today."
   ]
  },
  {
   "cell_type": "code",
   "execution_count": 33,
   "metadata": {},
   "outputs": [
    {
     "name": "stdout",
     "output_type": "stream",
     "text": [
      "6a | The prob of 2 or more accidents is the complement of there being one or two accidents, or 0.8009\n",
      "6b | The prob of 2 or more accidents given that one has occurred is the prob of 2+ accidents / prob of 1+ accidents, 0.8428\n"
     ]
    }
   ],
   "source": [
    "# we must assume that the units for lambda are in accidents / day\n",
    "# creating distribution\n",
    "acc_dist = pois_dist(3)\n",
    "\n",
    "# formatting dist as dictionary\n",
    "acc_list = acc_dist[\"x\"]\n",
    "prob_list = acc_dist[\"prob\"]\n",
    "dict_range = range(len(acc_list))\n",
    "\n",
    "acc_dict = {acc_list[i]:prob_list[i] for i in dict_range}\n",
    "prob_0or1 = acc_dict[0] + acc_dict[1]\n",
    "prob_2plus = 1 - prob_0or1\n",
    "print(f\"6a | The prob of 2 or more accidents is the complement of there being one or two accidents, or {round(1 - prob_0or1, 4)}\")\n",
    "\n",
    "prob_not_0 = sum(prob_list[1:])\n",
    "prob_2plus_given1 = prob_2plus / prob_not_0\n",
    "print(f\"6b | The prob of 2 or more accidents given that one has occurred is the prob of 2+ accidents / prob of 1+ accidents, {round(prob_2plus_given1, 4)}\")"
   ]
  },
  {
   "cell_type": "markdown",
   "metadata": {},
   "source": [
    "7. (6pts) When three friends go for coffee, they decide who will pay the check by each flipping a fair\n",
    "coin and then letting the “odd person” pay. If all three flips are the same (so there is no odd person),\n",
    "then they make a second round of flips, and continue to do so until there is an odd person.\n",
    "\n",
    "(a) (3pts) What is the probability that there is an odd person?\n",
    "\n",
    "(b) (3pts) What is the probability that exactly 5 rounds of flips are made?"
   ]
  },
  {
   "cell_type": "code",
   "execution_count": 34,
   "metadata": {},
   "outputs": [
    {
     "name": "stdout",
     "output_type": "stream",
     "text": [
      "Ways to flip 3 coins: ['ttt', 'tth', 'tht', 'thh', 'htt', 'hth', 'hht', 'hhh']\n",
      "7a | The prob of there being an odd person each round of flips is 0.75\n",
      "7b | The prob of there being 5 rounds to get an odd is 0.0029\n"
     ]
    }
   ],
   "source": [
    "css_3flips = CoinSampleSpace(3).ss\n",
    "print(\"Ways to flip 3 coins:\", css_3flips)\n",
    "ways_total = 8\n",
    "ways_odd = 6\n",
    "p_odd = ways_odd / ways_total\n",
    "\n",
    "print(f\"7a | The prob of there being an odd person each round of flips is {p_odd}\")\n",
    "\n",
    "# geometric distribution for prob of rounds til first success\n",
    "prob_5rounds = geom(5, p_odd)\n",
    "print(f\"7b | The prob of there being 5 rounds to get an odd is {round(prob_5rounds, 4)}\")"
   ]
  }
 ],
 "metadata": {
  "kernelspec": {
   "display_name": "Python 3.10.4 ('algofi')",
   "language": "python",
   "name": "python3"
  },
  "language_info": {
   "codemirror_mode": {
    "name": "ipython",
    "version": 3
   },
   "file_extension": ".py",
   "mimetype": "text/x-python",
   "name": "python",
   "nbconvert_exporter": "python",
   "pygments_lexer": "ipython3",
   "version": "3.10.4"
  },
  "orig_nbformat": 4,
  "vscode": {
   "interpreter": {
    "hash": "e4c811bee47d8c90b3eff8a9506211954d5d179212002b4a6acca2329b32ea02"
   }
  }
 },
 "nbformat": 4,
 "nbformat_minor": 2
}
