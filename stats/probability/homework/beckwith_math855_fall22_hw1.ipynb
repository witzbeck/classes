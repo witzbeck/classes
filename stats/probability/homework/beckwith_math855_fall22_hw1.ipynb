{
 "cells": [
  {
   "cell_type": "markdown",
   "metadata": {},
   "source": [
    "Alexander Beckwith\n",
    "\n",
    "Math 855 - Prob w/ Applications\n",
    "\n",
    "HW1\n",
    "\n",
    "check: 16 & 38a"
   ]
  },
  {
   "cell_type": "code",
   "execution_count": 2,
   "metadata": {},
   "outputs": [],
   "source": [
    "# imports\n",
    "from math import comb, perm, factorial as f\n",
    "\n",
    "# 3rd party imports\n",
    "from matplotlib.pyplot import subplots\n",
    "\n",
    "# local imports [I made these -> pls see attached .py files]\n",
    "from samplespace import DiceSampleSpace\n",
    "from sets import intersection, union, complement"
   ]
  },
  {
   "cell_type": "markdown",
   "metadata": {},
   "source": [
    "2 | Two six-sided die are thrown sequentially."
   ]
  },
  {
   "cell_type": "code",
   "execution_count": 2,
   "metadata": {},
   "outputs": [
    {
     "name": "stdout",
     "output_type": "stream",
     "text": [
      "2a | ['11', '12', '13', '14', '15', '16', '21', '22', '23', '24', '25', '26', '31', '32', '33', '34', '35', '36', '41', '42', '43', '44', '45', '46', '51', '52', '53', '54', '55', '56', '61', '62', '63', '64', '65', '66']\n"
     ]
    }
   ],
   "source": [
    "# 2a | List the sample space\n",
    "dss = DiceSampleSpace(2)\n",
    "print(\"2a |\",dss.ss)"
   ]
  },
  {
   "cell_type": "code",
   "execution_count": 19,
   "metadata": {},
   "outputs": [
    {
     "name": "stdout",
     "output_type": "stream",
     "text": [
      "2bi | Sum >= 5 ['14', '15', '16', '23', '24', '25', '26', '32', '33', '34', '35', '36', '41', '42', '43', '44', '45', '46', '51', '52', '53', '54', '55', '56', '61', '62', '63', '64', '65', '66']\n",
      "\n",
      "2bii | First > Second ['21', '31', '32', '41', '42', '43', '51', '52', '53', '54', '61', '62', '63', '64', '65']\n",
      "\n",
      "2biii | First = 4 ['41', '42', '43', '44', '45', '46']\n"
     ]
    }
   ],
   "source": [
    "# 2b | List the elements that make up the following events:\n",
    "\n",
    "# 2bi | The sum of the values is at least five\n",
    "b_i = [x for x in dss.ss if int(x[0]) + int(x[1]) >= 5]\n",
    "print(\"2bi | Sum >= 5\", b_i)\n",
    "print()\n",
    "\n",
    "# 2bii | The value of the first die is higher than the value of the second\n",
    "b_ii = [x for x in dss.ss if int(x[0]) > int(x[1])]\n",
    "print(\"2bii | First > Second\", b_ii)\n",
    "print()\n",
    "\n",
    "# 2bii | The first value is 4\n",
    "b_iii = [x for x in dss.ss if int(x[0]) == 4]\n",
    "print(\"2biii | First = 4\", b_iii)"
   ]
  },
  {
   "cell_type": "code",
   "execution_count": 20,
   "metadata": {},
   "outputs": [
    {
     "name": "stdout",
     "output_type": "stream",
     "text": [
      "2ci | A ∩ C |\n",
      " ['45', '46', '44', '42', '41', '43']\n",
      "\n",
      "2cii | B ∪ C |\n",
      " ['45', '46', '42', '63', '32', '65', '61', '64', '44', '51', '54', '41', '21', '53', '52', '43', '31', '62']\n",
      "\n",
      "2ciii | A ∩ ( B ∪ C ) |\n",
      " ['45', '46', '44', '63', '32', '51', '62', '42', '61', '64', '41', '53', '54', '52', '65', '43']\n"
     ]
    }
   ],
   "source": [
    "A = b_i\n",
    "B = b_ii\n",
    "C = b_iii\n",
    "\n",
    "# 2c | List the elements of the following events:\n",
    "\n",
    "# A ∩ C\n",
    "c_i = intersection(A, C)\n",
    "print(\"2ci | A ∩ C |\\n\", c_i)\n",
    "print()\n",
    "# B ∪ C\n",
    "c_ii = union(B, C)\n",
    "print(\"2cii | B ∪ C |\\n\", c_ii)\n",
    "print()\n",
    "\n",
    "# A ∩ ( B ∪ C )\n",
    "c_iii = intersection(A, c_ii)\n",
    "print(\"2ciii | A ∩ ( B ∪ C ) |\\n\", c_iii)"
   ]
  },
  {
   "cell_type": "markdown",
   "metadata": {},
   "source": [
    "5. Let A and B be arbitrary events. Let C be the event that either A occurs or B occurs, but not both. Express C in terms of A and B using any of the basic operations of union, intersection, and complement."
   ]
  },
  {
   "cell_type": "code",
   "execution_count": 5,
   "metadata": {},
   "outputs": [
    {
     "name": "stdout",
     "output_type": "stream",
     "text": [
      "5 | A or B, not both (using ABC from q2) | ['45', '46', '36', '44', '55', '21', '56', '66', '25', '33', '24', '34', '35', '14', '23', '16', '15', '26', '31']\n"
     ]
    }
   ],
   "source": [
    "# The intersection of the union of A and B with the compliment of the intersection of A and B\n",
    "C = \"(A ∪ B) ∩ (A ∩ B)^c\"\n",
    "\n",
    "# evaluated using functions and sets from above\n",
    "first = union(A, B)                         # first term\n",
    "second = intersection(A, B)                 # second term\n",
    "second_comp = complement(second, first)     # compliment of second term\n",
    "C = intersection(first, second_comp)        # intersection of both terms\n",
    "\n",
    "print(\"5 | A or B, not both (using ABC from q2) |\", C)"
   ]
  },
  {
   "cell_type": "markdown",
   "metadata": {},
   "source": [
    "11. The first three digits of a university telephone exchange are 452. If all the sequences of the remaining four digits are equally likely, what is the probability that a randomly selected university phone number contains seven distinct digits?"
   ]
  },
  {
   "cell_type": "code",
   "execution_count": 6,
   "metadata": {},
   "outputs": [
    {
     "name": "stdout",
     "output_type": "stream",
     "text": [
      "11 | prob of picking phone number with all unique digits = 0.084\n"
     ]
    }
   ],
   "source": [
    "# 10 options for each of 4 numbers\n",
    "total_choices = 10 ** 4\n",
    "\n",
    "# n of distinct options at each pick\n",
    "distinct_choices = 7 * 6 * 5 * 4\n",
    "\n",
    "# associative rule of multiplication, so prob is:\n",
    "prob = round(distinct_choices / total_choices, 3)\n",
    "print(\"11 | prob of picking phone number with all unique digits =\", prob)"
   ]
  },
  {
   "cell_type": "markdown",
   "metadata": {},
   "source": [
    "12. In a game of poker, five players are each dealt 5 cards from a 52-card deck. How many ways are there to deal the cards?"
   ]
  },
  {
   "cell_type": "code",
   "execution_count": 7,
   "metadata": {},
   "outputs": [
    {
     "name": "stdout",
     "output_type": "stream",
     "text": [
      "12 | total ways to deal 5 cards to 5 players:  297686658367751290178415114240\n"
     ]
    }
   ],
   "source": [
    "hand_size = 5\n",
    "\n",
    "# start of cumulative product\n",
    "ways = 1\n",
    "\n",
    "# for each player, possible combinations of cards from remaining cards in deck\n",
    "for i in range(0, 21, hand_size):\n",
    "    \n",
    "    # cards remaining in deck\n",
    "    out_of = 52 - i\n",
    "\n",
    "    # picks for each player\n",
    "    player = comb(out_of, hand_size)\n",
    "    \n",
    "    #cumulative product\n",
    "    ways *= player\n",
    "\n",
    "print(f\"12 | total ways to deal {hand_size} cards to {int(i/hand_size) + 1} players: \", ways)"
   ]
  },
  {
   "cell_type": "markdown",
   "metadata": {},
   "source": [
    "16. How many different letter arrangements can be obtained from the letters of the word statistically, using all the letters?"
   ]
  },
  {
   "cell_type": "code",
   "execution_count": 4,
   "metadata": {},
   "outputs": [
    {
     "name": "stdout",
     "output_type": "stream",
     "text": [
      "16 | there are 129729600 ways to arrange the letters in statistically\n"
     ]
    }
   ],
   "source": [
    "word = \"statistically\"\n",
    "word_len = len(word)\n",
    "\n",
    "# counting letter occurances for interchangeable letters\n",
    "letter_count = {}\n",
    "\n",
    "# if in key list, add one to value, else start key at one\n",
    "for let in word:\n",
    "    count_list = list(letter_count.keys())\n",
    "    if let in count_list:\n",
    "        letter_count[let] = letter_count[let] + 1\n",
    "    else:\n",
    "        letter_count[let] = 1\n",
    "\n",
    "# isolate letters occuring > 1 time\n",
    "vals = [n for n in list(letter_count.values()) if n > 1]\n",
    "\n",
    "# order matters, so number of ways to arrange the letters in order is\n",
    "total_word_perm = f(word_len)\n",
    "perms = int(total_word_perm)\n",
    "\n",
    "# each interchangeable group perm must be divided out from possibilities\n",
    "for n in vals:\n",
    "    perms = int(perms / n)\n",
    "\n",
    "print(f\"16 | there are {perms} ways to arrange the letters in {word}\")"
   ]
  },
  {
   "cell_type": "markdown",
   "metadata": {},
   "source": [
    "17. In acceptance sampling, a purchaser samples 4 items from a lot of 100 and rejects the lot if 1 or more are defective. Graph the probability that the lot is accepted as a function of the percentage of defective items in the lot."
   ]
  },
  {
   "cell_type": "code",
   "execution_count": 9,
   "metadata": {},
   "outputs": [
    {
     "data": {
      "image/png": "[encoded data removed]",
      "text/plain": [
       "<Figure size 432x288 with 1 Axes>"
      ]
     },
     "metadata": {
      "needs_background": "light"
     },
     "output_type": "display_data"
    }
   ],
   "source": [
    "# defining sizes\n",
    "lot_size = 100\n",
    "sample_size = 4\n",
    "\n",
    "# n ways to pick sample from lot\n",
    "total_ways = comb(lot_size, sample_size)\n",
    "\n",
    "x_label = \"ratio of defective items to total items\"\n",
    "\n",
    "# list of possible number of defective items\n",
    "n_defective = x = [i for i in range(lot_size + 1)]\n",
    "\n",
    "# list of ratio of possible defective items to total\n",
    "n_defective_ratio = [m / lot_size for m in n_defective]\n",
    "\n",
    "# creating list of not defective possibilities\n",
    "n_not_defective = [lot_size - o for o in n_defective]\n",
    "\n",
    "# list of number of ways to pick samples from sample from group of non-defective items\n",
    "not_defective_comb = [comb(n, sample_size) for n in n_not_defective]\n",
    "\n",
    "y_label = \"probability of lot acceptance\"\n",
    "\n",
    "# each prob of acceptance is n_ways of the desired outcome\n",
    "# divided by the number of possible outcomes\n",
    "not_reject_probs = [round(n_ways / total_ways, 3) for n_ways in not_defective_comb]\n",
    "\n",
    "def plot_this():\n",
    "    fig, ax = subplots(1, 1)\n",
    "    ax.plot(n_defective_ratio, not_reject_probs)\n",
    "    ax.set_xlabel(x_label)\n",
    "    ax.set_ylabel(y_label)\n",
    "\n",
    "plot_this()"
   ]
  },
  {
   "cell_type": "markdown",
   "metadata": {},
   "source": [
    "\n",
    "20. A deck of 52 cards is shuffled thoroughly. What is the probability that the four\n",
    "aces are all next to each other?"
   ]
  },
  {
   "cell_type": "code",
   "execution_count": 10,
   "metadata": {},
   "outputs": [
    {
     "name": "stdout",
     "output_type": "stream",
     "text": [
      "20 | the prob of all aces being next to each other is 0.00018\n"
     ]
    }
   ],
   "source": [
    "n_deck = 52                     # cards in deck\n",
    "n_aces = 4                      # aces in deck\n",
    "n_others = n_deck - n_aces      # non aces in deck\n",
    "n_places = n_others + 1         # places in deck for aces (47 between plus 2 ends)\n",
    "\n",
    "n_shuffles = f(n_deck)          # number of ways deck can be arranged\n",
    "aces_perm = f(n_aces)           # number of ways aces can be arranged\n",
    "others_perm = f(n_others)       # number of ways other cards can be arranged\n",
    "\n",
    "p_aces_streak = (n_places * aces_perm * others_perm) / n_shuffles\n",
    "print(f\"20 | the prob of all aces being next to each other is {round(p_aces_streak, 5)}\")"
   ]
  },
  {
   "cell_type": "markdown",
   "metadata": {},
   "source": [
    "22. A standard deck of 52 cards is shuffled thoroughly, and n cards are turned up. What is the probability that a face card turns up? For what value of n is this probability about .5?"
   ]
  },
  {
   "cell_type": "code",
   "execution_count": 11,
   "metadata": {},
   "outputs": [
    {
     "name": "stdout",
     "output_type": "stream",
     "text": [
      "22 | the prob of turning a face card is closest to .5 when n = 3 @ 0.553\n"
     ]
    },
    {
     "data": {
      "text/plain": [
       "{'1 cards pulled': 0.231,\n",
       " '2 cards pulled': 0.412,\n",
       " '3 cards pulled': 0.553,\n",
       " '4 cards pulled': 0.662,\n",
       " '5 cards pulled': 0.747}"
      ]
     },
     "execution_count": 11,
     "metadata": {},
     "output_type": "execute_result"
    }
   ],
   "source": [
    "n_suits = 4\n",
    "n_faces = len([\"K\", \"Q\", \"J\"]) * n_suits\n",
    "\n",
    "# this function returns the probability of a particular group of cards\n",
    "# having a member in a certain number of pulled cards\n",
    "\n",
    "def card_prob(n_pull: int,                      # this is my \"n\" from the question\n",
    "              n_deck: int = n_deck,             # 52 cards in a deck (defined above)\n",
    "              n_group: int = n_faces            # face cards are group of interest\n",
    "              ):\n",
    "    # number of cards not in group of interest\n",
    "    n_not_group = n_deck - n_group\n",
    "\n",
    "    # number of possible card pull combos\n",
    "    possible_comb = comb(n_deck, n_pull)        \n",
    "\n",
    "    # number of undesired card pull combos\n",
    "    not_group_comb = comb(n_not_group, n_pull)  \n",
    "\n",
    "    # compliment of undesired combos prob\n",
    "    return 1 - (not_group_comb / possible_comb) \n",
    "\n",
    "# iterating through inputs to see prob results as dict\n",
    "card_tests = {str(i) + \" cards pulled\" : round(card_prob(i), 3) for i in range(1, 6)}\n",
    "print(\"22 | the prob of turning a face card is closest to .5 when n = 3 @\", round(card_prob(3), 3))\n",
    "card_tests"
   ]
  },
  {
   "cell_type": "markdown",
   "metadata": {},
   "source": [
    "24. If n balls are distributed randomly into k urns, what is the probability that the last urn contains j balls?"
   ]
  },
  {
   "cell_type": "code",
   "execution_count": 12,
   "metadata": {},
   "outputs": [
    {
     "data": {
      "text/plain": [
       "0.09198603832420997"
      ]
     },
     "execution_count": 12,
     "metadata": {},
     "output_type": "execute_result"
    }
   ],
   "source": [
    "# this function returns the probability that j_balls \n",
    "# are in a particular urn when n_balls are distributed into k_urns\n",
    "def urn_prob(n_balls: int,\n",
    "             k_urns: int,\n",
    "             j_balls: int\n",
    "             ) -> float:\n",
    "    # the number of ways to pick j balls out of n balls\n",
    "    n_j_ways = comb(n_balls, j_balls)\n",
    "\n",
    "    # the cumulative prob of j balls being in any urn\n",
    "    j_k_probs = (1 / k_urns) ** j_balls\n",
    "\n",
    "    # the prob that the unpicked balls aren't in the picked urn\n",
    "    n_not_j_k_probs = ((k_urns - 1) / k_urns) ** (n_balls - j_balls)\n",
    "\n",
    "    # multiply and return above\n",
    "    prob_j = n_j_ways * j_k_probs * n_not_j_k_probs\n",
    "    return prob_j\n",
    "\n",
    "# proving functionality\n",
    "urn_prob(421, 23, 19)"
   ]
  },
  {
   "cell_type": "markdown",
   "metadata": {},
   "source": [
    "26. The game of Mastermind starts in the following way: One player selects four pegs, each peg having six possible colors, and places them in a line. The second player then tries to guess the sequence of colors. What is the probability of guessing correctly?"
   ]
  },
  {
   "cell_type": "code",
   "execution_count": 13,
   "metadata": {},
   "outputs": [
    {
     "name": "stdout",
     "output_type": "stream",
     "text": [
      "26 | the prob of guessing all pegs correctly is 0.00077\n"
     ]
    }
   ],
   "source": [
    "\"\"\" assumptions:\n",
    "        each color is equally likely for each peg\n",
    "        the guessing player is guessing randomly\n",
    "        each decision is independent\n",
    "\"\"\"\n",
    "n_colors = 6\n",
    "n_pegs = 4\n",
    "\n",
    "# the prob of any one guess is one over the n_options \n",
    "p_one_guess = 1 / n_colors\n",
    "\n",
    "# the prob of all guesses is a function of the number of picks\n",
    "p_x_guesses = lambda x: p_one_guess ** x\n",
    "\n",
    "# which in this case is the number of pegs\n",
    "p_pegs = round(p_x_guesses(n_pegs), 5)\n",
    "\n",
    "print(f\"26 | the prob of guessing all pegs correctly is {p_pegs}\")"
   ]
  },
  {
   "cell_type": "markdown",
   "metadata": {},
   "source": [
    "\n",
    "27. If a five-letter word is formed at random (meaning that all sequences of five letters\n",
    "are equally likely), what is the probability that no letter occurs more than once?"
   ]
  },
  {
   "cell_type": "code",
   "execution_count": 14,
   "metadata": {},
   "outputs": [
    {
     "name": "stdout",
     "output_type": "stream",
     "text": [
      "27 | the prob of five distinct letter picks in a row is 0.66437\n"
     ]
    }
   ],
   "source": [
    "picks = 5\n",
    "letters = 26\n",
    "def p_distinct_choices(seq_len: int,        # how many sequential picks\n",
    "                       choice_pool: int     # how many beginning options\n",
    "                       ) -> float:\n",
    "    distinct_choices = int(choice_pool)     # when beginning, all choices are distinct\n",
    "    prob = 1                                # and the probability of a distinct pick is 1\n",
    "    \n",
    "    for i in range(seq_len):\n",
    "        # as the sequence progresses, the n_choices remains the same\n",
    "        p_distinct_choice = distinct_choices / choice_pool\n",
    "        \n",
    "        # the prob of a distinct choice is n_distinct / total\n",
    "        # we'll make a cumulative product to chain the probabilities\n",
    "        prob *= p_distinct_choice\n",
    "\n",
    "        # but the n_distinct choices decrements\n",
    "        distinct_choices -= 1\n",
    "    return prob\n",
    "\n",
    "five_distinct_prob = round(p_distinct_choices(picks, letters), 5)\n",
    "\n",
    "print(f\"27 | the prob of five distinct letter picks in a row is {five_distinct_prob}\")"
   ]
  },
  {
   "cell_type": "markdown",
   "metadata": {},
   "source": [
    "32. A wine taster claims that she can distinguish four vintages of a particular Cabernet. What is the probability that she can do this by merely guessing? (She is confronted with four unlabeled glasses.)"
   ]
  },
  {
   "cell_type": "code",
   "execution_count": 15,
   "metadata": {},
   "outputs": [
    {
     "name": "stdout",
     "output_type": "stream",
     "text": [
      "32 | the probability of the taster guessing all 4 vintages correctly is 0.04167\n"
     ]
    }
   ],
   "source": [
    "n_vintages = 4                          # there are four vintages\n",
    "n_ways_to_choose = perm(n_vintages)     # order matters because no vintage is interchangeable\n",
    "p_one_correct = 1 / n_ways_to_choose    # only one arrangement is correct\n",
    "\n",
    "print(f\"32 | the probability of the taster guessing all {n_vintages}\",\n",
    "      f\"vintages correctly is {round(p_one_correct, 5)}\")"
   ]
  },
  {
   "cell_type": "markdown",
   "metadata": {},
   "source": [
    "38. A child has six blocks, three of which are red and three of which are green. How many patterns can she make by placing them all in a line? If she is given three white blocks, how many total patterns can she make by placing all nine blocks in a line?"
   ]
  },
  {
   "cell_type": "code",
   "execution_count": 16,
   "metadata": {},
   "outputs": [
    {
     "name": "stdout",
     "output_type": "stream",
     "text": [
      "38a |\n",
      "with 3 colors having 2 blocks each:\n",
      "arrangements if all blocks unique: 720\n",
      "arrangements after interchangeable permutations removed: 90\n",
      "38b |\n",
      "with 3 colors having 3 blocks each:\n",
      "arrangements if all blocks unique: 362880\n",
      "arrangements after interchangeable permutations removed: 1680\n"
     ]
    }
   ],
   "source": [
    "# a function of the number of colors and blocks per color\n",
    "# assuming same number of blocks per color\n",
    "\n",
    "def arrange_blocks(n_colors: int,\n",
    "                   blocks_per_color: int,\n",
    "                   ) -> int:\n",
    "\n",
    "    print(f\"with {n_colors} colors having {blocks_per_color} blocks each:\")\n",
    "    \n",
    "    total_blocks = blocks_per_color * n_colors\n",
    "    total_arrangements = perm(total_blocks)\n",
    "    \n",
    "    print(f\"arrangements if all blocks unique: {total_arrangements}\")\n",
    "    \n",
    "    for n in range(1, n_colors + 1):\n",
    "        total_arrangements = int(total_arrangements / perm(blocks_per_color))\n",
    "    \n",
    "    # each group of blocks is mututally interchangeable, \n",
    "    # therefore those permutations must be removed\n",
    "\n",
    "    print(f\"arrangements after interchangeable permutations removed: {total_arrangements}\")\n",
    "\n",
    "print(\"38a |\")\n",
    "arrange_blocks(3, 2)\n",
    "print(\"38b |\")\n",
    "arrange_blocks(3, 3)"
   ]
  },
  {
   "cell_type": "markdown",
   "metadata": {},
   "source": [
    "41. A drawer of socks contains seven black socks, eight blue socks, and nine green socks. Two socks are chosen in the dark.\n",
    "\n",
    "a. What is the probability that they match?\n",
    "\n",
    "b. What is the probability that a black pair is chosen?"
   ]
  },
  {
   "cell_type": "code",
   "execution_count": 17,
   "metadata": {},
   "outputs": [
    {
     "name": "stdout",
     "output_type": "stream",
     "text": [
      "41a | the prob of any pair is 0.30797\n",
      "41b | the prob of a blk pair is 0.07609\n"
     ]
    }
   ],
   "source": [
    "# set variables for sock counts\n",
    "# compute total socks\n",
    "blu = 8\n",
    "blk = 7\n",
    "grn = 9\n",
    "sox = blu + blk + grn\n",
    "\n",
    "# the probability of each sock picked\n",
    "# is its count / total socks\n",
    "p_blu = blu / sox\n",
    "p_blk = blk / sox\n",
    "p_grn = grn / sox\n",
    "\n",
    "# since a hypothetical sock has been picked\n",
    "# we'll decrement each count by one\n",
    "blu -= 1\n",
    "blk -= 1\n",
    "grn -= 1\n",
    "sox -= 1\n",
    "\n",
    "# the prob of each sock picked again is \n",
    "# the prob of being picked initially times\n",
    "# the ratio of its remaining socks to remaining total\n",
    "p_blu_blu = p_blu * (blu / sox)\n",
    "p_blk_blk = p_blk * (blk / sox)\n",
    "p_grn_grn = p_grn * (grn / sox)\n",
    "\n",
    "# the prob of any pair is an \"or\" situation\n",
    "# therefore it's the sum of each situation\n",
    "p_pair = p_blu_blu + p_blk_blk + p_grn_grn\n",
    "\n",
    "print(f\"41a | the prob of any pair is {round(p_pair, 5)}\")\n",
    "print(f\"41b | the prob of a blk pair is {round(p_blk_blk, 5)}\")"
   ]
  },
  {
   "cell_type": "markdown",
   "metadata": {},
   "source": [
    "42. How many ways can 11 boys on a soccer team be grouped into 4 forwards, 3 midfielders, 3 defenders, and 1 goalie?"
   ]
  },
  {
   "cell_type": "code",
   "execution_count": 18,
   "metadata": {},
   "outputs": [
    {
     "name": "stdout",
     "output_type": "stream",
     "text": [
      "42 [perm]| there are 46200 ways to group 11 players into positions of group sizes [4, 3, 3, 1]\n",
      "42 [comb]| there are 46200 ways to group 11 players into positions of group sizes [4, 3, 3, 1]\n"
     ]
    }
   ],
   "source": [
    "# number of players\n",
    "players = 11\n",
    "\n",
    "# number of ordered arrangement of players\n",
    "total_ways = perm(players)\n",
    "\n",
    "# group sizes for positions\n",
    "position_fill_list = [4, 3, 3, 1]\n",
    "\n",
    "# internal number of group arrangements\n",
    "position_ways = [perm(pos) for pos in position_fill_list]\n",
    "\n",
    "# permutation method:\n",
    "# divide internal arrangements of each position\n",
    "# by ordered arrangement of all players\n",
    "for ways in position_ways:\n",
    "    total_ways = int(total_ways / ways)\n",
    "\n",
    "print(f\"42 [perm]| there are {total_ways} ways to group {players} players\",\n",
    "      f\"into positions of group sizes {position_fill_list}\"\n",
    "      )\n",
    "\n",
    "# combination method:\n",
    "# multiply unordered position picks\n",
    "# from remaining player pool \n",
    "n_players = int(players)\n",
    "comb_ways = 1\n",
    "\n",
    "for pick_players in position_fill_list:\n",
    "    position_pick = comb(n_players, pick_players)\n",
    "    comb_ways *= position_pick\n",
    "    n_players -= pick_players\n",
    "\n",
    "print(f\"42 [comb]| there are {comb_ways} ways to group {players} players\",\n",
    "      f\"into positions of group sizes {position_fill_list}\"\n",
    "      )"
   ]
  }
 ],
 "metadata": {
  "kernelspec": {
   "display_name": "Python 3.10.4 ('algofi')",
   "language": "python",
   "name": "python3"
  },
  "language_info": {
   "codemirror_mode": {
    "name": "ipython",
    "version": 3
   },
   "file_extension": ".py",
   "mimetype": "text/x-python",
   "name": "python",
   "nbconvert_exporter": "python",
   "pygments_lexer": "ipython3",
   "version": "3.10.4"
  },
  "orig_nbformat": 4,
  "vscode": {
   "interpreter": {
    "hash": "e4c811bee47d8c90b3eff8a9506211954d5d179212002b4a6acca2329b32ea02"
   }
  }
 },
 "nbformat": 4,
 "nbformat_minor": 2
}
