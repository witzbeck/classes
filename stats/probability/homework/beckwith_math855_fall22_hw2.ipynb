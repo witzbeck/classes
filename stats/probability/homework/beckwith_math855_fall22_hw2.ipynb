{
 "cells": [
  {
   "cell_type": "markdown",
   "metadata": {},
   "source": [
    "Alexander Beckwith\n",
    "\n",
    "Math 855 - Prob w/ Applications\n",
    "\n",
    "HW2"
   ]
  },
  {
   "cell_type": "code",
   "execution_count": 1,
   "metadata": {},
   "outputs": [],
   "source": [
    "# 3rd party imports\n",
    "from matplotlib.pyplot import subplots as plt\n",
    "\n",
    "# local imports\n",
    "from samplespace import DiceSampleSpace, CoinSampleSpace"
   ]
  },
  {
   "cell_type": "markdown",
   "metadata": {},
   "source": [
    "Problems from Chapter 1: (page 30):  46, 48, 49, 50, 52, 56, 59, 60, 74 and 77. Total points 30\"=10*3\"."
   ]
  },
  {
   "cell_type": "markdown",
   "metadata": {},
   "source": [
    "46. Urn A has three red balls and two white balls, and urn B has two red balls and five white balls. A fair coin is tossed. If it lands heads up, a ball is drawn from urn A; otherwise, a ball is drawn from urn B.\n",
    "\n",
    "a. What is the probability that a red ball is drawn?\n",
    "\n",
    "b. If a red ball is drawn, what is the probability that the coin landed heads up?"
   ]
  },
  {
   "cell_type": "code",
   "execution_count": 14,
   "metadata": {},
   "outputs": [
    {
     "name": "stdout",
     "output_type": "stream",
     "text": [
      "We'll create two Urn objects to represent urn A and B.\n",
      "Urn A: I am an urn with 2 white balls and 3 red balls.\n",
      "Urn B: I am an urn with 5 white balls and 2 red balls. \n",
      "\n",
      "Flipping a coin means each urn has a probability of being chosen of 0.5.\n",
      "This is conditional probability, so we need to show: P( A | B ) = P( A ∩ B) / P( B )\n",
      "\n",
      "The prob of urn A being chosen and a red ball being chosen from urn A is 0.3\n",
      "The prob of urn B being chosen and a red ball being chosen from urn B is 0.1429\n",
      "\n",
      "46a | the total probability of choosing a red ball from either is the sum, 0.4429\n",
      "\n",
      "\tP( Head | Red ) = P ( Head ∩ Red ) / P( Red )\n",
      "46b | the probability of a head having been flipped when a red ball was chosen is 0.6774\n"
     ]
    }
   ],
   "source": [
    "class Urn:\n",
    "    # this function sums the red and white balls to form the urn's total_balls\n",
    "    def _set_total_balls(self):\n",
    "        self.total_balls = self.red_balls + self.white_balls\n",
    "    \n",
    "    # this function divides the white balls by the total balls\n",
    "    # to get the prob of picking white from the urn\n",
    "    def _set_white_prob(self):\n",
    "        self.white_prob = self.white_balls / self.total_balls\n",
    "    \n",
    "    # this function divides the red balls by the total balls\n",
    "    # to get the prob of picking red from the urn\n",
    "    def _set_red_prob(self):\n",
    "        self.red_prob = self.red_balls/self.total_balls\n",
    "\n",
    "    # this function instantiates the urn object with the count of red and white balls as arguments\n",
    "    # it then calls the set functions to perform the above calculations\n",
    "    def __init__(self, white_balls, red_balls):\n",
    "        self.white_balls = white_balls\n",
    "        self.red_balls = red_balls\n",
    "        self._set_total_balls()\n",
    "        self._set_red_prob()\n",
    "        self._set_white_prob()\n",
    "    \n",
    "    # this function produces the object's response when called by the print function\n",
    "    def __repr__(self):\n",
    "        return f\"I am an urn with {self.white_balls} white balls and {self.red_balls} red balls.\"\n",
    "\n",
    "print(\"We'll create two Urn objects to represent urn A and B.\")\n",
    "urn_a = Urn(2, 3)\n",
    "urn_b = Urn(5, 2)\n",
    "\n",
    "print(\"Urn A:\", urn_a)\n",
    "print(\"Urn B:\", urn_b, \"\\n\")\n",
    "\n",
    "# an urn is chosen by coin flip\n",
    "# therefore, either urn being chosen has a probability:\n",
    "coin_prob = 0.5\n",
    "print(f\"Flipping a coin means each urn has a probability of being chosen of {coin_prob}.\")\n",
    "\n",
    "print(\"This is conditional probability, so we need to show: P( A | B ) = P( A ∩ B) / P( B )\\n\")\n",
    "# we must consider the prob of a red ball being chosen\n",
    "# along with the prob of each urn\n",
    "prob_urn_a_red_ball = round(coin_prob * urn_a.red_prob, 4)\n",
    "prob_urn_b_red_ball = round(coin_prob * urn_b.red_prob, 4)\n",
    "print(f\"The prob of urn A being chosen and a red ball being chosen from urn A is {prob_urn_a_red_ball}\")\n",
    "print(f\"The prob of urn B being chosen and a red ball being chosen from urn B is {prob_urn_b_red_ball}\\n\")\n",
    "\n",
    "prob_red_ball = prob_urn_a_red_ball + prob_urn_b_red_ball\n",
    "print(f\"46a | the total probability of choosing a red ball from either is the sum, {round(prob_red_ball, 4)}\\n\")\n",
    "\n",
    "# a head is associated with pulling from urn a,\n",
    "# so if a red ball was chosen, \n",
    "prob_urn_a_given_red = prob_urn_a_red_ball / prob_red_ball\n",
    "print(\"\\tP( Head | Red ) = P ( Head ∩ Red ) / P( Red )\")\n",
    "print(f\"46b | the probability of a head having been flipped when a red ball was chosen is {round(prob_urn_a_given_red, 4)}\")"
   ]
  },
  {
   "cell_type": "markdown",
   "metadata": {},
   "source": [
    "48. An urn contains three red and two white balls. A ball is drawn, and then it and another ball of the same color are placed back in the urn. Finally, a second ball is drawn.\n",
    "\n",
    "a. What is the probability that the second ball drawn is white?\n",
    "\n",
    "b. If the second ball drawn is white, what is the probability that the first ball\n",
    "drawn was red?"
   ]
  },
  {
   "cell_type": "code",
   "execution_count": 15,
   "metadata": {},
   "outputs": [
    {
     "name": "stdout",
     "output_type": "stream",
     "text": [
      "We'll create three urn objects, one to represent the first choice and the others to represent the options of the second round.\n",
      "\tUrn Start: I am an urn with 2 white balls and 3 red balls.\n",
      "\tUrn if first red: I am an urn with 2 white balls and 4 red balls.\n",
      "\tUrn if first white: I am an urn with 3 white balls and 3 red balls. \n",
      "\n",
      "The prob of the second ball drawn being white is the sum of the prob of those cases.\n",
      "\tThe prob of picking white after first picking white is 0.2\n",
      "\tThe prob of picking white after first picking red is 0.2\n",
      "48a | the prob of the second ball being white is the sum, 0.4\n",
      "\n",
      "\tP( Red1 | White2 ) = P ( Red1 ∩ White2 ) / P( White2 )\n",
      "48b | the prob of first being red when 2nd is white is 0.5\n"
     ]
    }
   ],
   "source": [
    "print(\"We'll create three urn objects, one to represent the first choice and the others to represent the options of the second round.\")\n",
    "urn1 = Urn(2, 3)\n",
    "urn1r = Urn(2, 4)\n",
    "urn1w = Urn(3, 3)\n",
    "print(\"\\tUrn Start:\", urn1)\n",
    "print(\"\\tUrn if first red:\", urn1r)\n",
    "print(\"\\tUrn if first white:\", urn1w, \"\\n\")\n",
    "\n",
    "print(\"The prob of the second ball drawn being white is the sum of the prob of those cases.\")\n",
    "choice_ww = round(urn1.white_prob * urn1w.white_prob, 4)\n",
    "choice_rw = round(urn1.red_prob * urn1r.white_prob, 4)\n",
    "\n",
    "print(f\"\\tThe prob of picking white after first picking white is {choice_ww}\")\n",
    "print(f\"\\tThe prob of picking white after first picking red is {choice_rw}\")\n",
    "\n",
    "prob_2w = round(choice_rw + choice_ww, 4)\n",
    "print(f\"48a | the prob of the second ball being white is the sum, {prob_2w}\\n\")\n",
    "\n",
    "# the prob of the first being red when second is white\n",
    "# is the prob of red given white out of all cases when white is second\n",
    "\n",
    "prob_1r2w = round(choice_rw / prob_2w, 4)\n",
    "print(\"\\tP( Red1 | White2 ) = P ( Red1 ∩ White2 ) / P( White2 )\")\n",
    "print(f\"48b | the prob of first being red when 2nd is white is {prob_1r2w}\")"
   ]
  },
  {
   "cell_type": "markdown",
   "metadata": {},
   "source": [
    "49. A fair coin is tossed three times.\n",
    "\n",
    "a. What is the probability of two or more heads given that there was at least one head?\n",
    "\n",
    "b. What is the probability given that there was at least one tail?"
   ]
  },
  {
   "cell_type": "code",
   "execution_count": 16,
   "metadata": {},
   "outputs": [
    {
     "name": "stdout",
     "output_type": "stream",
     "text": [
      "A fair coin tossed three times gives the sample space: ['ttt', 'tth', 'tht', 'thh', 'htt', 'hth', 'hht', 'hhh'], which has 8 options.\n",
      "To find P( Heads >= 2 | Heads >= 1), we need to find P( Heads >= 2 ∩ Heads >= 1) and P( Heads >= 1)\n",
      "To find P( Heads >= 2 | Tails >= 1), we need to find P( Heads >= 2 ∩ Tails >= 1) and P( Tails >= 1)\n",
      "\n",
      "There are 7 options with >= 1 head: ['tth', 'tht', 'thh', 'htt', 'hth', 'hht', 'hhh']\n",
      "There are 7 options with >= 1 tail: ['ttt', 'tth', 'tht', 'thh', 'htt', 'hth', 'hht']\n",
      "\n",
      "There are 4 options with > 1 head and >= 1 head: ['tth', 'tht', 'thh', 'htt', 'hth', 'hht', 'hhh']\n",
      "There are 3 options with > 1 head and >= 1 tail: ['ttt', 'tth', 'tht', 'thh', 'htt', 'hth', 'hht']\n",
      "\n",
      "49a | the prob of 2 heads given there was >= 1 head is 4 / 7, or 0.5714\n",
      "49b | the prob of 2 heads given there was >= 1 tail is 3 / 7, or 0.4286\n"
     ]
    }
   ],
   "source": [
    "css = CoinSampleSpace(3)\n",
    "print(f\"A fair coin tossed three times gives the sample space: {css.ss}, which has {len(css.ss)} options.\")\n",
    "print(\"To find P( Heads >= 2 | Heads >= 1), we need to find P( Heads >= 2 ∩ Heads >= 1) and P( Heads >= 1)\")\n",
    "print(\"To find P( Heads >= 2 | Tails >= 1), we need to find P( Heads >= 2 ∩ Tails >= 1) and P( Tails >= 1)\\n\")\n",
    "\n",
    "options1h = [x for x in css.ss if \"h\" in x]\n",
    "options1t = [x for x in css.ss if \"t\" in x]\n",
    "print(f\"There are {len(options1h)} options with >= 1 head: {options1h}\")\n",
    "print(f\"There are {len(options1t)} options with >= 1 tail: {options1t}\\n\")\n",
    "\n",
    "options2h_in1h = [x for x in options1h if x.count(\"h\") > 1]\n",
    "options2h_in1t = [x for x in options1t if x.count(\"h\") > 1]\n",
    "print(f\"There are {len(options2h_in1h)} options with > 1 head and >= 1 head: {options1h}\")\n",
    "print(f\"There are {len(options2h_in1t)} options with > 1 head and >= 1 tail: {options1t}\\n\")\n",
    "\n",
    "n_1h = len(options1h)\n",
    "n_1t = len(options1t)\n",
    "n_2h_in1h = len(options2h_in1h)\n",
    "n_2h_in1t = len(options2h_in1t)\n",
    "\n",
    "prob_2h_given_1h = n_2h_in1h / n_1h\n",
    "prob_2h_given_1t = n_2h_in1t / n_1t\n",
    "\n",
    "print(f\"49a | the prob of 2 heads given there was >= 1 head is {n_2h_in1h} / {n_1h}, or {round(prob_2h_given_1h, 4)}\")\n",
    "print(f\"49b | the prob of 2 heads given there was >= 1 tail is {n_2h_in1t} / {n_1t}, or {round(prob_2h_given_1t, 4)}\")"
   ]
  },
  {
   "cell_type": "markdown",
   "metadata": {},
   "source": [
    "50. Two dice are rolled, and the sum of the face values is six. What is the probability\n",
    "that at least one of the dice came up a three?"
   ]
  },
  {
   "cell_type": "code",
   "execution_count": 17,
   "metadata": {},
   "outputs": [
    {
     "name": "stdout",
     "output_type": "stream",
     "text": [
      "Two six-sided dice rolled produces the sample space of size 36\n",
      "There are 5 options in that space which sum to six: ['15', '24', '33', '42', '51']\n",
      "And only 1 option that sums to six and the roll contains a three: ['33']\n",
      "\n",
      "50 | the prob of the roll having a three when the sum is six is 1 / 5, or 0.2\n"
     ]
    }
   ],
   "source": [
    "dss = DiceSampleSpace(2)\n",
    "print(\"Two six-sided dice rolled produces the sample space of size\", len(dss.ss))\n",
    "\n",
    "sum_six = [x for x in dss.ss if int(x[0]) + int(x[-1]) == 6]\n",
    "print(f\"There are {len(sum_six)} options in that space which sum to six: {sum_six}\")\n",
    "\n",
    "sum_six_has_three = [y for y in sum_six if \"3\" in y]\n",
    "print(f\"And only {len(sum_six_has_three)} option that sums to six and the roll contains a three: {sum_six_has_three}\\n\")\n",
    "\n",
    "prob_six_has_three = len(sum_six_has_three) / len(sum_six)\n",
    "\n",
    "print(f\"50 | the prob of the roll having a three when the sum is six is {len(sum_six_has_three)} / {len(sum_six)}, or {round(prob_six_has_three, 4)}\")"
   ]
  },
  {
   "cell_type": "markdown",
   "metadata": {},
   "source": [
    "52. Suppose that 5 cards are dealt from a 52-card deck and the first one is a king. What is the probability of at least one more king?"
   ]
  },
  {
   "cell_type": "code",
   "execution_count": 18,
   "metadata": {},
   "outputs": [
    {
     "name": "stdout",
     "output_type": "stream",
     "text": [
      "To find the probability that at least one more king will be drawn,\n",
      "we'll want to find the prob of that not happening, aka the complement.\n",
      "\n",
      "After the first king is drawn, there are 51 cards in the deck and 3 of them are kings.\n",
      "\n",
      "Drawing cards...\n",
      "\tWith 48 non-kings left, the prob of this draw not being a king is 48 / 50 = 0.9412\n",
      "\tThere are 3 draws left and the cumulative product so far is 0.9412\n",
      "\tWith 47 non-kings left, the prob of this draw not being a king is 47 / 49 = 0.94\n",
      "\tThere are 2 draws left and the cumulative product so far is 0.8847\n",
      "\tWith 46 non-kings left, the prob of this draw not being a king is 46 / 48 = 0.9388\n",
      "\tThere are 1 draws left and the cumulative product so far is 0.8305\n",
      "\tWith 45 non-kings left, the prob of this draw not being a king is 45 / 47 = 0.9375\n",
      "\tThere are 0 draws left and the cumulative product so far is 0.7786\n",
      "\n",
      "52 | The prob of at least one king in the next four draws is the complement of the prob there are no kings drawn, 0.2214\n"
     ]
    }
   ],
   "source": [
    "print(\"To find the probability that at least one more king will be drawn,\")\n",
    "print(\"we'll want to find the prob of that not happening, aka the complement.\\n\")\n",
    "n_deck = deck_post1 = 51\n",
    "n_kings = kings_post1 = 3\n",
    "print(f\"After the first king is drawn, there are {deck_post1} cards in the deck and {kings_post1} of them are kings.\\n\")\n",
    "draws_left = 4\n",
    "\n",
    "print(\"Drawing cards...\")\n",
    "total_prob_not_king = 1\n",
    "while draws_left > 0:\n",
    "    n_not_kings = n_deck - n_kings\n",
    "    p_not_king = n_not_kings / n_deck\n",
    "    total_prob_not_king *= p_not_king\n",
    "    draws_left -= 1\n",
    "    n_deck -= 1\n",
    "    print(f\"\\tWith {n_not_kings} non-kings left, the prob of this draw not being a king is {n_not_kings} / {n_deck} = {round(p_not_king, 4)}\")\n",
    "    print(f\"\\tThere are {draws_left} draws left and the cumulative product so far is {round(total_prob_not_king, 4)}\")\n",
    "print()\n",
    "\n",
    "prob_one_plus_king = round(1 - total_prob_not_king, 4)\n",
    "print(f\"52 | The prob of at least one king in the next four draws is the complement of the prob there are no kings drawn, {prob_one_plus_king}\")"
   ]
  },
  {
   "cell_type": "markdown",
   "metadata": {},
   "source": [
    "56. A couple has two children. What is the probability that both are girls given that the oldest is a girl? What is the probability that both are girls given that one of them is a girl?"
   ]
  },
  {
   "cell_type": "code",
   "execution_count": 19,
   "metadata": {},
   "outputs": [
    {
     "name": "stdout",
     "output_type": "stream",
     "text": [
      "Let's assume that the prob of either a boy or girl is 0.5\n",
      "The sample space of possible children outcomes is ['bb', 'bg', 'gb', 'gg'] \n",
      "\n",
      "All outcomes have a probability of 0.5^2 = 0.25\n",
      "There are 3 cases where at least one child is a girl: ['bg', 'gb', 'gg'], P( >= 1g ) = 0.75\n",
      "There is 1 case where both child are girls: ['gg']\n",
      "\n",
      "56a | The sex of existing children doesn't affect the prob of subsequent children's sex, therefore P( youngest = g ) = 0.5\n",
      "56b | P( gg | >= 1g ) =  P( gg ∩ >= 1g ) / P( >= 1g ) = 0.25 / 0.75 = 0.3333\n"
     ]
    }
   ],
   "source": [
    "print(\"Let's assume that the prob of either a boy or girl is 0.5\")\n",
    "sex_ss = CoinSampleSpace(2, response_set=\"bg\")\n",
    "print(\"The sample space of possible children outcomes is\", sex_ss.ss, \"\\n\")\n",
    "print(\"All outcomes have a probability of 0.5^2 = 0.25\")\n",
    "\n",
    "one_g = [x for x in sex_ss.ss if \"g\" in x]\n",
    "print(f\"There are {len(one_g)} cases where at least one child is a girl: {one_g}, P( >= 1g ) = {3 /4 }\")\n",
    "\n",
    "both_g_when_one_g = [y for y in one_g if y.count(\"g\") == 2]\n",
    "print(f\"There is {len(both_g_when_one_g)} case where both child are girls: {both_g_when_one_g}\\n\")\n",
    "\n",
    "print(\"56a | The sex of existing children doesn't affect the prob of subsequent children's sex, therefore P( youngest = g ) = 0.5\")\n",
    "print(f\"56b | P( gg | >= 1g ) =  P( gg ∩ >= 1g ) / P( >= 1g ) = {0.5 ** 2} / {3 / 4} = {round(0.5**2 / (3 / 4), 4)}\")"
   ]
  },
  {
   "cell_type": "markdown",
   "metadata": {},
   "source": [
    "59. A box has three coins. One has two heads, one has two tails, and the other is a fair coin with one head and one tail. A coin is chosen at random, is flipped, and comes up heads.\n",
    "\n",
    "a. What is the probability that the coin chosen is the two-headed coin?\n",
    "\n",
    "b. What is the probability that if it is thrown another time it will come up heads? \n",
    "\n",
    "c. Answer part (a) again, supposing that the coin is thrown a second time and\n",
    "comes up heads again."
   ]
  },
  {
   "cell_type": "code",
   "execution_count": 20,
   "metadata": {},
   "outputs": [
    {
     "name": "stdout",
     "output_type": "stream",
     "text": [
      "There are 3 coins which will be represented this way: ['(hh)', '(ht)', '(tt)']\n",
      "\tThe prob of part a can be represented as P( (hh) | Head ) = P( (hh) ∩ Head ) / P( Head )\n",
      "\n",
      "The prob of any (coin) being chosen is 0.3333\n",
      "The prob for each flipping a head is {'(hh)': 1, '(ht)': 0.5, '(tt)': 0}\n",
      "The prob for picking each and also flipping a head is the product, {'(hh)': 0.3333, '(ht)': 0.1667, '(tt)': 0.0}\n",
      "The total probability of a head being flipped is the sum, P( Head ) = 0.5\n",
      "\n",
      "59a | P( (hh) | Head ) = P( (hh) ∩ Head ) / P( Head ) = 0.3333 / 0.5 = 0.6666\n",
      "\n",
      "To find the prob of flipping a second head, we mult the prob of each by its prob of head again: {'(hh)': 0.3333, '(ht)': 0.0833, '(tt)': 0.0}\n",
      "59b | P( HeadHead ) = 0.4166\n",
      "\n",
      "59c | P( (hh) | HeadHead ) = P( (hh) ∩ HeadHead ) / P( HeadHead ) = 0.3333 / 0.4166 = 0.8\n",
      "\n"
     ]
    }
   ],
   "source": [
    "coins = [\"(hh)\", \"(ht)\", \"(tt)\"]\n",
    "n_coins = len(coins)\n",
    "coins_w_heads = [x for x in coins if \"h\" in x]\n",
    "n_coins_w_heads = len(coins_w_heads)\n",
    "\n",
    "print(f\"There are {n_coins} coins which will be represented this way: {coins}\")\n",
    "print(f\"\\tThe prob of part a can be represented as P( (hh) | Head ) = P( (hh) ∩ Head ) / P( Head )\\n\")\n",
    "\n",
    "prob_each = 1 / n_coins\n",
    "prob_each_head = [1, 0.5, 0]\n",
    "prob_each_prob_head = [round(prob_each * x, 4) for x in prob_each_head]\n",
    "dict_each_head_prob = dict(zip(coins, prob_each_head))\n",
    "dict_each_prob_each_head = dict(zip(coins, prob_each_prob_head))\n",
    "print(f\"The prob of any (coin) being chosen is {round(prob_each, 4)}\")\n",
    "print(f\"The prob for each flipping a head is {dict_each_head_prob}\")\n",
    "print(f\"The prob for picking each and also flipping a head is the product, {dict_each_prob_each_head}\")\n",
    "\n",
    "total_head_prob = sum(list(dict_each_prob_each_head.values()))\n",
    "print(f\"The total probability of a head being flipped is the sum, P( Head ) = {total_head_prob}\\n\")\n",
    "p_pick_hh_h = dict_each_prob_each_head[\"(hh)\"]\n",
    "prob_a = round(p_pick_hh_h / total_head_prob,4)\n",
    "print(f\"59a | P( (hh) | Head ) = P( (hh) ∩ Head ) / P( Head ) = {p_pick_hh_h} / {total_head_prob} = {prob_a}\\n\")\n",
    "\n",
    "h_flip2 = [round(prob_each_head[i] * prob_each_prob_head[i], 4) for i in range(n_coins)]\n",
    "dict_h_flip2 = dict(zip(coins, h_flip2))\n",
    "p_hh = round(sum(h_flip2), 4)\n",
    "print(\"To find the prob of flipping a second head, we mult the prob of each by its prob of head again:\", dict_h_flip2)\n",
    "print(f\"59b | P( HeadHead ) = {p_hh}\\n\")\n",
    "\n",
    "p_hh_hh = dict_h_flip2[\"(hh)\"]\n",
    "prob_c = round(p_hh_hh / p_hh, 4)\n",
    "print(f\"59c | P( (hh) | HeadHead ) = P( (hh) ∩ HeadHead ) / P( HeadHead ) = {p_hh_hh} / {p_hh} = {prob_c}\\n\")"
   ]
  },
  {
   "cell_type": "markdown",
   "metadata": {},
   "source": [
    "60. A factory runs three shifts. In a given day, 1% of the items produced by the first shift are defective, 2% of the second shift’s items are defective, and 5% of the third shift’s items are defective. If the shifts all have the same productivity, what percentage of the items produced in a day are defective? If an item is defective, what is the probability that it was produced by the third shift?"
   ]
  },
  {
   "cell_type": "code",
   "execution_count": 21,
   "metadata": {},
   "outputs": [
    {
     "name": "stdout",
     "output_type": "stream",
     "text": [
      "The ratio of defective items produced by each shift is {'shift_1': 0.01, 'shift_2': 0.02, 'shift_3': 0.05}\n",
      "\n",
      "60a | The percentage of defective items produced is the evenly weighted average of defective ratios per shift:\n",
      "\t(0.08 / 3) * 100 = 2.6667%\n",
      "\n",
      "Since there is no difference in productivity between shifts,\n",
      "the total productivity can be approximated as the sum of the ratios, 0.08\n",
      "\n",
      "60b | P( Shift3 | Defective) = P( Shift3 ∩ Defective) / P( Defective ) = 0.05 / 0.08 = 0.625 \n"
     ]
    }
   ],
   "source": [
    "def_ratios = {\n",
    "\"shift_1\": 0.01,\n",
    "\"shift_2\": 0.02,\n",
    "\"shift_3\": 0.05,\n",
    "}\n",
    "sum_ratios = sum(list(def_ratios.values()))\n",
    "print(f\"The ratio of defective items produced by each shift is {def_ratios}\\n\")\n",
    "\n",
    "total_def_perc = round((sum_ratios / 3) * 100, 4)\n",
    "print(\"60a | The percentage of defective items produced is the evenly weighted average of defective ratios per shift:\")\n",
    "print(f\"\\t({sum_ratios} / 3) * 100 = {total_def_perc}%\\n\")\n",
    "\n",
    "print(\"Since there is no difference in productivity between shifts,\")\n",
    "print(f\"the total productivity can be approximated as the sum of the ratios, {sum_ratios}\\n\")\n",
    "\n",
    "s3_def = def_ratios[\"shift_3\"]\n",
    "p_s3_def = round(s3_def / sum_ratios, 4)\n",
    "print(f\"60b | P( Shift3 | Defective) = P( Shift3 ∩ Defective) / P( Defective ) = {s3_def} / {sum_ratios} = {p_s3_def} \")"
   ]
  },
  {
   "cell_type": "markdown",
   "metadata": {},
   "source": [
    "74. What is the probability that the following system works if each unit fails independently with probability p (see Figure 1.5)?"
   ]
  },
  {
   "cell_type": "code",
   "execution_count": 22,
   "metadata": {},
   "outputs": [
    {
     "name": "stdout",
     "output_type": "stream",
     "text": [
      "The system works if one of the paths passes.\n",
      "Therefore, we need to find the probability that none of the paths work.\n",
      "\tProb of failure for paths w/ two units is the prob that both succeed, or that both don't fail\n",
      "\tProb of both not failing is (1 - p) * (1 - p), so the prob of either failing is [1 - (1 - p) * (1 - p)]\n",
      "\n",
      "The probability that all fail is [1 - (1 - p) * (1 - p)] * p * [1 - (1 - p) * (1 - p)]\n",
      "Therefore, the prob that at least one succeeds is [1 - [1 - (1 - p) * (1 - p)] * p * [1 - (1 - p) * (1 - p)]]\n"
     ]
    }
   ],
   "source": [
    "print(\"The system works if one of the paths passes.\")\n",
    "print(\"Therefore, we need to find the probability that none of the paths work.\")\n",
    "print(\"\\tProb of failure for paths w/ two units is the prob that both succeed, or that both don't fail\")\n",
    "p_1path_f = \"p\"\n",
    "p_1path_s = f\"(1 - {p_1path_f})\"\n",
    "p_2path_s = \"(1 - p) * (1 - p)\"\n",
    "p_2path_f = f\"[1 - {p_2path_s}]\"\n",
    "print(f\"\\tProb of both not failing is {p_2path_s}, so the prob of either failing is {p_2path_f}\\n\")\n",
    "\n",
    "p_all_f = f\"{p_2path_f} * {p_1path_f} * {p_2path_f}\"\n",
    "print(\"The probability that all fail is\", p_all_f)\n",
    "print(f\"Therefore, the prob that at least one succeeds is [1 - {p_all_f}]\")\n"
   ]
  },
  {
   "cell_type": "markdown",
   "metadata": {},
   "source": [
    "77. A player throws darts at a target. On each trial, independently of the other trials, he hits the bull’s-eye with probability .05. How many times should he throw so that his probability of hitting the bull’s-eye at least once is .5?"
   ]
  },
  {
   "cell_type": "code",
   "execution_count": 23,
   "metadata": {},
   "outputs": [
    {
     "name": "stdout",
     "output_type": "stream",
     "text": [
      "The prob of at least one bullseye is the complement of the prob of there being no bullseyes thrown.\n",
      "The prob of no bullseyes is (1 - p)^n_throws\n",
      "so the prob of at least one bullseye is 1 - (1 - p)^n_throws\n",
      "\n",
      "Here's the output of a Python function that performs this calculation:\n",
      "\tthe prob of hitting at least one bullseye in 1 throws is 0.05\n",
      "\tthe prob of hitting at least one bullseye in 2 throws is 0.0975\n",
      "\tthe prob of hitting at least one bullseye in 3 throws is 0.1426\n",
      "\tthe prob of hitting at least one bullseye in 4 throws is 0.1855\n",
      "\tthe prob of hitting at least one bullseye in 5 throws is 0.2262\n",
      "\tthe prob of hitting at least one bullseye in 6 throws is 0.2649\n",
      "\tthe prob of hitting at least one bullseye in 7 throws is 0.3017\n",
      "\tthe prob of hitting at least one bullseye in 8 throws is 0.3366\n",
      "\tthe prob of hitting at least one bullseye in 9 throws is 0.3698\n",
      "\tthe prob of hitting at least one bullseye in 10 throws is 0.4013\n",
      "\tthe prob of hitting at least one bullseye in 11 throws is 0.4312\n",
      "\tthe prob of hitting at least one bullseye in 12 throws is 0.4596\n",
      "\tthe prob of hitting at least one bullseye in 13 throws is 0.4867\n",
      "\tthe prob of hitting at least one bullseye in 14 throws is 0.5123\n",
      "\n",
      "Our pal needs to throw 14 darts to have a > 0.5 chance of having hit >= one bullseye\n"
     ]
    },
    {
     "data": {
      "text/plain": [
       "[<matplotlib.lines.Line2D at 0x7fc64b59acb0>]"
      ]
     },
     "execution_count": 23,
     "metadata": {},
     "output_type": "execute_result"
    },
    {
     "data": {
      "image/png": "[encoded data removed]",
      "text/plain": [
       "<Figure size 432x288 with 1 Axes>"
      ]
     },
     "metadata": {
      "needs_background": "light"
     },
     "output_type": "display_data"
    }
   ],
   "source": [
    "prob = \"p\"\n",
    "comp = \"(1 - p)\"\n",
    "print(\"The prob of at least one bullseye is the complement of the prob of there being no bullseyes thrown.\")\n",
    "p_no_bull = f\"{comp}^n_throws\"\n",
    "print(f\"The prob of no bullseyes is {p_no_bull}\")\n",
    "print(f\"so the prob of at least one bullseye is 1 - {p_no_bull}\\n\")\n",
    "\n",
    "print(\"Here's the output of a Python function that performs this calculation:\")\n",
    "\n",
    "# Here's the function\n",
    "def prob_bullseye(n_throws: int, p_one_bullseye: float = 0.05):\n",
    "    p_not_bullseye = 1 - p_one_bullseye\n",
    "    p_no_bullseyes = p_not_bullseye ** n_throws\n",
    "    p_one_plus_bullseye = 1 - p_no_bullseyes\n",
    "    return p_one_plus_bullseye\n",
    "\n",
    "# Starting lists to capture the function's output for viz\n",
    "x = []\n",
    "y = []\n",
    "\n",
    "for i in range(1, 21):\n",
    "    p = round(prob_bullseye(i), 4)\n",
    "    x.append(i)                     # this is where the \"x\" and \"y\" values are added to the lists\n",
    "    y.append(p)\n",
    "    print(f\"\\tthe prob of hitting at least one bullseye in {i} throws is {p}\")\n",
    "    if p >= 0.5:\n",
    "        break\n",
    "print()\n",
    "print(f\"Our pal needs to throw {i} darts to have a > 0.5 chance of having hit >= one bullseye\")\n",
    "fig, ax = plt(1, 1)\n",
    "ax.set_xlabel(\"n_throws\")\n",
    "ax.set_ylabel(\"prob of >= one bullseye\")\n",
    "ax.plot(x, y)"
   ]
  }
 ],
 "metadata": {
  "kernelspec": {
   "display_name": "Python 3.10.4 ('algofi')",
   "language": "python",
   "name": "python3"
  },
  "language_info": {
   "codemirror_mode": {
    "name": "ipython",
    "version": 3
   },
   "file_extension": ".py",
   "mimetype": "text/x-python",
   "name": "python",
   "nbconvert_exporter": "python",
   "pygments_lexer": "ipython3",
   "version": "3.10.4"
  },
  "orig_nbformat": 4,
  "vscode": {
   "interpreter": {
    "hash": "e4c811bee47d8c90b3eff8a9506211954d5d179212002b4a6acca2329b32ea02"
   }
  }
 },
 "nbformat": 4,
 "nbformat_minor": 2
}
