{
 "cells": [
  {
   "cell_type": "markdown",
   "metadata": {},
   "source": [
    "Alexander Beckwith\n",
    "\n",
    "Math 855 - Prob w/ Applications\n",
    "\n",
    "HW4"
   ]
  },
  {
   "cell_type": "code",
   "execution_count": 1,
   "metadata": {},
   "outputs": [],
   "source": [
    "from scipy.stats import norm, expon\n",
    "from numpy.random import rand\n",
    "from numpy import log"
   ]
  },
  {
   "cell_type": "markdown",
   "metadata": {},
   "source": [
    "37. A line segment of length 1 is cut once at random.\n",
    "\n",
    "What is the probability that the longer piece is more than twice the length of the shorter piece?"
   ]
  },
  {
   "cell_type": "code",
   "execution_count": 2,
   "metadata": {},
   "outputs": [],
   "source": [
    "class String():\n",
    "    def __init__(self):\n",
    "        self.len1 = rand()\n",
    "        self.len2 = 1 - self.len1\n",
    "        self.pieces = [self.len1, self.len2]\n",
    "        self.longer = max(self.pieces)\n",
    "        self.shorter = min(self.pieces)\n",
    "\n",
    "    def compare(self):\n",
    "        if (self.longer / 2) > self.shorter:\n",
    "            return True\n",
    "        else:\n",
    "            return False\n",
    "    \n",
    "    def next(self):\n",
    "        self.__init__()\n",
    "        return self.compare()\n",
    "\n",
    "class Experiment:\n",
    "    def __init__(self, object, iter_per_round, rounds_per_exp):\n",
    "        self.object = object()\n",
    "        self.iter_per_round = iter_per_round\n",
    "        self.rounds_per_exp = rounds_per_exp\n",
    "        \n",
    "    def round(self):\n",
    "        # object executes iter of exp in list\n",
    "        results = [self.object.next() for i in range(self.iter_per_round)]\n",
    "\n",
    "        # results are bools, so should sum\n",
    "        n_success = sum(results)\n",
    "\n",
    "        # prop of successes\n",
    "        return n_success / self.iter_per_round\n",
    "\n",
    "    def do_exp(self):\n",
    "        rounds = [self.round() for j in range(self.rounds_per_exp)]\n",
    "        return sum(rounds) / self.rounds_per_exp\n",
    "\n",
    "exp = Experiment(String, 1000, 100)\n"
   ]
  },
  {
   "cell_type": "code",
   "execution_count": 3,
   "metadata": {},
   "outputs": [
    {
     "data": {
      "text/plain": [
       "0.6652499999999999"
      ]
     },
     "execution_count": 3,
     "metadata": {},
     "output_type": "execute_result"
    }
   ],
   "source": [
    "# 37 is also solved on \"paper\" \n",
    "exp.do_exp()"
   ]
  },
  {
   "cell_type": "markdown",
   "metadata": {},
   "source": [
    "45. Suppose that the lifetime of an electronic component follows an exponential distribution with λ = .1.\n",
    "\n",
    "a. Find the probability that the lifetime is less than 10.\n",
    "\n",
    "b. Find the probability that the lifetime is between 5 and 15.\n",
    "\n",
    "c. Find t such that the probability that the lifetime is greater than t is .01."
   ]
  },
  {
   "cell_type": "code",
   "execution_count": 4,
   "metadata": {},
   "outputs": [],
   "source": [
    "# defining terms\n",
    "λ = 0.1\n",
    "expon_45a = 10\n",
    "expon_45b = [5, 15]\n",
    "\n",
    "# the exponential function in scipy uses 1 / λ as the scale term for this function\n",
    "# for reference see https://docs.scipy.org/doc/scipy/reference/generated/scipy.stats.expon.html#scipy.stats.expon\n",
    "scale = 1 / λ"
   ]
  },
  {
   "cell_type": "code",
   "execution_count": 5,
   "metadata": {},
   "outputs": [
    {
     "name": "stdout",
     "output_type": "stream",
     "text": [
      "45a | The prob that t is less than 10 is 0.6321\n",
      "45b | The prob that t is between [5, 15] is 0.3834\n",
      "45c | The prob of lifetime greater than 0.01 occurs when t = 46.0518\n"
     ]
    }
   ],
   "source": [
    "expon_45a_cdf = expon.cdf(10, scale=scale)\n",
    "expon_45b_cdf = expon.cdf(15, scale=scale) - expon.cdf(5, scale=scale)\n",
    "\n",
    "lim = 0.01\n",
    "t_scale = 10000\n",
    "# I honed in on the value using larger steps and manually changed the range for precision\n",
    "\n",
    "print(f\"45a | The prob that t is less than {expon_45a} is {round(expon_45a_cdf, 4)}\")\n",
    "print(f\"45b | The prob that t is between {expon_45b} is {round(expon_45b_cdf, 4)}\")\n",
    "\n",
    "\n",
    "for i in range(45 * t_scale, 50 * t_scale):\n",
    "    t = i / t_scale\n",
    "    t_prob_less = expon.cdf(t, scale=scale)\n",
    "    t_prob_more = 1 - t_prob_less\n",
    "    if t_prob_more < lim:\n",
    "        print(f\"45c | The prob of lifetime greater than {lim} occurs when t = {t}\")\n",
    "        break"
   ]
  },
  {
   "cell_type": "markdown",
   "metadata": {},
   "source": [
    "46. T is an exponential random variable, and P(T < 1) = .05. What is λ?"
   ]
  },
  {
   "cell_type": "code",
   "execution_count": 6,
   "metadata": {},
   "outputs": [
    {
     "name": "stdout",
     "output_type": "stream",
     "text": [
      "46 | λ = 0.05129329438755058\n"
     ]
    }
   ],
   "source": [
    "# please see written submission for work\n",
    "λ = -log(0.95)\n",
    "print(\"46 | λ =\", λ)"
   ]
  },
  {
   "cell_type": "markdown",
   "metadata": {},
   "source": [
    "52. Suppose that in a certain population,individuals’ heights are approximately normally distributed with parameters μ = 70 and σ = 3 in.\n",
    "a. What proportion of the population is over 6 ft. tall?\n",
    "b. What is the distribution of heights if they are expressed in centimeters? In\n",
    "meters?"
   ]
  },
  {
   "cell_type": "code",
   "execution_count": 7,
   "metadata": {},
   "outputs": [
    {
     "name": "stdout",
     "output_type": "stream",
     "text": [
      "We've got ourselves a classic normal distribution problem!\n",
      "52a | The prop of the pop over 6ft tall is 0.2525\n",
      "52b | The distribution expressed in cm is N([177.8, 7.62])\n",
      "52b | The distribution expressed in m is N([1.778, 0.0762])\n"
     ]
    }
   ],
   "source": [
    "print(\"We've got ourselves a classic normal distribution problem!\")\n",
    "mean = 70\n",
    "stddev = 3\n",
    "units_in = [mean, stddev]\n",
    "units_cm = [x * 2.54 for x in units_in]\n",
    "units_m = [y / 100 for y in units_cm]\n",
    "\n",
    "prop_under_72 = norm.cdf(72, loc=mean, scale=stddev)\n",
    "prop_over_72 = 1 - prop_under_72\n",
    "prop_over_72\n",
    "\n",
    "# the distribution of heights is the same but with converted units\n",
    "print(f\"52a | The prop of the pop over 6ft tall is {round(prop_over_72, 4)}\")\n",
    "print(f\"52b | The distribution expressed in cm is N({units_cm})\")\n",
    "print(f\"52b | The distribution expressed in m is N({units_m})\")"
   ]
  }
 ],
 "metadata": {
  "kernelspec": {
   "display_name": "Python 3.10.4 ('algofi')",
   "language": "python",
   "name": "python3"
  },
  "language_info": {
   "codemirror_mode": {
    "name": "ipython",
    "version": 3
   },
   "file_extension": ".py",
   "mimetype": "text/x-python",
   "name": "python",
   "nbconvert_exporter": "python",
   "pygments_lexer": "ipython3",
   "version": "3.10.4"
  },
  "orig_nbformat": 4,
  "vscode": {
   "interpreter": {
    "hash": "e4c811bee47d8c90b3eff8a9506211954d5d179212002b4a6acca2329b32ea02"
   }
  }
 },
 "nbformat": 4,
 "nbformat_minor": 2
}
