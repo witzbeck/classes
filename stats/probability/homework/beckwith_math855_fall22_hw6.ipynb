{
 "cells": [
  {
   "cell_type": "markdown",
   "metadata": {},
   "source": [
    "Alexander Beckwith\n",
    "\n",
    "Math 855 - Prob w/ Applications\n",
    "\n",
    "HW6\n",
    "\n",
    "Chapter 4 Problems: 2, 5, 6, 7, 16, 21, 25, 31, 49(a,b,c)"
   ]
  },
  {
   "cell_type": "markdown",
   "metadata": {},
   "source": [
    "2. If X is a discrete uniform random variable—that is, P(X = k) = 1/n for k =\n",
    "1, 2, . . . , n—find E(X) and Var(X)."
   ]
  },
  {
   "cell_type": "code",
   "execution_count": 59,
   "metadata": {},
   "outputs": [],
   "source": [
    "def show_pmf(name: str, val_dict: dict):\n",
    "    print(f\"p{name}({name.lower()}) = \")\n",
    "    for key in list(val_dict.keys()):\n",
    "        print(f\"\\t{val_dict[key]} \\tif {name.lower()} = {key}\")\n",
    "\n",
    "    print(\"\\t 0 \\totherwise\")\n"
   ]
  },
  {
   "cell_type": "code",
   "execution_count": 60,
   "metadata": {},
   "outputs": [
    {
     "name": "stdout",
     "output_type": "stream",
     "text": [
      "[(1, 1), (2, 4), (3, 9), (4, 16), (5, 25), (6, 36), (7, 49), (8, 64), (9, 81), (10, 100)]\n"
     ]
    }
   ],
   "source": [
    "def expectation(prob_func, val_array):\n",
    "    exp_vals = [prob_func(val_array) * val for val in val_array]\n",
    "    return round(sum(exp_vals),1)\n",
    "\n",
    "prob_func = lambda val_array: 1 / max(val_array)\n",
    "val_array = lambda n: [k for k in range(1, n)]\n",
    "\"\"\"\n",
    "P(X = k) = 1/n for k in range(n)\n",
    "E(X) = sum(k * P(X = k)) for k in range(1, n) = sum(k * (1/n)) = (1 / n) * sum([k for k in range(1, n)])\n",
    "E(X) = (1 / n) * (n * (n + 1) / 2) = (n + 1) / 2\n",
    "\n",
    "Var(X) = E(X^2) - [E(X)]^2\n",
    "Var(X) = sum(k^2 * P(X = k^2)) for k^2 in range(1, n)  - [(n + 1) / 2]^2\n",
    "Var(X) = sum(k^2 * P(X = k^2)) for k^2 in range(1, n)  - [(n + 1) / 2]^2\n",
    "\n",
    "\n",
    "\n",
    "for n in range(1,10):\n",
    "    print(f\"n = {n}\", expectation(prob_func, val_array(n)))\n",
    "\"\"\"\n",
    "print([(i, i**2) for i in range(1, 11)])"
   ]
  },
  {
   "cell_type": "markdown",
   "metadata": {},
   "source": [
    "5. Let X have the density\n",
    "f (x) = (1 + αx)/2 , −1 ≤ x ≤ 1, −1 ≤ α ≤ 1\n",
    "  Find E(X) and Var(X)."
   ]
  },
  {
   "cell_type": "code",
   "execution_count": 58,
   "metadata": {},
   "outputs": [],
   "source": [
    "f_alpha_x = lambda alpha, x: (1 + (alpha * x)) / 2\n",
    "f_alpha_x = lambda alpha, x: (1/2) + (alpha * x / 2)\n",
    "integral_5_dx = lambda alpha, x: x * f_alpha_x(alpha, x)\n",
    "integral_5_dx = lambda alpha, x: (x / 2) + (alpha * (x ** 2) / 2)\n",
    "exp_x_5 = integral_5 = lambda alpha, x: ((x ** 2) / 4) + ((x ** 3) * alpha / 6)\n",
    "\n"
   ]
  },
  {
   "cell_type": "markdown",
   "metadata": {},
   "source": [
    "6. Let X be a continuous random variable with probability density function\n",
    "f (x) = 2x, 0 ≤ x ≤ 1.\n",
    "\n",
    "a. Find E(X).\n",
    "\n",
    "b. Let Y = X2. Find the probability mass function of Y and use it to find E(Y).\n",
    "\n",
    "c. Use Theorem A in Section 4.1.1 to find E(X2) and compare to your answer\n",
    "in part (b).\n",
    "\n",
    "d. Find Var(X) according to the definition of variance given in Section 4.2.\n",
    "Also find Var(X) by using Theorem B of Section 4.2."
   ]
  },
  {
   "cell_type": "code",
   "execution_count": 64,
   "metadata": {},
   "outputs": [
    {
     "name": "stdout",
     "output_type": "stream",
     "text": [
      "0.6666666666666666\n",
      "0.4\n",
      "0.5\n"
     ]
    },
    {
     "data": {
      "text/plain": [
       "'\\nVar(X) = E{[X - E(X)]^2}\\n'"
      ]
     },
     "execution_count": 64,
     "metadata": {},
     "output_type": "execute_result"
    }
   ],
   "source": [
    "integrate = lambda integral, a, b: integral(b) - integral(a)\n",
    "\n",
    "# a\n",
    "fx = lambda x: 2 * x\n",
    "# E(x) = integrate(x * fx) | [a, b]\n",
    "integral_6a = lambda x: (2 / 3) * (x ** 3)     # anon func to process integral\n",
    "six_a = integrate(integral_6a, 0, 1)\n",
    "print(six_a)\n",
    "# b\n",
    "\"\"\"\n",
    "E(Y) = E(X^2) = integrate(x^2 * f(x^2)) | [a, b]\n",
    "x^2 * f(x^2) = x^2 * 2 * x^2 = integrate(2 * x^4) | [0, 1]\n",
    "\"\"\"\n",
    "integral_6b = lambda x: (2 / 5) * (x ** 5)\n",
    "six_b = integrate(integral_6b, 0, 1)\n",
    "print(six_b)\n",
    "\n",
    "# c\n",
    "# E(Y) = integrate(g(x) * f(x), -inf, inf)\n",
    "# E(Y) = integrate(x ** 2 * (2 * x)), 0, 1)\n",
    "integral_6c = lambda x: (x ** 4) / 2\n",
    "six_c = integrate(integral_6c, 0, 1)\n",
    "print(six_c)\n",
    "\n",
    "# d\n",
    "\"\"\"\n",
    "Var(X) = E{[X - E(X)]^2}\n",
    "\"\"\"\n"
   ]
  },
  {
   "cell_type": "markdown",
   "metadata": {},
   "source": [
    "7. Let X be a discrete random variable that takes on:\n",
    "X = {\n",
    "    0: 1/2,\n",
    "    1: 3/8,\n",
    "    2: 1/8\n",
    "}\n",
    "\n",
    "a. Find E(X).\n",
    "\n",
    "b. Let Y = X2. Find the probability mass function of Y and use it to find E(Y). \n",
    "\n",
    "c. Use Theorem A of Section 4.1.1 to find E ( X^2 ) and compare to your answer in part (b).\n",
    "\n",
    "d. Find Var(X) according to the definition of variance given in Section 4.2. Also find Var(X) by using Theorem B in Section 4.2."
   ]
  },
  {
   "cell_type": "code",
   "execution_count": 48,
   "metadata": {},
   "outputs": [
    {
     "name": "stdout",
     "output_type": "stream",
     "text": [
      "X: \n",
      "pmf =  {0: 0.5, 1: 0.375, 2: 0.125} \n",
      "E(X) =  0.625\n"
     ]
    }
   ],
   "source": [
    "X = {\n",
    "    0: 1/2,\n",
    "    1: 3/8,\n",
    "    2: 1/8\n",
    "    }\n",
    "\n",
    "def discrete_expectation(val_dict: dict = X):\n",
    "    keys = list(val_dict.keys())\n",
    "    return sum([x * val_dict[x] for x in keys])\n",
    "# a\n",
    "print(\"X: \\npmf = \", X,\"\\nE(X) = \" ,discrete_expectation(X))\n"
   ]
  },
  {
   "cell_type": "code",
   "execution_count": 49,
   "metadata": {},
   "outputs": [
    {
     "name": "stdout",
     "output_type": "stream",
     "text": [
      "Y: \n",
      "pmf =  {0: 0.5, 1: 0.375, 4: 0.125} \n",
      "E(Y) = E(X^2) =  0.875\n",
      "pY(y) = \n",
      "\t0.5 \tif y = 0\n",
      "\t0.375 \tif y = 1\n",
      "\t0.125 \tif y = 4\n",
      "\t 0 \totherwise\n"
     ]
    }
   ],
   "source": [
    "# b\n",
    "Y = {k ** 2: X[k] for k in list(X.keys())}\n",
    "y_exp = discrete_expectation(Y)\n",
    "print(\"Y: \\npmf = \", Y,\"\\nE(Y) = E(X^2) = \" ,y_exp)\n",
    "\n",
    "\n",
    "show_pmf()"
   ]
  },
  {
   "cell_type": "code",
   "execution_count": 50,
   "metadata": {},
   "outputs": [
    {
     "data": {
      "text/plain": [
       "0.875"
      ]
     },
     "execution_count": 50,
     "metadata": {},
     "output_type": "execute_result"
    }
   ],
   "source": [
    "# c\n",
    "x_keys = list(X.keys())\n",
    "x2_exp = sum([x**2 * X[x] for x in x_keys])\n",
    "y_exp\n",
    "# d\n",
    "\n"
   ]
  },
  {
   "cell_type": "markdown",
   "metadata": {},
   "source": [
    "16. Suppose that E(X) = μ and Var(X) = σ2. Let Z = (X − μ)/σ. Show that E(Z) = 0 and Var(Z) = 1."
   ]
  },
  {
   "cell_type": "code",
   "execution_count": null,
   "metadata": {},
   "outputs": [],
   "source": [
    "\"\"\"\n",
    "# algebra for Z\n",
    "Z = (X − μ)/σ\n",
    "Z * σ = (X − μ)\n",
    "Z * σ + μ = X\n",
    "\n",
    "# flip \n",
    "E(Z * σ + μ) = μ\n",
    "σ * E(Z) + μ = μ\n",
    "E(Z) = 0\n",
    "\n",
    "Var(X) = σ^2\n",
    "Var(Z * σ + μ) = σ^2\n",
    "(σ^2) * Var(Z) = σ^2\n",
    "Var(Z) = (σ^2) / (σ^2)\n",
    "Var(Z) = 1\n",
    "\"\"\""
   ]
  },
  {
   "cell_type": "markdown",
   "metadata": {},
   "source": [
    "\n",
    "21. A random square has a side length that is a uniform [0, 1] random variable. Find the expected area of the square."
   ]
  },
  {
   "cell_type": "code",
   "execution_count": null,
   "metadata": {},
   "outputs": [],
   "source": [
    "\"\"\"\n",
    "SquareArea = (side length)^2\n",
    "SquareArea = E[(side length)^2]\n",
    "SquareArea = E[(~U[0, 1])^2]\n",
    "SquareArea = (integrate(x dx | (0, 1))^2\n",
    "SquareArea = integrate(x^2 dx | (0, 1)\n",
    "SquareArea = eval(x^3 / 3 | (0, 1) = 1 / 3\n",
    "SquareArea = (1 / 3)\n",
    "\"\"\""
   ]
  },
  {
   "cell_type": "markdown",
   "metadata": {},
   "source": [
    "\n",
    "25. If X1 and X2 are independent random variables following a gamma distribution\n",
    "with parameters α and λ, find E(R2), where R2 = X12 + X2."
   ]
  },
  {
   "cell_type": "code",
   "execution_count": null,
   "metadata": {},
   "outputs": [],
   "source": [
    "\"\"\"\n",
    "R^2 = Xone^2 + Xtwo^2\n",
    "E(R^2) = E(Xone^2 + Xtwo^2)\n",
    "E(R^2) = E(Xone^2) + E(Xtwo^2)\n",
    "α and λ\n",
    "\"\"\""
   ]
  },
  {
   "cell_type": "markdown",
   "metadata": {},
   "source": [
    "31. Let X be uniformly distributed on the interval [1,2]. Find E(1/X). Is E(1/X)=\n",
    "1/E(X)?"
   ]
  },
  {
   "cell_type": "code",
   "execution_count": null,
   "metadata": {},
   "outputs": [],
   "source": [
    "\"\"\"\n",
    "\n",
    "\n",
    "\"\"\""
   ]
  },
  {
   "cell_type": "markdown",
   "metadata": {},
   "source": [
    "49. Two independent measurements, X and Y, are taken of a quantity μ. E(X) = E(Y) = μ, but σX and σY are unequal. The two measurements are combined by means of a weighted average to give\n",
    "Z = αX + (1 − α)Y where α is a scalar and 0 ≤ α ≤ 1.\n",
    "a. Show that E(Z) = μ.\n",
    "b. Find α in terms of σX and σY to minimize Var(Z).\n",
    "c. Under what circumstances is it better to use the average (X + Y)/2 than\n",
    "either X or Y alone?"
   ]
  },
  {
   "cell_type": "markdown",
   "metadata": {},
   "source": []
  },
  {
   "cell_type": "markdown",
   "metadata": {},
   "source": []
  }
 ],
 "metadata": {
  "kernelspec": {
   "display_name": "Python 3.10.4 ('algofi')",
   "language": "python",
   "name": "python3"
  },
  "language_info": {
   "codemirror_mode": {
    "name": "ipython",
    "version": 3
   },
   "file_extension": ".py",
   "mimetype": "text/x-python",
   "name": "python",
   "nbconvert_exporter": "python",
   "pygments_lexer": "ipython3",
   "version": "3.10.8"
  },
  "orig_nbformat": 4,
  "vscode": {
   "interpreter": {
    "hash": "e4c811bee47d8c90b3eff8a9506211954d5d179212002b4a6acca2329b32ea02"
   }
  }
 },
 "nbformat": 4,
 "nbformat_minor": 2
}
