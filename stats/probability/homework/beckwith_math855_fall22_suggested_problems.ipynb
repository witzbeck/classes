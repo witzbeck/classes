{
 "cells": [
  {
   "cell_type": "markdown",
   "metadata": {},
   "source": [
    "Alexander Beckwith\n",
    "\n",
    "Math 855 - Prob w/ Applications\n",
    "\n",
    "HW5\n"
   ]
  },
  {
   "cell_type": "code",
   "execution_count": 2,
   "metadata": {},
   "outputs": [],
   "source": [
    "import numpy as np\n",
    "\n",
    "# Chapter 3: Problems 1(b), 9(a,b), 17(c), 18(a,b,c,d), 20, 44, 46, 47, 50 and 60."
   ]
  },
  {
   "cell_type": "markdown",
   "metadata": {},
   "source": []
  },
  {
   "cell_type": "code",
   "execution_count": 6,
   "metadata": {},
   "outputs": [
    {
     "name": "stdout",
     "output_type": "stream",
     "text": [
      "We can represent the table as an array:\n",
      "[[0.1  0.05 0.02 0.02]\n",
      " [0.05 0.2  0.05 0.02]\n",
      " [0.02 0.05 0.2  0.04]\n",
      " [0.02 0.02 0.04 0.1 ]] \n",
      "\n",
      "1a | The marginal frequency function of x is [0.19 0.32 0.31 0.18]\n",
      "1a | The marginal frequency function of y is [0.19 0.32 0.31 0.18] \n",
      "\n",
      "We can see that the matrix is symmetrical. In this case, the conditional freq func of X when Y = 1 is the same as the freq func of Y when X = 1\n",
      "\n",
      "1b | The conditional freq function of y given x = 1 is [0.5263, 0.2632, 0.1053, 0.1053]\n",
      "1b | The conditional freq function of x given y = 1 is [0.5263, 0.2632, 0.1053, 0.1053]\n"
     ]
    }
   ],
   "source": [
    "# problem 1\n",
    "axes = {\"x\": 0, \"y\": 1}\n",
    "marg_freq = np.array(\n",
    "    [\n",
    "        [0.10, 0.05, 0.02, 0.02],\n",
    "        [0.05, 0.20, 0.05, 0.02],\n",
    "        [0.02, 0.05, 0.20, 0.04],\n",
    "        [0.02, 0.02, 0.04, 0.10],\n",
    "    ]\n",
    ")\n",
    "print(\"We can represent the table as an array:\")\n",
    "print(marg_freq,\"\\n\")\n",
    "\n",
    "y_marg = np.sum(marg_freq, axis=axes[\"x\"])\n",
    "x_marg = np.sum(marg_freq, axis=axes[\"y\"])\n",
    "print(\"1a | The marginal frequency function of x is\", x_marg)\n",
    "print(\"1a | The marginal frequency function of y is\", y_marg,\"\\n\")\n",
    "print(\"We can see that the matrix is symmetrical. In this case, the conditional freq func of X when Y = 1 is the same as the freq func of Y when X = 1\\n\")\n",
    "\n",
    "y_sum_x1 = y_marg[0]\n",
    "x_sum_y1 = x_marg[0]\n",
    "\n",
    "x_when_y1 = [round(n / x_sum_y1, 4) for n in marg_freq[0]]\n",
    "y_when_x1 = [round(row[0] / y_sum_x1, 4) for row in marg_freq]\n",
    "\n",
    "print(\"1b | The conditional freq function of y given x = 1 is\", y_when_x1)\n",
    "print(\"1b | The conditional freq function of x given y = 1 is\", x_when_y1)"
   ]
  },
  {
   "cell_type": "code",
   "execution_count": null,
   "metadata": {},
   "outputs": [],
   "source": []
  }
 ],
 "metadata": {
  "kernelspec": {
   "display_name": "Python 3.10.4 ('algofi')",
   "language": "python",
   "name": "python3"
  },
  "language_info": {
   "codemirror_mode": {
    "name": "ipython",
    "version": 3
   },
   "file_extension": ".py",
   "mimetype": "text/x-python",
   "name": "python",
   "nbconvert_exporter": "python",
   "pygments_lexer": "ipython3",
   "version": "3.10.4"
  },
  "orig_nbformat": 4,
  "vscode": {
   "interpreter": {
    "hash": "e4c811bee47d8c90b3eff8a9506211954d5d179212002b4a6acca2329b32ea02"
   }
  }
 },
 "nbformat": 4,
 "nbformat_minor": 2
}
