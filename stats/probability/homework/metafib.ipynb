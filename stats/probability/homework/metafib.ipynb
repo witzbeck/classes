{
 "cells": [
  {
   "cell_type": "code",
   "execution_count": 174,
   "metadata": {},
   "outputs": [],
   "source": [
    "from numpy import random\n",
    "from math import exp\n",
    "from time import perf_counter\n",
    "from functools import partial\n",
    "ri = random.randint"
   ]
  },
  {
   "cell_type": "code",
   "execution_count": 167,
   "metadata": {},
   "outputs": [],
   "source": [
    "len_var = lambda: ri(2, 5)\n",
    "idx_var = lambda: ri(0, 100000)\n",
    "init_vals = lambda _len: [ri(-5, 5) for i in range(_len)]\n",
    "coeff_vals = lambda _len: [ri(-2, 2) for i in range(_len)]\n",
    "def rand_fib(_len: int = len_var(), _idx: int = idx_var()):\n",
    "    return init_vals(_len), coeff_vals(_len), _idx"
   ]
  },
  {
   "cell_type": "code",
   "execution_count": 168,
   "metadata": {},
   "outputs": [],
   "source": [
    "def gen_fib1(a: list, b: list, n: int):\n",
    "    b.reverse()\n",
    "    _len = len(b)\n",
    "    _range = range(_len)\n",
    "    get_last_vals = lambda _seq: _seq[-_len:]\n",
    "    crunch_vals = lambda last_vals: sum([last_vals[i] * b[i] for i in _range])\n",
    "    \n",
    "    while len(a) <= n:\n",
    "        a.append(crunch_vals(get_last_vals(a)))\n",
    "    return a[n]\n"
   ]
  },
  {
   "cell_type": "code",
   "execution_count": 1,
   "metadata": {},
   "outputs": [],
   "source": [
    "def gen_fib2(a: list, b: list, n: int):\n",
    "    b_range = range(len(b))\n",
    "    for j in range(n - len(a) + 1):\n",
    "        a.append(sum([a[i] * b[-i-1] for i in b_range]))\n",
    "        a = a[1:]\n",
    "    return a[-1]"
   ]
  },
  {
   "cell_type": "code",
   "execution_count": 19,
   "metadata": {},
   "outputs": [
    {
     "data": {
      "text/plain": [
       "[0, 1, 1, 1, 1, 1]"
      ]
     },
     "execution_count": 19,
     "metadata": {},
     "output_type": "execute_result"
    }
   ],
   "source": [
    "def gen_fib3(a: list, b: list, n: int):\n",
    "    a_len = len(a)\n",
    "    b_len = len(b)\n",
    "    b_range = range(b_len)\n",
    "    x = [a[j] if j < a_len else sum([a[i - b_len] * b[-i - 1] for i in b_range]) for j in range(n + 1)]\n",
    "    return x\n",
    "gen_fib3([0, 1], [1, 1], 5)"
   ]
  },
  {
   "cell_type": "code",
   "execution_count": 173,
   "metadata": {},
   "outputs": [
    {
     "data": {
      "text/plain": [
       "5.782787791220471"
      ]
     },
     "execution_count": 173,
     "metadata": {},
     "output_type": "execute_result"
    }
   ],
   "source": [
    "def rand_test(n: int):\n",
    "    start = perf_counter()\n",
    "    for i in range(n):\n",
    "        x, y, z = rand_fib()\n",
    "        if gen_fib1(x, y, z) == gen_fib2(x, y, z):\n",
    "            pass\n",
    "        else:\n",
    "            raise ValueError\n",
    "    return perf_counter() - start\n",
    "rand_test(100)"
   ]
  },
  {
   "cell_type": "code",
   "execution_count": 83,
   "metadata": {},
   "outputs": [
    {
     "name": "stdout",
     "output_type": "stream",
     "text": [
      "0.1677\n"
     ]
    }
   ],
   "source": [
    "generalized_fibonacchi = gen_fib2\n",
    "def test(a, b): \n",
    "    if not a==b:\n",
    "        raise ValueError(a, b)\n",
    "\n",
    "\"Small Fibonacci\"\n",
    "def small_fibonacci():\n",
    "    test(generalized_fibonacchi([0, 1], [1, 1], 3), 2)\n",
    "    test(generalized_fibonacchi([0, 1], [1, 1], 8), 21)\n",
    "    test(generalized_fibonacchi([0, 1], [1, 1], 10), 55)\n",
    "    test(generalized_fibonacchi([0, 1], [1, 1], 15), 610)\n",
    "    \n",
    "\n",
    "\"Small Padovan\"\n",
    "def small_padovan():\n",
    "    test(generalized_fibonacchi([1, 1, 1], [0, 1, 1], 3), 2)\n",
    "    test(generalized_fibonacchi([1, 1, 1], [0, 1, 1], 10), 12)\n",
    "    test(generalized_fibonacchi([1, 1, 1], [0, 1, 1], 20), 200)\n",
    "    test(generalized_fibonacchi([1, 1, 1], [0, 1, 1], 21), 265)\n",
    "    \n",
    "\n",
    "\"Small Tribonacci\"\n",
    "def small_tribonacci():\n",
    "    test(generalized_fibonacchi([0, 0, 1], [1, 1, 1], 10), 81)\n",
    "    test(generalized_fibonacchi([0, 0, 1], [1, 1, 1], 12), 274)\n",
    "    \n",
    "\n",
    "\"Small Tetracchi\"\n",
    "def small_tetracci():\n",
    "    test(generalized_fibonacchi([0, 0, 0, 1], [1, 1, 1, 1], 10), 56)\n",
    "    test(generalized_fibonacchi([0, 0, 0, 1], [1, 1, 1, 1], 15), 1490)\n",
    "    \n",
    "\n",
    "\"Small Lucas\"\n",
    "def small_lucas():\n",
    "    test(generalized_fibonacchi([2, 1], [1, 1], 7), 29)\n",
    "    test(generalized_fibonacchi([2, 1], [1, 1], 10), 123)\n",
    "\n",
    "\n",
    "\"Negative values\"\n",
    "def small_neg_lucas():\n",
    "    test(generalized_fibonacchi([2, -1, -1], [1, 2, 2], 10), -207)\n",
    "    test(generalized_fibonacchi([-1, 3, -2], [2, 2, -2], 17), 195328)\n",
    "    test(generalized_fibonacchi([2, 0, -1], [2, 1, 2], 18), 2325123)\n",
    "    test(generalized_fibonacchi([-5, 0, 4], [-1, 2, -1], 23), -9593024)\n",
    "\n",
    "funcs = [small_padovan,small_fibonacci,small_tribonacci,small_tetracci,small_lucas,small_neg_lucas]\n",
    "start = perf_counter()\n",
    "for i in range(1000):\n",
    "    for func in funcs:\n",
    "        func()\n",
    "print(round(perf_counter() - start, 4))"
   ]
  },
  {
   "cell_type": "code",
   "execution_count": 81,
   "metadata": {},
   "outputs": [
    {
     "name": "stdout",
     "output_type": "stream",
     "text": [
      "5.2862\n",
      "6.2105\n"
     ]
    }
   ],
   "source": [
    "start = perf_counter()\n",
    "z = [x for x in range(100000000)]\n",
    "print(round(perf_counter() - start, 4))\n",
    "z.reverse()\n",
    "print(round(perf_counter() - start, 4))"
   ]
  },
  {
   "cell_type": "code",
   "execution_count": null,
   "metadata": {},
   "outputs": [],
   "source": [
    "[1,2,3,4,5][-3:]"
   ]
  },
  {
   "cell_type": "code",
   "execution_count": null,
   "metadata": {},
   "outputs": [],
   "source": []
  }
 ],
 "metadata": {
  "kernelspec": {
   "display_name": "Python 3.10.8 ('algofi')",
   "language": "python",
   "name": "python3"
  },
  "language_info": {
   "codemirror_mode": {
    "name": "ipython",
    "version": 3
   },
   "file_extension": ".py",
   "mimetype": "text/x-python",
   "name": "python",
   "nbconvert_exporter": "python",
   "pygments_lexer": "ipython3",
   "version": "3.10.8"
  },
  "orig_nbformat": 4,
  "vscode": {
   "interpreter": {
    "hash": "e4c811bee47d8c90b3eff8a9506211954d5d179212002b4a6acca2329b32ea02"
   }
  }
 },
 "nbformat": 4,
 "nbformat_minor": 2
}
