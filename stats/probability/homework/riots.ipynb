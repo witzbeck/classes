{
 "cells": [
  {
   "cell_type": "code",
   "execution_count": 2,
   "metadata": {},
   "outputs": [],
   "source": [
    "example_network = [[0, 1, 1, 1]\n",
    "                  ,[1, 0, 1, 0]\n",
    "                  ,[1, 1, 0, 0]\n",
    "                  ,[1, 0, 0, 0]]\n",
    "example_thresholds = [0, 0.4, 0.8, 1.1]\n",
    "network  = [[0, 1, 1]\n",
    "           ,[1, 0, 0]\n",
    "           ,[1, 0, 0]]\n",
    "thresholds1 = [1, 1, 1]\n",
    "thresholds2 = [0, 1.1, 1.1]\n",
    "thresholds3 = [0.4, 0, 0.4]\n",
    "thresholds4 = [1, 0, 0]\n",
    "\n",
    "# func1, ret1, reason1 = simulate_riot(network, thresholds1), [], 'Without an initial rioter should return an empty list.'\n",
    "# func2, ret2, reason2 = simulate_riot(network, thresholds2), [{0}], 'Initial rioter can not affect anyone due to high thresholds.'\n",
    "# func3, ret3, reason3 = simulate_riot(network, thresholds3), [{1},{0,1},{0,1,2}], 'Initial rioter can infect everyone due to low thresholds.'\n",
    "# func4, ret4, reason4 = simulate_riot(network, thresholds4), [{1,2},{0,1,2}], 'Two flanking rioters are able to affect a high threshold susceptible.'\n",
    "# func5, ret5, reason5 = simulate_riot(example_network, example_thresholds), [{0}, {0,1}, {0,1,2}], 'See explanation in Introduction.'\n",
    "# funcs = [func1, func2, func3, func4, func5]\n",
    "# rets = [ret1, ret2, ret3, ret4, ret5]\n",
    "# reasons = [reason1, reason2, reason3, reason4, reason5]"
   ]
  },
  {
   "cell_type": "code",
   "execution_count": 27,
   "metadata": {},
   "outputs": [
    {
     "data": {
      "text/plain": [
       "{0, 1}"
      ]
     },
     "execution_count": 27,
     "metadata": {},
     "output_type": "execute_result"
    }
   ],
   "source": [
    "dotsum = lambda N, M: sum([N[i] * M[i] for i in range(len(N))])\n",
    "rangeset = lambda _list: set([i for i in range(len(_list)) if _list[i] == 1])"
   ]
  },
  {
   "cell_type": "code",
   "execution_count": 33,
   "metadata": {},
   "outputs": [],
   "source": [
    "def simulate_riot(network, thresholds):\n",
    "    t = 0\n",
    "    history = []\n",
    "    is_rioter_list = next_rioter_list = [1 if x == 0 else 0 for x in thresholds]\n",
    "    if sum(is_rioter_list) == 0:\n",
    "        return history\n",
    "    else:\n",
    "        cur_set = rangeset(is_rioter_list)\n",
    "        history.append(cur_set)\n",
    "    while t < 10:\n",
    "        is_rioter_list = list(next_rioter_list)\n",
    "        for i, neighbors in enumerate(network):\n",
    "            is_rioter = is_rioter_list[i]\n",
    "            if is_rioter == 0:\n",
    "                threshold = thresholds[i]\n",
    "                total_neighbors = sum(neighbors)\n",
    "                rioting_neighbors = dotsum(is_rioter_list, neighbors)\n",
    "                riot_ratio = rioting_neighbors / total_neighbors\n",
    "                if riot_ratio >= threshold:\n",
    "                    next_rioter_list[i] = 1\n",
    "        next_set = rangeset(next_rioter_list)\n",
    "        if next_set == cur_set:\n",
    "            return history\n",
    "        else:\n",
    "            history.append(next_set)\n",
    "            cur_set = next_set\n",
    "        t += 1"
   ]
  },
  {
   "cell_type": "code",
   "execution_count": 35,
   "metadata": {},
   "outputs": [
    {
     "name": "stdout",
     "output_type": "stream",
     "text": [
      "Without an initial rioter should return an empty list.\n",
      "\tcalc response: []\n",
      "\ttrue response: []\n",
      "Initial rioter can not affect anyone due to high thresholds.\n",
      "\tcalc response: [{0}]\n",
      "\ttrue response: [{0}]\n",
      "Initial rioter can infect everyone due to low thresholds.\n",
      "\tcalc response: [{1}, {0, 1}, {0, 1, 2}]\n",
      "\ttrue response: [{1}, {0, 1}, {0, 1, 2}]\n",
      "Two flanking rioters are able to affect a high threshold susceptible.\n",
      "\tcalc response: [{1, 2}, {0, 1, 2}]\n",
      "\ttrue response: [{1, 2}, {0, 1, 2}]\n",
      "See explanation in Introduction.\n",
      "\tcalc response: [{0}, {0, 1}, {0, 1, 2}]\n",
      "\ttrue response: [{0}, {0, 1}, {0, 1, 2}]\n"
     ]
    }
   ],
   "source": [
    "func1, ret1, reason1 = simulate_riot(network, thresholds1), [], 'Without an initial rioter should return an empty list.'\n",
    "func2, ret2, reason2 = simulate_riot(network, thresholds2), [{0}], 'Initial rioter can not affect anyone due to high thresholds.'\n",
    "func3, ret3, reason3 = simulate_riot(network, thresholds3), [{1},{0,1},{0,1,2}], 'Initial rioter can infect everyone due to low thresholds.'\n",
    "func4, ret4, reason4 = simulate_riot(network, thresholds4), [{1,2},{0,1,2}], 'Two flanking rioters are able to affect a high threshold susceptible.'\n",
    "func5, ret5, reason5 = simulate_riot(example_network, example_thresholds), [{0}, {0,1}, {0,1,2}], 'See explanation in Introduction.'\n",
    "funcs = [func1, func2, func3, func4, func5]\n",
    "rets = [ret1, ret2, ret3, ret4, ret5]\n",
    "reasons = [reason1, reason2, reason3, reason4, reason5]\n",
    "for i in range(len(funcs)):\n",
    "    print(reasons[i])\n",
    "    print(\"\\tcalc response:\", funcs[i])\n",
    "    print(\"\\ttrue response:\", rets[i])"
   ]
  },
  {
   "cell_type": "code",
   "execution_count": null,
   "metadata": {},
   "outputs": [],
   "source": []
  }
 ],
 "metadata": {
  "kernelspec": {
   "display_name": "Python 3.10.8 ('algofi')",
   "language": "python",
   "name": "python3"
  },
  "language_info": {
   "codemirror_mode": {
    "name": "ipython",
    "version": 3
   },
   "file_extension": ".py",
   "mimetype": "text/x-python",
   "name": "python",
   "nbconvert_exporter": "python",
   "pygments_lexer": "ipython3",
   "version": "3.10.8"
  },
  "orig_nbformat": 4,
  "vscode": {
   "interpreter": {
    "hash": "e4c811bee47d8c90b3eff8a9506211954d5d179212002b4a6acca2329b32ea02"
   }
  }
 },
 "nbformat": 4,
 "nbformat_minor": 2
}
