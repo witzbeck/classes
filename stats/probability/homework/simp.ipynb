{
 "cells": [
  {
   "cell_type": "code",
   "execution_count": 113,
   "metadata": {},
   "outputs": [],
   "source": [
    "from logging import info\n",
    "from itertools import chain"
   ]
  },
  {
   "cell_type": "code",
   "execution_count": 143,
   "metadata": {},
   "outputs": [],
   "source": [
    "def chain_list(_list: list):\n",
    "    return list(chain.from_iterable(_list))"
   ]
  },
  {
   "cell_type": "code",
   "execution_count": 144,
   "metadata": {},
   "outputs": [
    {
     "name": "stdout",
     "output_type": "stream",
     "text": [
      "example 1\n",
      "\t equations: ['a + a = b', 'b - d = c', 'a + b = d']\n",
      "\t formula: c + a + b\n",
      "\t expected answer: 2a\n",
      "example 2\n",
      "\t equations: ['a + 3g = k', '-70a = g']\n",
      "\t formula: -k + a\n",
      "\t expected answer: 210a\n",
      "example 3\n",
      "\t equations: ['-j -j -j + j = b']\n",
      "\t formula: -j - b\n",
      "\t expected answer: 1j\n"
     ]
    },
    {
     "data": {
      "text/plain": [
       "['c + a + b',\n",
       " '-k + a',\n",
       " '-j - b',\n",
       " 'a + a ',\n",
       " 'b - d ',\n",
       " 'a + b ',\n",
       " 'a + 3g ',\n",
       " '-70a ',\n",
       " '-j -j -j + j ']"
      ]
     },
     "execution_count": 144,
     "metadata": {},
     "output_type": "execute_result"
    }
   ],
   "source": [
    "examples=[[\"a + a = b\", \"b - d = c\", \"a + b = d\"],\n",
    "          [\"a + 3g = k\", \"-70a = g\"],\n",
    "          [\"-j -j -j + j = b\"]\n",
    "         ]\n",
    "formula=[\"c + a + b\",\n",
    "         \"-k + a\",\n",
    "         \"-j - b\"\n",
    "        ]\n",
    "answer=[\"2a\",\n",
    "        \"210a\",\n",
    "        \"1j\"\n",
    "       ]\n",
    "\n",
    "for i in range(len(answer)):\n",
    "    print(\"example\", i+1)\n",
    "    print(\"\\t\", 'equations:', str(examples[i]))\n",
    "    print(\"\\t\", 'formula:', str(formula[i]))\n",
    "    print(\"\\t\", 'expected answer:', str(answer[i]))\n",
    "exp_chain = [x.split(\"=\")[0] for x in chain_list(examples)]\n",
    "all_exp = formula + exp_chain\n",
    "all_exp"
   ]
  },
  {
   "cell_type": "code",
   "execution_count": 145,
   "metadata": {},
   "outputs": [],
   "source": [
    "\n",
    "def rm_spaces(input: str):\n",
    "    return \"\".join(input.split(\" \"))\n",
    "\n",
    "def cum_prod(int_list):\n",
    "    return_val = 1\n",
    "    for val in int_list:\n",
    "        return_val *= int(val)\n",
    "    return return_val\n",
    "\n",
    "def cum_prod_prod_str(int_list, cur_val):\n",
    "    try:\n",
    "        cur_val = int(cur_val)\n",
    "    except ValueError:\n",
    "        if cur_val == \"\":\n",
    "            cur_val = 1\n",
    "        elif cur_val == \"-\":\n",
    "            cur_val = -1\n",
    "    return str(cum_prod(int_list) * cur_val)"
   ]
  },
  {
   "cell_type": "code",
   "execution_count": 146,
   "metadata": {},
   "outputs": [
    {
     "name": "stdout",
     "output_type": "stream",
     "text": [
      "-1a a -1\n",
      "123y y 123\n",
      "1b b 1\n",
      "34f f 34\n",
      "-234 int -234\n"
     ]
    }
   ],
   "source": [
    "class Term:\n",
    "    def __init__(self, val: int = 1, var: str = \"\", raw: str = None):\n",
    "        self.val = val\n",
    "        self.var = var\n",
    "        if raw is not None:\n",
    "            raw = raw.strip(\" \")\n",
    "            if raw[-1].isalpha():\n",
    "                self.var = raw[-1]               \n",
    "            else:\n",
    "                self.var = \"int\"         \n",
    "            if self.var == \"int\":\n",
    "                try:\n",
    "                    self.val = int(raw)\n",
    "                except ValueError:\n",
    "                    if raw == \"-\":\n",
    "                        self.val = -1\n",
    "                    info(raw)\n",
    "            elif (len(raw) == 1 and raw.isalpha()):\n",
    "                self.val = 1\n",
    "            elif (len(raw) == 2 and raw[0] == \"-\"):\n",
    "                self.val = -1\n",
    "            else:\n",
    "                self.val = int(raw[:-1])\n",
    "\n",
    "    def __repr__(self):\n",
    "        if self.var == \"int\":\n",
    "            return str(self.val)\n",
    "        return str(self.val) + self.var\n",
    "\n",
    "    def __add__(self, term):\n",
    "        if self.var == term.var:\n",
    "            new_val = int(self.val) + int(term.val)\n",
    "            return Term(var=self.var, val=new_val)\n",
    "        else:\n",
    "            raise ValueError(f\"the vars don't match: {self.var} != {term.var}\")\n",
    "    \n",
    "    def __mul__(self, integer):\n",
    "        self.val *= integer\n",
    "    \n",
    "    def __neg__(self):\n",
    "        self.val = -self.val"
   ]
  },
  {
   "cell_type": "code",
   "execution_count": 197,
   "metadata": {},
   "outputs": [
    {
     "name": "stdout",
     "output_type": "stream",
     "text": [
      "original expression: -3(-70a)\n",
      "object repr: 210a\n",
      "original expression: -(1a + 3a -1a +(4a -5a) + 6a)\n",
      "object repr: -8a\n"
     ]
    }
   ],
   "source": [
    "class Expression:\n",
    "    def _get_vars(self):\n",
    "        letters = [x for x in self.exp if x.isalpha()]\n",
    "        return list(set(letters))\n",
    "\n",
    "    def _rm_parens(self, exp):\n",
    "        plus_exp = \"\"\n",
    "        for i, char in enumerate(exp):\n",
    "            if (char == \"-\" and i > 0):\n",
    "                plus_exp =  plus_exp + \"+\"\n",
    "            elif (i > 0 and char == \"(\" and exp[i - 1] == \"-\"):\n",
    "                plus_exp =  plus_exp + \"1\"\n",
    "            elif (char.isalpha() and (exp[i - 1] in \"+-(\" or i == 0)):\n",
    "                plus_exp =  plus_exp + \"1\"\n",
    "            plus_exp =  plus_exp + char\n",
    "            info(\"add_plus_str:\", plus_exp)\n",
    "        \n",
    "        int_list = [1]\n",
    "        info(\"plus_exp\", plus_exp)\n",
    "        plus_list = plus_exp.split(\"+\")\n",
    "        new_list = []\n",
    "        for i, term in enumerate(plus_list):\n",
    "            if \"(\" in term:\n",
    "                term = term.split(\"(\")\n",
    "                if term[0] in [\"-\", \"-1\"]:\n",
    "                    to_append = -1\n",
    "                elif term[0] in [\"1\", \"\"]:\n",
    "                    to_append = 1\n",
    "                else:\n",
    "                    to_append = int(term[0])\n",
    "                int_list.append(to_append)\n",
    "                if term[-1] == \"\":\n",
    "                    continue\n",
    "                else:\n",
    "                    term = term[-1]\n",
    "            info(term, new_list, int_list)\n",
    "            if \")\" in term:\n",
    "                right_paren_ind = True\n",
    "                term = term.strip(\")\")\n",
    "            else:\n",
    "                right_paren_ind = False            \n",
    "            if term in [\"\", \"+\", \"-\"]:\n",
    "                continue   \n",
    "            if term[-1].isalpha():\n",
    "                var = term[-1]\n",
    "                if len(term) == 1:\n",
    "                    _val = 1\n",
    "                elif (len(term) == 2 and term[0] == \"-\"):\n",
    "                    _val = -1\n",
    "                else:\n",
    "                    _val = term[:-1]\n",
    "            else:\n",
    "                var = \"\"\n",
    "                _val = int(term)\n",
    "                \n",
    "            val = cum_prod_prod_str(int_list, _val)\n",
    "            info(f\"log{i}: term={plus_list[i]} var={var}, val={val}\")\n",
    "            if right_paren_ind:\n",
    "                int_list.pop(-1)\n",
    "            new_list.append(val + var)\n",
    "        return new_list\n",
    "\n",
    "    def make_term_dict(self):\n",
    "        term_dict = {}\n",
    "        for i, term in enumerate(self.raw_terms):\n",
    "            if term == \"\":\n",
    "                continue\n",
    "            _term = Term(raw=term)\n",
    "            cur_keys = list(term_dict.keys())\n",
    "            if _term.var in cur_keys:\n",
    "                term_dict[_term.var] = term_dict[_term.var] + _term         \n",
    "            else:\n",
    "                term_dict[_term.var] = _term\n",
    "        return term_dict\n",
    "\n",
    "    def __init__(self, expression: str):\n",
    "        self.exp = rm_spaces(expression)\n",
    "        info(\"post rm_spaces\", self.exp)\n",
    "        self.raw_terms = self._rm_parens(self.exp)\n",
    "        info(\"post rm_parens\", self.raw_terms)\n",
    "        self.term_dict = self.make_term_dict()\n",
    "        info(\"term_dict:\", self.term_dict)\n",
    "        self.vars = self._get_vars()\n",
    "\n",
    "    def __repr__(self):\n",
    "        term_objs = list(self.term_dict.values())\n",
    "        term_repr = [str(x) for x in term_objs if x.val != 0]\n",
    "        info(\"term_reprs:\", term_repr)\n",
    "        return \"+\".join(term_repr)\n",
    "     \n",
    "#for exp in all_exp[5:]:\n",
    "for exp in [\"-3(-70a)\", \"-(1a + 3a -1a +(4a -5a) + 6a)\"]:\n",
    "    print(\"original expression:\", exp)\n",
    "    e = Expression(exp)\n",
    "    print(\"object repr:\", e)"
   ]
  },
  {
   "cell_type": "code",
   "execution_count": 198,
   "metadata": {},
   "outputs": [],
   "source": [
    "class PreSimplifier:\n",
    "    def get_eq_dict(self):\n",
    "        eqs = [eq.split(\"=\") for eq in self.equations]\n",
    "        _dict = {}\n",
    "        for eq in eqs:\n",
    "            if len(eq[0]) == 1:\n",
    "                key = eq[0]\n",
    "                val = eq[-1]\n",
    "            elif len(eq[-1]) == 1:\n",
    "                key = eq[-1]\n",
    "                val = eq[0]\n",
    "            else:\n",
    "                raise ValueError(\"equation not one-sided\")\n",
    "            _dict[key] = f\"{Expression(val)}\"\n",
    "        return _dict\n",
    "    \n",
    "    def __init__(self, equations, formula):\n",
    "        self.equations = [rm_spaces(x) for x in equations]\n",
    "        self.formula = Expression(rm_spaces(formula))\n",
    "        self.eq_dict = self.get_eq_dict()\n",
    "        for eq in list(self.eq_dict.keys()):\n",
    "            self.eq_dict[eq] = Expression(self.eq_dict[eq])"
   ]
  },
  {
   "cell_type": "code",
   "execution_count": 199,
   "metadata": {},
   "outputs": [],
   "source": [
    "def sub_var_into_str_exp(str_exp: str, sub_var: str, insert_str: str):\n",
    "    split_exp = str_exp.split(sub_var)\n",
    "    return insert_str.join(split_exp)\n",
    "\n",
    "class Simplifier: \n",
    "    def __init__(self, equations, formula):\n",
    "        ps = PreSimplifier(equations, formula)\n",
    "        self.eq_dict = ps.eq_dict\n",
    "        self.formula = ps.formula\n",
    "        self.eq_keys = list(self.eq_dict.keys())\n",
    "    \n",
    "    def one_formula_sub_loop(self):\n",
    "        for var in self.formula.vars:\n",
    "            if var in self.eq_keys:\n",
    "                str_exp = str(self.formula)\n",
    "                insert_str = f\"({self.eq_dict[var]})\"\n",
    "                new_exp = sub_var_into_str_exp(str_exp, var, insert_str)\n",
    "                self.formula = Expression(new_exp)\n",
    "                info(\"new exp:\", new_exp, \"new form:\", self.formula)"
   ]
  },
  {
   "cell_type": "code",
   "execution_count": 200,
   "metadata": {},
   "outputs": [
    {
     "name": "stdout",
     "output_type": "stream",
     "text": [
      "real answer: 2a\n",
      "calc answer: 2a\n",
      "real answer: 210a\n",
      "calc answer: 210a\n",
      "real answer: 1j\n",
      "calc answer: 1j\n"
     ]
    }
   ],
   "source": [
    "\n",
    "def simplify(eqs: list, form: str):\n",
    "    simp = Simplifier(eqs, form)\n",
    "    prev_formula = \"\"\n",
    "    cur_formula = str(simp.formula)\n",
    "    loop_counter = 0\n",
    "    while (prev_formula != cur_formula and loop_counter < 3):\n",
    "        simp.one_formula_sub_loop()\n",
    "        prev_formula = cur_formula\n",
    "        cur_formula = str(simp.formula)\n",
    "        loop_counter += 1\n",
    "    return cur_formula\n",
    "for i in range(3):\n",
    "    simp = simplify(examples[i], formula[i])\n",
    "    print(\"real answer:\", answer[i])\n",
    "    print(\"calc answer:\", simp)\n"
   ]
  },
  {
   "cell_type": "code",
   "execution_count": 159,
   "metadata": {},
   "outputs": [
    {
     "name": "stdout",
     "output_type": "stream",
     "text": [
      "example 2\n",
      "\t equations: ['a + 3g = k', '-70a = g']\n",
      "\t formula: -k + a\n",
      "\t expected answer: 210a\n"
     ]
    }
   ],
   "source": [
    "i = ex_num\n",
    "print(\"example\", i + 1)\n",
    "print(\"\\t\", 'equations:', str(examples[i]))\n",
    "print(\"\\t\", 'formula:', str(formula[i]))\n",
    "print(\"\\t\", 'expected answer:', str(answer[i]))"
   ]
  },
  {
   "cell_type": "code",
   "execution_count": null,
   "metadata": {},
   "outputs": [],
   "source": []
  }
 ],
 "metadata": {
  "kernelspec": {
   "display_name": "Python 3.10.4 ('algofi')",
   "language": "python",
   "name": "python3"
  },
  "language_info": {
   "codemirror_mode": {
    "name": "ipython",
    "version": 3
   },
   "file_extension": ".py",
   "mimetype": "text/x-python",
   "name": "python",
   "nbconvert_exporter": "python",
   "pygments_lexer": "ipython3",
   "version": "3.10.8"
  },
  "orig_nbformat": 4,
  "vscode": {
   "interpreter": {
    "hash": "e4c811bee47d8c90b3eff8a9506211954d5d179212002b4a6acca2329b32ea02"
   }
  }
 },
 "nbformat": 4,
 "nbformat_minor": 2
}
