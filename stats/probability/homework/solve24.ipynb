{
 "cells": [
  {
   "cell_type": "code",
   "execution_count": 52,
   "metadata": {},
   "outputs": [],
   "source": [
    "from numpy.random import choice, randint\n",
    "rand_op = lambda: choice([\"*\", \"/\", \"-\", \"+\", \"()\"])\n",
    "max_int = 13\n",
    "rand4 = lambda: [randint(1, max_int) for i in range(4)]\n",
    "\n",
    "def make_eq_str(num1: int, num2: int, op: str):\n",
    "    if op == \"()\":\n",
    "        inner_op = choice([\"*\", \"/\", \"-\", \"+\"])\n",
    "        return f\"({num1}{inner_op}{num2})\"\n",
    "    else:\n",
    "        return f\"{num1}{op}{num2}\"\n",
    "\n",
    "\n",
    "def equals24(nums: list = rand4()):\n",
    "    str_nums = [str(num) for num in nums]\n",
    "    out_str = \"\"\n",
    "    while len(nums) > 1:\n",
    "        op = rand_op()\n",
    "        idx1 = randint(len(nums))\n",
    "        num1 = nums.pop(idx1)\n",
    "        idx2 = randint(len(nums))\n",
    "        num2 = nums.pop(idx2)\n",
    "        expr = make_eq_str(num1, num2, op)\n",
    "        nums.append(expr)\n",
    "    return nums[0]"
   ]
  },
  {
   "cell_type": "code",
   "execution_count": 53,
   "metadata": {},
   "outputs": [],
   "source": [
    "def find_match(idx, code):\n",
    "    matches = {\n",
    "        \"(\":{\"match\": \")\",\"dir\": 1},\n",
    "        \")\":{\"match\": \"(\",\"dir\": -1},\n",
    "        \"[\":{\"match\": \"]\",\"dir\": 1},\n",
    "        \"]\":{\"match\": \"[\",\"dir\": -1},\n",
    "        }\n",
    "    char = code[idx]\n",
    "    match = matches[char][\"match\"]\n",
    "    dir = matches[char][\"dir\"]\n",
    "\n",
    "    unmatched_brackets = 0\n",
    "    i = idx + dir\n",
    "\n",
    "    while True:\n",
    "        x = code[i]\n",
    "        if (x == match and unmatched_brackets == 0):\n",
    "            return i\n",
    "        elif (x == match and unmatched_brackets > 0):\n",
    "            unmatched_brackets -= 1\n",
    "        elif x == char:\n",
    "            unmatched_brackets += 1\n",
    "        else:\n",
    "            pass\n",
    "        i = i + dir        "
   ]
  },
  {
   "cell_type": "code",
   "execution_count": 59,
   "metadata": {},
   "outputs": [
    {
     "name": "stdout",
     "output_type": "stream",
     "text": [
      "11+4-7*10\n",
      "11+4-7*10\n",
      "11\n",
      "11\n"
     ]
    },
    {
     "data": {
      "text/plain": [
       "22"
      ]
     },
     "execution_count": 59,
     "metadata": {},
     "output_type": "execute_result"
    }
   ],
   "source": [
    "def op_split(text, target_op):\n",
    "    _split = text.split(target_op)\n",
    "    start = _split[0]\n",
    "    end = \"\".join(_split[:-1])\n",
    "    return start, end\n",
    "\n",
    "def solve_pair(text: str):\n",
    "    print(text)\n",
    "    ops = \"+-/*\"\n",
    "    op_count = sum([text.count(x) for x in ops])\n",
    "\n",
    "    if op_count == 0:\n",
    "        return int(text)\n",
    "    elif op_count == 1:\n",
    "        if \"+\" in text:\n",
    "            _split = text.split(\"+\")\n",
    "            return int(_split[0]) + int(_split[-1])\n",
    "        elif \"-\" in text:\n",
    "            _split = text.split(\"-\")\n",
    "            return int(_split[0]) - int(_split[-1])\n",
    "        elif \"/\" in text:\n",
    "            _split = text.split(\"/\")\n",
    "            return int(int(_split[0]) / int(_split[-1]))\n",
    "        elif \"*\" in text:\n",
    "            _split = text.split(\"*\")\n",
    "            return int(_split[0]) * int(_split[-1])\n",
    "\n",
    "    elif op_count > 1:\n",
    "        if \"+\" in text:\n",
    "            start, end = op_split(text, \"+\")\n",
    "            return solve_pair(start) + solve_pair(end)\n",
    "        elif \"-\" in text:\n",
    "            start, end = op_split(text, \"-\")\n",
    "            return solve_pair(start) - solve_pair(end)\n",
    "        elif \"/\" in text:\n",
    "            start, end = op_split(text, \"/\")\n",
    "            return  solve_pair(start) / solve_pair(end)\n",
    "        elif \"*\" in text:\n",
    "            start, end = op_split(text, \"*\")\n",
    "            return solve_pair(start) * solve_pair(end)\n",
    "\n",
    "    elif op_count > 1:\n",
    "        raise ValueError(\"too many operators\")\n",
    "    elif (\"(\" in text and op_count == 1):\n",
    "        return solve_pair(text.replace(\"(\", \"\").replace(\")\", \"\"))   \n",
    "def solve_eq(text):\n",
    "    print(text)\n",
    "    while (n_paren:=text.count(\"(\")) > 0:\n",
    "        print(text)\n",
    "        left_idx = text.index(\"(\", n_paren)\n",
    "        right_idx = find_match(left_idx, text)\n",
    "        solved = solve_pair(text[left_idx:right_idx+1])\n",
    "        if left_idx > 0:\n",
    "            left = text[:left_idx]\n",
    "        else:\n",
    "            left = \"\"\n",
    "        if right_idx == len(text) - 1:\n",
    "            right = \"\"\n",
    "        else:\n",
    "            right = text[right_idx + 1:]\n",
    "        center = solve_pair(text[left_idx+1:right_idx])\n",
    "        text = solve_pair(left+str(center)+right)\n",
    "    return solve_pair(text)\n",
    "solve_eq(equals24(nums=rand4()))"
   ]
  },
  {
   "cell_type": "code",
   "execution_count": null,
   "metadata": {},
   "outputs": [],
   "source": []
  }
 ],
 "metadata": {
  "kernelspec": {
   "display_name": "Python 3.10.8 ('algofi')",
   "language": "python",
   "name": "python3"
  },
  "language_info": {
   "codemirror_mode": {
    "name": "ipython",
    "version": 3
   },
   "file_extension": ".py",
   "mimetype": "text/x-python",
   "name": "python",
   "nbconvert_exporter": "python",
   "pygments_lexer": "ipython3",
   "version": "3.10.8 (main, Nov 24 2022, 08:09:04) [Clang 14.0.6 ]"
  },
  "orig_nbformat": 4,
  "vscode": {
   "interpreter": {
    "hash": "e4c811bee47d8c90b3eff8a9506211954d5d179212002b4a6acca2329b32ea02"
   }
  }
 },
 "nbformat": 4,
 "nbformat_minor": 2
}
