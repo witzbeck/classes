{
 "cells": [
  {
   "cell_type": "markdown",
   "metadata": {},
   "source": [
    "Probability w/ Applications\n",
    "Fall 22\n",
    "\n",
    "Ch 1 Part 1"
   ]
  },
  {
   "cell_type": "code",
   "execution_count": 1,
   "metadata": {},
   "outputs": [],
   "source": [
    "# imports\n",
    "from numpy.random import randint, choice\n",
    "from matplotlib.pyplot import subplots\n",
    "from numpy import *\n",
    "from math import *"
   ]
  },
  {
   "cell_type": "markdown",
   "metadata": {},
   "source": [
    "1.2 Sample Spaces"
   ]
  },
  {
   "cell_type": "code",
   "execution_count": 2,
   "metadata": {},
   "outputs": [
    {
     "data": {
      "text/plain": [
       "['ccc', 'ccs', 'csc', 'css', 'scc', 'scs', 'ssc', 'sss']"
      ]
     },
     "execution_count": 2,
     "metadata": {},
     "output_type": "execute_result"
    }
   ],
   "source": [
    "# Example A\n",
    "a_sample_space = []\n",
    "choices = [\"c\", \"s\"]\n",
    "\n",
    "for c1 in choices:\n",
    "    for c2 in choices:\n",
    "        for c3 in choices:\n",
    "            a_sample_space.append(c1 + c2 + c3)\n",
    "\n",
    "a_sample_space"
   ]
  },
  {
   "cell_type": "code",
   "execution_count": 3,
   "metadata": {},
   "outputs": [
    {
     "data": {
      "text/plain": [
       "array([0., 1., 2., 3., 4., 5.])"
      ]
     },
     "execution_count": 3,
     "metadata": {},
     "output_type": "execute_result"
    }
   ],
   "source": [
    "# Example B\n",
    "b_sample_space = lambda x: linspace(0, x, x + 1)\n",
    "b_sample_space(5)"
   ]
  },
  {
   "cell_type": "code",
   "execution_count": 4,
   "metadata": {},
   "outputs": [
    {
     "data": {
      "text/plain": [
       "array([0.        , 0.20833333, 0.41666667, 0.625     , 0.83333333,\n",
       "       1.04166667, 1.25      , 1.45833333, 1.66666667, 1.875     ,\n",
       "       2.08333333, 2.29166667, 2.5       , 2.70833333, 2.91666667,\n",
       "       3.125     , 3.33333333, 3.54166667, 3.75      , 3.95833333,\n",
       "       4.16666667, 4.375     , 4.58333333, 4.79166667, 5.        ])"
      ]
     },
     "execution_count": 4,
     "metadata": {},
     "output_type": "execute_result"
    }
   ],
   "source": [
    "# Example C\n",
    "c_sample_space = lambda x: linspace(0, x, x**2)\n",
    "c_sample_space(5)"
   ]
  },
  {
   "cell_type": "code",
   "execution_count": 5,
   "metadata": {},
   "outputs": [
    {
     "name": "stdout",
     "output_type": "stream",
     "text": [
      "['scc', 'scs', 'ssc', 'sss']\n",
      "[0. 1. 2. 3. 4.]\n",
      "[0.    0.375 0.75  1.125 1.5   1.875 2.25  2.625 3.   ]\n"
     ]
    }
   ],
   "source": [
    "# Random Events\n",
    "ex_a = [x for x in a_sample_space if x[0] == \"s\"]\n",
    "print(ex_a)\n",
    "ex_b = b_sample_space(4)\n",
    "print(ex_b)\n",
    "ex_c = c_sample_space(3)\n",
    "print(ex_c)\n"
   ]
  },
  {
   "cell_type": "code",
   "execution_count": 6,
   "metadata": {},
   "outputs": [],
   "source": [
    "#Set Operations\n",
    "union = lambda x, y: list(set(list(x) + list(y)))\n",
    "intersection = lambda x, y: [z for z in union(x, y) if (z in x and z in y)]\n",
    "complement = lambda x, y: [z for z in x if z not in y]\n",
    "def disjoint(list1: list, list2: list):\n",
    "    sction = intersection(list1, list2)\n",
    "    if len(sction) == 0:\n",
    "        return True\n",
    "    else:\n",
    "        return False"
   ]
  },
  {
   "cell_type": "code",
   "execution_count": 7,
   "metadata": {},
   "outputs": [
    {
     "data": {
      "text/plain": [
       "True"
      ]
     },
     "execution_count": 7,
     "metadata": {},
     "output_type": "execute_result"
    }
   ],
   "source": [
    "a = [x for x in range(5)]\n",
    "b = [x for x in range(10)]\n",
    "c = [x for x in range(2, 12)]\n",
    "d = [x for x in range(5, 10)]\n",
    "\n",
    "\n",
    "# communicative laws\n",
    "union(a, b) == union(b, a)\n",
    "intersection(a, b) == intersection(b, a)\n",
    "\n",
    "# associative laws\n",
    "union(union(a, b), c) == union(a, union(b, c))\n",
    "intersection(intersection(a, b), c) == intersection(a, intersection(b, c))\n",
    "\n",
    "# distributive laws\n",
    "intersection(union(a, b), c) == union(intersection(a, c), intersection(b, c))\n",
    "union(intersection(a, b), c) == intersection(union(a, c), union(b, c))"
   ]
  },
  {
   "cell_type": "code",
   "execution_count": 8,
   "metadata": {},
   "outputs": [
    {
     "name": "stdout",
     "output_type": "stream",
     "text": [
      "1\n",
      "a >= 0\n",
      "True\n"
     ]
    }
   ],
   "source": [
    "# 1.3 Probability Measures\n",
    "\n",
    "# prob of total set = 1\n",
    "p = lambda: 1\n",
    "print(p())\n",
    "\n",
    "# if a in set, prob of a >= 0\n",
    "a_choice = choice(a)\n",
    "if a_choice in a:\n",
    "    print(\"a >= 0\")\n",
    "\n",
    "# if disjoint, a U d = a + d\n",
    "if disjoint(a, d):\n",
    "    print(union(a, d) == a + d)"
   ]
  },
  {
   "cell_type": "code",
   "execution_count": 17,
   "metadata": {},
   "outputs": [
    {
     "data": {
      "text/plain": [
       "['t', 'h']"
      ]
     },
     "execution_count": 17,
     "metadata": {},
     "output_type": "execute_result"
    }
   ],
   "source": [
    "# Properties\n",
    "compliment = lambda x: 1 - x\n",
    "len([]) == 0\n",
    "list(\"th\")"
   ]
  },
  {
   "cell_type": "code",
   "execution_count": 20,
   "metadata": {},
   "outputs": [
    {
     "data": {
      "text/plain": [
       "['11',\n",
       " '12',\n",
       " '13',\n",
       " '14',\n",
       " '15',\n",
       " '16',\n",
       " '21',\n",
       " '22',\n",
       " '23',\n",
       " '24',\n",
       " '25',\n",
       " '26',\n",
       " '31',\n",
       " '32',\n",
       " '33',\n",
       " '34',\n",
       " '35',\n",
       " '36',\n",
       " '41',\n",
       " '42',\n",
       " '43',\n",
       " '44',\n",
       " '45',\n",
       " '46',\n",
       " '51',\n",
       " '52',\n",
       " '53',\n",
       " '54',\n",
       " '55',\n",
       " '56',\n",
       " '61',\n",
       " '62',\n",
       " '63',\n",
       " '64',\n",
       " '65',\n",
       " '66']"
      ]
     },
     "execution_count": 20,
     "metadata": {},
     "output_type": "execute_result"
    }
   ],
   "source": [
    "class SampleSpace(object):\n",
    "    def one_iter(self, cur_list: list):      \n",
    "        full_resp = []\n",
    "        for resp in cur_list:\n",
    "            resp_part = [resp + x for x in self.response_set]\n",
    "            full_resp = full_resp + resp_part\n",
    "        return full_resp\n",
    "\n",
    "    def flip(self, n_flips: int):      \n",
    "        cur_list = self.r_list_cur\n",
    "        if n_flips < 2:\n",
    "            return cur_list\n",
    "        else:\n",
    "            for i in range(n_flips - 1): #-1 cuz one flip should give response set\n",
    "                cur_list = self.one_iter(cur_list)         \n",
    "        self.r_list_cur = cur_list\n",
    "        return cur_list\n",
    "            \n",
    "    def __init__(self, response_set: set):\n",
    "        self.response_set = response_set\n",
    "        self.r_list_init = list(response_set)\n",
    "        self.r_list_cur = self.r_list_init\n",
    "        self.r_len = len(response_set)\n",
    "        self.r_range = range(self.r_len)              \n",
    "\n",
    "class CoinSampleSpace(SampleSpace):\n",
    "    def __init__(self, flips, response_set = \"th\"):\n",
    "        super().__init__(response_set)\n",
    "        self.flip(flips)\n",
    "        self.ss = self.r_list_cur\n",
    "\n",
    "class DiceSampleSpace(SampleSpace):\n",
    "    def __init__(self, flips, response_set = \"123456\"):\n",
    "        super().__init__(response_set)\n",
    "        self.flip(flips)\n",
    "        self.ss = self.r_list_cur\n",
    "\n",
    "\n",
    "CoinSampleSpace(2).ss\n",
    "DiceSampleSpace(2).ss"
   ]
  },
  {
   "cell_type": "code",
   "execution_count": null,
   "metadata": {},
   "outputs": [],
   "source": [
    "coin_set = [\"t\", \"h\"]\n",
    "coin_flip = lambda: choice(coin_set)\n",
    "def coin_ss(flips: int,\n",
    "            coin_set: list = coin_set) -> list:\n",
    "    # coin sample space\n",
    "    if flips == 1:\n",
    "        return coin_set\n",
    "    else:\n",
    "        flips -= 1\n",
    "    ss = coin_set\n",
    "    for i in range(flips):\n",
    "        # for side in coin_set:\n",
    "        #    sst = [x + side for x in ss]\n",
    "        sst = [x + \"t\" for x in ss]\n",
    "        ssh = [x + \"h\" for x in ss]\n",
    "        ss = sst + ssh\n",
    "    return ss\n",
    "ht_on_i = lambda ht, i, y: [x for x in coin_ss(y) if x[i] == ht]\n",
    "uni_prob = lambda in_set, full_set : len(in_set)/len(full_set)"
   ]
  },
  {
   "cell_type": "code",
   "execution_count": 52,
   "metadata": {},
   "outputs": [
    {
     "data": {
      "text/plain": [
       "True"
      ]
     },
     "execution_count": 52,
     "metadata": {},
     "output_type": "execute_result"
    }
   ],
   "source": [
    "flips = 2\n",
    "h_ss = coin_ss(flips)\n",
    "first_toss_heads = ht_on_i(\"h\", 0, flips)\n",
    "h1 = first_toss_heads\n",
    "second_toss_heads = ht_on_i(\"h\", 1, flips)\n",
    "h2 = second_toss_heads\n",
    "\n",
    "h_union = union(h1, h2)\n",
    "h_union_prob = uni_prob(h_union, h_ss)\n",
    "\n",
    "hi = intersection(h1, h2)\n",
    "hi_prob = uni_prob(hi, h_ss)\n",
    "h1_prob = uni_prob(h1, h_ss)\n",
    "h2_prob = uni_prob(h2, h_ss)\n",
    "agg_prob = h1_prob + h2_prob - hi_prob\n",
    "agg_prob == h_union_prob"
   ]
  },
  {
   "cell_type": "markdown",
   "metadata": {},
   "source": [
    "Section 1.4\n",
    "\n",
    "Computing Probabilities | Counting Methods"
   ]
  },
  {
   "cell_type": "code",
   "execution_count": null,
   "metadata": {},
   "outputs": [],
   "source": [
    "# Example B\n"
   ]
  },
  {
   "cell_type": "code",
   "execution_count": null,
   "metadata": {},
   "outputs": [],
   "source": []
  },
  {
   "cell_type": "code",
   "execution_count": null,
   "metadata": {},
   "outputs": [],
   "source": []
  },
  {
   "cell_type": "code",
   "execution_count": 14,
   "metadata": {},
   "outputs": [],
   "source": [
    "b_urn = {\"r\": 5, \"g\": 6}\n",
    "w_urn = {\"r\": 3, \"g\": 4}\n",
    "b_urn2 = {\"r\": 6, \"g\": 3}\n",
    "w_urn2 = {\"r\": 9, \"g\": 5}\n",
    "\n",
    "def urn_ss(balls: dict,\n",
    "           urn_str: str = \"\"):\n",
    "    keys = list(balls.keys())\n",
    "    for key in keys:\n",
    "        val = balls[key]\n",
    "        urn_str += key * val\n",
    "    return [x for x in urn_str]\n",
    "b = urn_ss(b_urn)\n",
    "w = urn_ss(w_urn)\n",
    "b2 = urn_ss(b_urn2)\n",
    "w2 = urn_ss(w_urn2)\n",
    "b3 = b + b2\n",
    "w3 = w + w2"
   ]
  },
  {
   "cell_type": "code",
   "execution_count": 16,
   "metadata": {},
   "outputs": [
    {
     "name": "stdout",
     "output_type": "stream",
     "text": [
      "0.55\n",
      "0.5714285714285714\n"
     ]
    },
    {
     "data": {
      "text/plain": [
       "120"
      ]
     },
     "execution_count": 16,
     "metadata": {},
     "output_type": "execute_result"
    }
   ],
   "source": [
    "for urn in [b3, w3]:\n",
    "    pp = pick_prob(\"r\", urn)\n",
    "    print(pp)\n"
   ]
  },
  {
   "cell_type": "code",
   "execution_count": 113,
   "metadata": {},
   "outputs": [],
   "source": [
    "Patient = namedtuple('Patient', ['d', 't'])"
   ]
  },
  {
   "cell_type": "code",
   "execution_count": 115,
   "metadata": {},
   "outputs": [
    {
     "data": {
      "text/plain": [
       "array([[0.18518519, 0.1037037 ],\n",
       "       [0.13333333, 0.57777778]])"
      ]
     },
     "execution_count": 115,
     "metadata": {},
     "output_type": "execute_result"
    }
   ],
   "source": [
    "class Study:\n",
    "    def __init__(self,\n",
    "                 n_pp: int = 25,\n",
    "                 n_pm: int = 18,\n",
    "                 n_mp: int = 14,\n",
    "                 n_mm: int = 78,\n",
    "                 ):\n",
    "        self.n_pp = n_pp\n",
    "        self.n_pm = n_pm\n",
    "        self.n_mp = n_mp\n",
    "        self.n_mm = n_mm\n",
    "        pp = [Patient(\"+\", \"+\") for x in range(n_pp)]\n",
    "        pm = [Patient(\"+\", \"-\") for x in range(n_pm)]\n",
    "        mp = [Patient(\"-\", \"+\") for x in range(n_mp)]\n",
    "        mm = [Patient(\"-\", \"-\") for x in range(n_mm)]\n",
    "        self.patients = pp + pm + mp + mm\n",
    "        self.n_patients = len(self.patients)\n",
    "        self.con_mat = array([[n_pp, n_mp], [n_pm, n_mm]])\n",
    "        self.rel_freq = self.con_mat / self.n_patients\n",
    "    \n",
    "    def ext_mat_sum(self, axis: int, mat: array):\n",
    "        len_axis = mat.shape[axis]\n",
    "        for n in range(len_axis)\n",
    "Study().rel_freq\n"
   ]
  },
  {
   "cell_type": "code",
   "execution_count": 18,
   "metadata": {},
   "outputs": [
    {
     "data": {
      "text/plain": [
       "120"
      ]
     },
     "execution_count": 18,
     "metadata": {},
     "output_type": "execute_result"
    }
   ],
   "source": [
    "# 1.4.1\n",
    "# ex A\n",
    "factorial(5)"
   ]
  },
  {
   "cell_type": "code",
   "execution_count": 20,
   "metadata": {},
   "outputs": [
    {
     "data": {
      "text/plain": [
       "30240"
      ]
     },
     "execution_count": 20,
     "metadata": {},
     "output_type": "execute_result"
    }
   ],
   "source": [
    "# 1.4.1.B\n",
    "f = factorial\n",
    "int(f(10)/f(5))"
   ]
  },
  {
   "cell_type": "code",
   "execution_count": 22,
   "metadata": {},
   "outputs": [],
   "source": [
    "n_plates = 10**3*26**3"
   ]
  },
  {
   "cell_type": "code",
   "execution_count": 23,
   "metadata": {},
   "outputs": [
    {
     "data": {
      "text/plain": [
       "0.6390532544378699"
      ]
     },
     "execution_count": 23,
     "metadata": {},
     "output_type": "execute_result"
    }
   ],
   "source": [
    "(f(26)/f(23))*(f(10)/f(7))/n_plates"
   ]
  },
  {
   "cell_type": "code",
   "execution_count": 43,
   "metadata": {},
   "outputs": [
    {
     "data": {
      "text/plain": [
       "1527793830533028576761384714911155706733211583845274978479236503324828399795688360703530864538811156488894207300545033508947403849963715851013768409458691053279582282813650055112298322164642723014657770442982598247946492973293195196783083209559759012617842904617723410374466522718704576734949164417891250433134423577373472024624637024072764668963215332189409250538140636902762329093661667909732992273266684153824177904065663960581205237831458915893901469918001268780948062236166150741327455156363958217346082785219089991919870395084117205529397975765275538513046492786503383667910798036106944425795748484318521105081903887727643733361001407047437244133901136040544517672768545640530493662896143687176951303559099087476818951987565770722553491145799130087955266471494901144164876423909551635519330903469986504350897691131991440316426273658586130275220438038034472028128777629937241525665811096646718075174912000000000000000000000000000000000000000000000000000000000000000000000000000000000000000000000"
      ]
     },
     "execution_count": 43,
     "metadata": {},
     "output_type": "execute_result"
    }
   ],
   "source": [
    "def f_between(low: int, high: int):\n",
    "    result = high\n",
    "    high -= 1\n",
    "    while high >= low:\n",
    "        result *= high\n",
    "        high -= 1\n",
    "    return result\n",
    "f_between(365,2*365)"
   ]
  },
  {
   "cell_type": "code",
   "execution_count": 56,
   "metadata": {},
   "outputs": [
    {
     "ename": "TypeError",
     "evalue": "'float' object cannot be interpreted as an integer",
     "output_type": "error",
     "traceback": [
      "\u001b[0;31m---------------------------------------------------------------------------\u001b[0m",
      "\u001b[0;31mTypeError\u001b[0m                                 Traceback (most recent call last)",
      "\u001b[1;32m/Users/Fr333y3d3a/Documents/School/952986478/Math855 - ProbApplications/notes/notes_ch1.ipynb Cell 24\u001b[0m in \u001b[0;36m<cell line: 6>\u001b[0;34m()\u001b[0m\n\u001b[1;32m      <a href='vscode-notebook-cell:/Users/Fr333y3d3a/Documents/School/952986478/Math855%20-%20ProbApplications/notes/notes_ch1.ipynb#X32sZmlsZQ%3D%3D?line=3'>4</a>\u001b[0m     \u001b[39mreturn\u001b[39;00m \u001b[39m1\u001b[39m \u001b[39m-\u001b[39m p_comp\n\u001b[1;32m      <a href='vscode-notebook-cell:/Users/Fr333y3d3a/Documents/School/952986478/Math855%20-%20ProbApplications/notes/notes_ch1.ipynb#X32sZmlsZQ%3D%3D?line=4'>5</a>\u001b[0m n \u001b[39m=\u001b[39m \u001b[39m80.5\u001b[39m\n\u001b[0;32m----> <a href='vscode-notebook-cell:/Users/Fr333y3d3a/Documents/School/952986478/Math855%20-%20ProbApplications/notes/notes_ch1.ipynb#X32sZmlsZQ%3D%3D?line=5'>6</a>\u001b[0m x \u001b[39m=\u001b[39m [i \u001b[39mfor\u001b[39;00m i \u001b[39min\u001b[39;00m \u001b[39mrange\u001b[39;49m(\u001b[39m1\u001b[39;49m,n)]\n\u001b[1;32m      <a href='vscode-notebook-cell:/Users/Fr333y3d3a/Documents/School/952986478/Math855%20-%20ProbApplications/notes/notes_ch1.ipynb#X32sZmlsZQ%3D%3D?line=6'>7</a>\u001b[0m y \u001b[39m=\u001b[39m [p_bd(n) \u001b[39mfor\u001b[39;00m n \u001b[39min\u001b[39;00m x]\n\u001b[1;32m      <a href='vscode-notebook-cell:/Users/Fr333y3d3a/Documents/School/952986478/Math855%20-%20ProbApplications/notes/notes_ch1.ipynb#X32sZmlsZQ%3D%3D?line=7'>8</a>\u001b[0m fig, ax \u001b[39m=\u001b[39m subplots(\u001b[39m1\u001b[39m,\u001b[39m1\u001b[39m)\n",
      "\u001b[0;31mTypeError\u001b[0m: 'float' object cannot be interpreted as an integer"
     ]
    }
   ],
   "source": [
    "def p_bd(n_people: int):\n",
    "    y_days = 365\n",
    "    p_comp = (f_between(365 - n_people + 1, 365))/(y_days**n_people)\n",
    "    return 1 - p_comp\n",
    "n = 80\n",
    "x = [i for i in range(1,n)]\n",
    "y = [p_bd(n) for n in x]\n",
    "fig, ax = subplots(1,1)\n",
    "ax.plot(x,y)\n"
   ]
  },
  {
   "cell_type": "code",
   "execution_count": 31,
   "metadata": {},
   "outputs": [
    {
     "data": {
      "text/plain": [
       "0.008204165884781345"
      ]
     },
     "execution_count": 31,
     "metadata": {},
     "output_type": "execute_result"
    }
   ],
   "source": [
    "p_bd(3)"
   ]
  },
  {
   "cell_type": "code",
   "execution_count": 59,
   "metadata": {},
   "outputs": [
    {
     "name": "stdout",
     "output_type": "stream",
     "text": [
      "253\n"
     ]
    }
   ],
   "source": [
    "p_50 = lambda x: 1 - (364**x)/(365**x)\n",
    "i = 1\n",
    "while p_50(i) < 0.5:\n",
    "    i += 1\n",
    "print(i)"
   ]
  },
  {
   "cell_type": "code",
   "execution_count": 61,
   "metadata": {},
   "outputs": [
    {
     "data": {
      "text/plain": [
       "16529385600"
      ]
     },
     "execution_count": 61,
     "metadata": {},
     "output_type": "execute_result"
    }
   ],
   "source": [
    "comb(53, 6)\n",
    "perm(53, 6)"
   ]
  },
  {
   "cell_type": "code",
   "execution_count": null,
   "metadata": {},
   "outputs": [],
   "source": []
  }
 ],
 "metadata": {
  "kernelspec": {
   "display_name": "Python 3.10.4 ('algofi')",
   "language": "python",
   "name": "python3"
  },
  "language_info": {
   "codemirror_mode": {
    "name": "ipython",
    "version": 3
   },
   "file_extension": ".py",
   "mimetype": "text/x-python",
   "name": "python",
   "nbconvert_exporter": "python",
   "pygments_lexer": "ipython3",
   "version": "3.10.4"
  },
  "orig_nbformat": 4,
  "vscode": {
   "interpreter": {
    "hash": "e4c811bee47d8c90b3eff8a9506211954d5d179212002b4a6acca2329b32ea02"
   }
  }
 },
 "nbformat": 4,
 "nbformat_minor": 2
}
