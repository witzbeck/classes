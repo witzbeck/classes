{
 "cells": [
  {
   "cell_type": "markdown",
   "metadata": {},
   "source": [
    "Probability w/ Applications\n",
    "Fall 22"
   ]
  },
  {
   "cell_type": "code",
   "execution_count": 27,
   "metadata": {},
   "outputs": [],
   "source": [
    "from numpy.random import randint, choice\n",
    "from collections import namedtuple\n",
    "from matplotlib.pyplot import subplots\n",
    "\n",
    "\n",
    "from numpy import *\n",
    "from math import *\n",
    "# 1.1 Is intro"
   ]
  },
  {
   "cell_type": "code",
   "execution_count": 2,
   "metadata": {},
   "outputs": [],
   "source": [
    "# 1.2 Sample Spaces\n",
    "omega = \"sample space\"\n",
    "w_omega = \"element of sample space\""
   ]
  },
  {
   "cell_type": "code",
   "execution_count": 3,
   "metadata": {},
   "outputs": [
    {
     "data": {
      "text/plain": [
       "['scc', 'scs', 'ssc', 'sss']"
      ]
     },
     "execution_count": 3,
     "metadata": {},
     "output_type": "execute_result"
    }
   ],
   "source": [
    "# example A\n",
    "ss_a = []\n",
    "ops_a = [\"c\", \"s\"]\n",
    "for x in ops_a:\n",
    "    for y in ops_a:\n",
    "        for z in ops_a:\n",
    "            ss_a.append(x + y + z)\n",
    "ss_ae = [x for x in ss_a if x[0] == \"s\"]\n",
    "ss_ae"
   ]
  },
  {
   "cell_type": "code",
   "execution_count": 4,
   "metadata": {},
   "outputs": [
    {
     "data": {
      "text/plain": [
       "[0, 1, 2, 3, 4]"
      ]
     },
     "execution_count": 4,
     "metadata": {},
     "output_type": "execute_result"
    }
   ],
   "source": [
    "# example B\n",
    "ss_b = lambda x: range(x + 1)\n",
    "ss_be = [x for x in ss_b(10) if x < 5]\n",
    "ss_be"
   ]
  },
  {
   "cell_type": "code",
   "execution_count": 5,
   "metadata": {},
   "outputs": [],
   "source": [
    "# example C\n",
    "ss_c = \"all non-neg real numbers\""
   ]
  },
  {
   "cell_type": "code",
   "execution_count": 6,
   "metadata": {},
   "outputs": [],
   "source": [
    "union = lambda x, y: list(set(list(x) + list(y)))\n",
    "intersection = lambda x, y: [z for z in union(x, y) if (z in x and z in y)]\n",
    "complement = lambda x, y: [z for z in x if z not in y]\n",
    "def disjoint(list1: list, list2: list):\n",
    "    sction = intersection(list1, list2)\n",
    "    if len(sction) == 0:\n",
    "        return True\n",
    "    else:\n",
    "        return False"
   ]
  },
  {
   "cell_type": "code",
   "execution_count": 7,
   "metadata": {},
   "outputs": [
    {
     "data": {
      "text/plain": [
       "True"
      ]
     },
     "execution_count": 7,
     "metadata": {},
     "output_type": "execute_result"
    }
   ],
   "source": [
    "a = [x for x in range(5)]\n",
    "b = [x for x in range(10)]\n",
    "c = [x for x in range(2, 12)]\n",
    "\n",
    "# communicative laws\n",
    "union(a, b) == union(b, a)\n",
    "intersection(a, b) == intersection(b, a)\n",
    "\n",
    "# associative laws\n",
    "union(union(a, b), c) == union(a, union(b, c))\n",
    "intersection(intersection(a, b), c) == intersection(a, intersection(b, c))\n",
    "\n",
    "# distributive laws\n",
    "intersection(union(a, b), c) == union(intersection(a, c), intersection(b, c))\n",
    "union(intersection(a, b), c) == intersection(union(a, c), union(b, c))"
   ]
  },
  {
   "cell_type": "code",
   "execution_count": 8,
   "metadata": {},
   "outputs": [
    {
     "data": {
      "text/plain": [
       "False"
      ]
     },
     "execution_count": 8,
     "metadata": {},
     "output_type": "execute_result"
    }
   ],
   "source": [
    "# 1.3 Probability Measures\n",
    "def prob_meas(x = 0,\n",
    "              ss: list = []):\n",
    "    if ss == []:\n",
    "        return 1\n",
    "    elif x in ss:\n",
    "        return 1\n",
    "# prob measure of whole set == 1\n",
    "prob_meas() == 1\n",
    "\n",
    "# if member in ss, prob meas >= 0\n",
    "prob_meas(ss = [0, 1.5]) >= 0\n",
    "\n",
    "# prob measueres of union of disjoint sets == prob measures of each summed\n",
    "d = [x for x in range(5)]\n",
    "e = [x for x in range(5, 10)]\n",
    "prob_meas(union(d, e)) == prob_meas(d) + prob_meas(e) "
   ]
  },
  {
   "cell_type": "code",
   "execution_count": 9,
   "metadata": {},
   "outputs": [
    {
     "data": {
      "text/plain": [
       "True"
      ]
     },
     "execution_count": 9,
     "metadata": {},
     "output_type": "execute_result"
    }
   ],
   "source": [
    "# Property A\n",
    "pick_prob = lambda x, _list: len([y for y in _list if y == x])/len(_list)\n",
    "pick_prob_c = lambda x, _list: len([y for y in _list if y != x])/len(_list)\n",
    "_list = [8, 5, 4, 3, 2, 3, 33, 5, 2, 3, 7, 5, 44, 6]\n",
    "1 - pick_prob(3, _list) == pick_prob_c(3, _list)"
   ]
  },
  {
   "cell_type": "code",
   "execution_count": 10,
   "metadata": {},
   "outputs": [
    {
     "data": {
      "text/plain": [
       "True"
      ]
     },
     "execution_count": 10,
     "metadata": {},
     "output_type": "execute_result"
    }
   ],
   "source": [
    "# Property B\n",
    "pick_prob(None, _list) == 0"
   ]
  },
  {
   "cell_type": "code",
   "execution_count": 11,
   "metadata": {},
   "outputs": [
    {
     "data": {
      "text/plain": [
       "True"
      ]
     },
     "execution_count": 11,
     "metadata": {},
     "output_type": "execute_result"
    }
   ],
   "source": [
    "# Property C\n",
    "\"\"\"\n",
    "if a implies b, then prob(a) <= prob(b)\n",
    "\"\"\"\n",
    "# Property D\n",
    "# Addition Law\n",
    "prob_meas(union(a, b)) == prob_meas(a) + prob_meas(b) - prob_meas(intersection(a, b))"
   ]
  },
  {
   "cell_type": "code",
   "execution_count": 12,
   "metadata": {},
   "outputs": [],
   "source": [
    "coin_set = [\"t\", \"h\"]\n",
    "coin_flip = lambda: choice(coin_set)\n",
    "def coin_ss(flips: int,\n",
    "            coin_set: list = coin_set):\n",
    "    if flips == 1:\n",
    "        return coin_set\n",
    "    else:\n",
    "        flips -= 1\n",
    "    ss = coin_set\n",
    "    for i in range(flips):\n",
    "        sst = [x + \"t\" for x in ss]\n",
    "        ssh = [x + \"h\" for x in ss]\n",
    "        ss = sst + ssh\n",
    "    return ss\n",
    "ht_on_i = lambda ht, i, y: [x for x in coin_ss(y) if x[i] == ht]"
   ]
  },
  {
   "cell_type": "code",
   "execution_count": 13,
   "metadata": {},
   "outputs": [
    {
     "data": {
      "text/plain": [
       "['tt', 'ht', 'th', 'hh']"
      ]
     },
     "execution_count": 13,
     "metadata": {},
     "output_type": "execute_result"
    }
   ],
   "source": [
    "coin_ss(2)"
   ]
  },
  {
   "cell_type": "code",
   "execution_count": 14,
   "metadata": {},
   "outputs": [],
   "source": [
    "b_urn = {\"r\": 5, \"g\": 6}\n",
    "w_urn = {\"r\": 3, \"g\": 4}\n",
    "b_urn2 = {\"r\": 6, \"g\": 3}\n",
    "w_urn2 = {\"r\": 9, \"g\": 5}\n",
    "\n",
    "def urn_ss(balls: dict,\n",
    "           urn_str: str = \"\"):\n",
    "    keys = list(balls.keys())\n",
    "    for key in keys:\n",
    "        val = balls[key]\n",
    "        urn_str += key * val\n",
    "    return [x for x in urn_str]\n",
    "b = urn_ss(b_urn)\n",
    "w = urn_ss(w_urn)\n",
    "b2 = urn_ss(b_urn2)\n",
    "w2 = urn_ss(w_urn2)\n",
    "b3 = b + b2\n",
    "w3 = w + w2"
   ]
  },
  {
   "cell_type": "code",
   "execution_count": 16,
   "metadata": {},
   "outputs": [
    {
     "name": "stdout",
     "output_type": "stream",
     "text": [
      "0.55\n",
      "0.5714285714285714\n"
     ]
    },
    {
     "data": {
      "text/plain": [
       "120"
      ]
     },
     "execution_count": 16,
     "metadata": {},
     "output_type": "execute_result"
    }
   ],
   "source": [
    "for urn in [b3, w3]:\n",
    "    pp = pick_prob(\"r\", urn)\n",
    "    print(pp)\n"
   ]
  },
  {
   "cell_type": "code",
   "execution_count": 113,
   "metadata": {},
   "outputs": [],
   "source": [
    "Patient = namedtuple('Patient', ['d', 't'])"
   ]
  },
  {
   "cell_type": "code",
   "execution_count": 115,
   "metadata": {},
   "outputs": [
    {
     "data": {
      "text/plain": [
       "array([[0.18518519, 0.1037037 ],\n",
       "       [0.13333333, 0.57777778]])"
      ]
     },
     "execution_count": 115,
     "metadata": {},
     "output_type": "execute_result"
    }
   ],
   "source": [
    "class Study:\n",
    "    def __init__(self,\n",
    "                 n_pp: int = 25,\n",
    "                 n_pm: int = 18,\n",
    "                 n_mp: int = 14,\n",
    "                 n_mm: int = 78,\n",
    "                 ):\n",
    "        self.n_pp = n_pp\n",
    "        self.n_pm = n_pm\n",
    "        self.n_mp = n_mp\n",
    "        self.n_mm = n_mm\n",
    "        pp = [Patient(\"+\", \"+\") for x in range(n_pp)]\n",
    "        pm = [Patient(\"+\", \"-\") for x in range(n_pm)]\n",
    "        mp = [Patient(\"-\", \"+\") for x in range(n_mp)]\n",
    "        mm = [Patient(\"-\", \"-\") for x in range(n_mm)]\n",
    "        self.patients = pp + pm + mp + mm\n",
    "        self.n_patients = len(self.patients)\n",
    "        self.con_mat = array([[n_pp, n_mp], [n_pm, n_mm]])\n",
    "        self.rel_freq = self.con_mat / self.n_patients\n",
    "    \n",
    "    def ext_mat_sum(self, axis: int, mat: array):\n",
    "        len_axis = mat.shape[axis]\n",
    "        for n in range(len_axis)\n",
    "Study().rel_freq\n"
   ]
  },
  {
   "cell_type": "code",
   "execution_count": 18,
   "metadata": {},
   "outputs": [
    {
     "data": {
      "text/plain": [
       "120"
      ]
     },
     "execution_count": 18,
     "metadata": {},
     "output_type": "execute_result"
    }
   ],
   "source": [
    "# 1.4.1\n",
    "# ex A\n",
    "factorial(5)"
   ]
  },
  {
   "cell_type": "code",
   "execution_count": 20,
   "metadata": {},
   "outputs": [
    {
     "data": {
      "text/plain": [
       "30240"
      ]
     },
     "execution_count": 20,
     "metadata": {},
     "output_type": "execute_result"
    }
   ],
   "source": [
    "# 1.4.1.B\n",
    "f = factorial\n",
    "int(f(10)/f(5))"
   ]
  },
  {
   "cell_type": "code",
   "execution_count": 22,
   "metadata": {},
   "outputs": [],
   "source": [
    "n_plates = 10**3*26**3"
   ]
  },
  {
   "cell_type": "code",
   "execution_count": 23,
   "metadata": {},
   "outputs": [
    {
     "data": {
      "text/plain": [
       "0.6390532544378699"
      ]
     },
     "execution_count": 23,
     "metadata": {},
     "output_type": "execute_result"
    }
   ],
   "source": [
    "(f(26)/f(23))*(f(10)/f(7))/n_plates"
   ]
  },
  {
   "cell_type": "code",
   "execution_count": 43,
   "metadata": {},
   "outputs": [
    {
     "data": {
      "text/plain": [
       "1527793830533028576761384714911155706733211583845274978479236503324828399795688360703530864538811156488894207300545033508947403849963715851013768409458691053279582282813650055112298322164642723014657770442982598247946492973293195196783083209559759012617842904617723410374466522718704576734949164417891250433134423577373472024624637024072764668963215332189409250538140636902762329093661667909732992273266684153824177904065663960581205237831458915893901469918001268780948062236166150741327455156363958217346082785219089991919870395084117205529397975765275538513046492786503383667910798036106944425795748484318521105081903887727643733361001407047437244133901136040544517672768545640530493662896143687176951303559099087476818951987565770722553491145799130087955266471494901144164876423909551635519330903469986504350897691131991440316426273658586130275220438038034472028128777629937241525665811096646718075174912000000000000000000000000000000000000000000000000000000000000000000000000000000000000000000000"
      ]
     },
     "execution_count": 43,
     "metadata": {},
     "output_type": "execute_result"
    }
   ],
   "source": [
    "def f_between(low: int, high: int):\n",
    "    result = high\n",
    "    high -= 1\n",
    "    while high >= low:\n",
    "        result *= high\n",
    "        high -= 1\n",
    "    return result\n",
    "f_between(365,2*365)"
   ]
  },
  {
   "cell_type": "code",
   "execution_count": 56,
   "metadata": {},
   "outputs": [
    {
     "ename": "TypeError",
     "evalue": "'float' object cannot be interpreted as an integer",
     "output_type": "error",
     "traceback": [
      "\u001b[0;31m---------------------------------------------------------------------------\u001b[0m",
      "\u001b[0;31mTypeError\u001b[0m                                 Traceback (most recent call last)",
      "\u001b[1;32m/Users/Fr333y3d3a/Documents/School/952986478/Math855 - ProbApplications/notes/notes_ch1.ipynb Cell 24\u001b[0m in \u001b[0;36m<cell line: 6>\u001b[0;34m()\u001b[0m\n\u001b[1;32m      <a href='vscode-notebook-cell:/Users/Fr333y3d3a/Documents/School/952986478/Math855%20-%20ProbApplications/notes/notes_ch1.ipynb#X32sZmlsZQ%3D%3D?line=3'>4</a>\u001b[0m     \u001b[39mreturn\u001b[39;00m \u001b[39m1\u001b[39m \u001b[39m-\u001b[39m p_comp\n\u001b[1;32m      <a href='vscode-notebook-cell:/Users/Fr333y3d3a/Documents/School/952986478/Math855%20-%20ProbApplications/notes/notes_ch1.ipynb#X32sZmlsZQ%3D%3D?line=4'>5</a>\u001b[0m n \u001b[39m=\u001b[39m \u001b[39m80.5\u001b[39m\n\u001b[0;32m----> <a href='vscode-notebook-cell:/Users/Fr333y3d3a/Documents/School/952986478/Math855%20-%20ProbApplications/notes/notes_ch1.ipynb#X32sZmlsZQ%3D%3D?line=5'>6</a>\u001b[0m x \u001b[39m=\u001b[39m [i \u001b[39mfor\u001b[39;00m i \u001b[39min\u001b[39;00m \u001b[39mrange\u001b[39;49m(\u001b[39m1\u001b[39;49m,n)]\n\u001b[1;32m      <a href='vscode-notebook-cell:/Users/Fr333y3d3a/Documents/School/952986478/Math855%20-%20ProbApplications/notes/notes_ch1.ipynb#X32sZmlsZQ%3D%3D?line=6'>7</a>\u001b[0m y \u001b[39m=\u001b[39m [p_bd(n) \u001b[39mfor\u001b[39;00m n \u001b[39min\u001b[39;00m x]\n\u001b[1;32m      <a href='vscode-notebook-cell:/Users/Fr333y3d3a/Documents/School/952986478/Math855%20-%20ProbApplications/notes/notes_ch1.ipynb#X32sZmlsZQ%3D%3D?line=7'>8</a>\u001b[0m fig, ax \u001b[39m=\u001b[39m subplots(\u001b[39m1\u001b[39m,\u001b[39m1\u001b[39m)\n",
      "\u001b[0;31mTypeError\u001b[0m: 'float' object cannot be interpreted as an integer"
     ]
    }
   ],
   "source": [
    "def p_bd(n_people: int):\n",
    "    y_days = 365\n",
    "    p_comp = (f_between(365 - n_people + 1, 365))/(y_days**n_people)\n",
    "    return 1 - p_comp\n",
    "n = 80\n",
    "x = [i for i in range(1,n)]\n",
    "y = [p_bd(n) for n in x]\n",
    "fig, ax = subplots(1,1)\n",
    "ax.plot(x,y)\n"
   ]
  },
  {
   "cell_type": "code",
   "execution_count": 31,
   "metadata": {},
   "outputs": [
    {
     "data": {
      "text/plain": [
       "0.008204165884781345"
      ]
     },
     "execution_count": 31,
     "metadata": {},
     "output_type": "execute_result"
    }
   ],
   "source": [
    "p_bd(3)"
   ]
  },
  {
   "cell_type": "code",
   "execution_count": 59,
   "metadata": {},
   "outputs": [
    {
     "name": "stdout",
     "output_type": "stream",
     "text": [
      "253\n"
     ]
    }
   ],
   "source": [
    "p_50 = lambda x: 1 - (364**x)/(365**x)\n",
    "i = 1\n",
    "while p_50(i) < 0.5:\n",
    "    i += 1\n",
    "print(i)"
   ]
  },
  {
   "cell_type": "code",
   "execution_count": 61,
   "metadata": {},
   "outputs": [
    {
     "data": {
      "text/plain": [
       "16529385600"
      ]
     },
     "execution_count": 61,
     "metadata": {},
     "output_type": "execute_result"
    }
   ],
   "source": [
    "comb(53, 6)\n",
    "perm(53, 6)"
   ]
  },
  {
   "cell_type": "code",
   "execution_count": null,
   "metadata": {},
   "outputs": [],
   "source": []
  }
 ],
 "metadata": {
  "kernelspec": {
   "display_name": "Python 3.10.4 ('algofi')",
   "language": "python",
   "name": "python3"
  },
  "language_info": {
   "codemirror_mode": {
    "name": "ipython",
    "version": 3
   },
   "file_extension": ".py",
   "mimetype": "text/x-python",
   "name": "python",
   "nbconvert_exporter": "python",
   "pygments_lexer": "ipython3",
   "version": "3.10.4"
  },
  "orig_nbformat": 4,
  "vscode": {
   "interpreter": {
    "hash": "e4c811bee47d8c90b3eff8a9506211954d5d179212002b4a6acca2329b32ea02"
   }
  }
 },
 "nbformat": 4,
 "nbformat_minor": 2
}
