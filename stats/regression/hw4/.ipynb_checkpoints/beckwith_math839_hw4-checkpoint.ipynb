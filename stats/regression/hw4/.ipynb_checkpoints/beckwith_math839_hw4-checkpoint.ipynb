{
 "cells": [
  {
   "cell_type": "markdown",
   "id": "81add08a",
   "metadata": {},
   "source": [
    "Alex Beckwith\n",
    "\n",
    "Math839 - Fall21\n",
    "\n",
    "HW4\n",
    "\n",
    "\n",
    "The convention in Python is to begin scripts/notebooks with the package imports at the top."
   ]
  },
  {
   "cell_type": "code",
   "execution_count": 48,
   "id": "55b7bfaf",
   "metadata": {},
   "outputs": [],
   "source": [
    "import numpy as np\n",
    "import pandas as pd\n",
    "import seaborn as sns\n",
    "import statsmodels.api as sm\n",
    "import matplotlib.pyplot as plt\n",
    "from statsmodels.stats.outliers_influence import variance_inflation_factor as vif\n",
    "import statsmodels.stats.outliers_influence as oi"
   ]
  },
  {
   "cell_type": "markdown",
   "id": "6ea411ce",
   "metadata": {},
   "source": [
    "One.\n",
    "Here, we'll read in the .csv and use the head() function to get a preview of the data."
   ]
  },
  {
   "cell_type": "code",
   "execution_count": 49,
   "id": "29364111",
   "metadata": {},
   "outputs": [
    {
     "data": {
      "text/html": [
       "<div>\n",
       "<style scoped>\n",
       "    .dataframe tbody tr th:only-of-type {\n",
       "        vertical-align: middle;\n",
       "    }\n",
       "\n",
       "    .dataframe tbody tr th {\n",
       "        vertical-align: top;\n",
       "    }\n",
       "\n",
       "    .dataframe thead th {\n",
       "        text-align: right;\n",
       "    }\n",
       "</style>\n",
       "<table border=\"1\" class=\"dataframe\">\n",
       "  <thead>\n",
       "    <tr style=\"text-align: right;\">\n",
       "      <th></th>\n",
       "      <th>School</th>\n",
       "      <th>Rush Rank</th>\n",
       "      <th>Pass Rank</th>\n",
       "      <th>Tot Off Rank</th>\n",
       "      <th>Rush Def Rank</th>\n",
       "      <th>Pass Def Rank</th>\n",
       "      <th>Score Def Rank</th>\n",
       "      <th>Punt Ret Rank</th>\n",
       "      <th>KO Ret Rank</th>\n",
       "      <th>TO Margin Rank</th>\n",
       "      <th>...</th>\n",
       "      <th>Def Sacks Rank</th>\n",
       "      <th>Def Tckl Loss Rank</th>\n",
       "      <th>Off 3rd Dwn Rank</th>\n",
       "      <th>Def 3rd Dwn Rank</th>\n",
       "      <th>Off 4th Dwn Rank</th>\n",
       "      <th>Def 4th Dwn Rank</th>\n",
       "      <th>Wins</th>\n",
       "      <th>Losses</th>\n",
       "      <th>Ties</th>\n",
       "      <th>Win Pct</th>\n",
       "    </tr>\n",
       "  </thead>\n",
       "  <tbody>\n",
       "    <tr>\n",
       "      <th>0</th>\n",
       "      <td>Air Force</td>\n",
       "      <td>8</td>\n",
       "      <td>99</td>\n",
       "      <td>36</td>\n",
       "      <td>84</td>\n",
       "      <td>94</td>\n",
       "      <td>100</td>\n",
       "      <td>45</td>\n",
       "      <td>78</td>\n",
       "      <td>95</td>\n",
       "      <td>...</td>\n",
       "      <td>112</td>\n",
       "      <td>90</td>\n",
       "      <td>31</td>\n",
       "      <td>99</td>\n",
       "      <td>2</td>\n",
       "      <td>98</td>\n",
       "      <td>4</td>\n",
       "      <td>7</td>\n",
       "      <td>0</td>\n",
       "      <td>36.36</td>\n",
       "    </tr>\n",
       "    <tr>\n",
       "      <th>1</th>\n",
       "      <td>Akron</td>\n",
       "      <td>103</td>\n",
       "      <td>21</td>\n",
       "      <td>54</td>\n",
       "      <td>71</td>\n",
       "      <td>16</td>\n",
       "      <td>52</td>\n",
       "      <td>73</td>\n",
       "      <td>53</td>\n",
       "      <td>90</td>\n",
       "      <td>...</td>\n",
       "      <td>42</td>\n",
       "      <td>16</td>\n",
       "      <td>93</td>\n",
       "      <td>38</td>\n",
       "      <td>92</td>\n",
       "      <td>5</td>\n",
       "      <td>7</td>\n",
       "      <td>6</td>\n",
       "      <td>0</td>\n",
       "      <td>53.85</td>\n",
       "    </tr>\n",
       "    <tr>\n",
       "      <th>2</th>\n",
       "      <td>Alabama</td>\n",
       "      <td>65</td>\n",
       "      <td>69</td>\n",
       "      <td>67</td>\n",
       "      <td>9</td>\n",
       "      <td>5</td>\n",
       "      <td>1</td>\n",
       "      <td>82</td>\n",
       "      <td>26</td>\n",
       "      <td>22</td>\n",
       "      <td>...</td>\n",
       "      <td>57</td>\n",
       "      <td>60</td>\n",
       "      <td>69</td>\n",
       "      <td>3</td>\n",
       "      <td>96</td>\n",
       "      <td>30</td>\n",
       "      <td>10</td>\n",
       "      <td>2</td>\n",
       "      <td>0</td>\n",
       "      <td>83.33</td>\n",
       "    </tr>\n",
       "    <tr>\n",
       "      <th>3</th>\n",
       "      <td>Arizona</td>\n",
       "      <td>88</td>\n",
       "      <td>48</td>\n",
       "      <td>74</td>\n",
       "      <td>93</td>\n",
       "      <td>72</td>\n",
       "      <td>64</td>\n",
       "      <td>37</td>\n",
       "      <td>15</td>\n",
       "      <td>105</td>\n",
       "      <td>...</td>\n",
       "      <td>60</td>\n",
       "      <td>93</td>\n",
       "      <td>54</td>\n",
       "      <td>21</td>\n",
       "      <td>107</td>\n",
       "      <td>27</td>\n",
       "      <td>3</td>\n",
       "      <td>8</td>\n",
       "      <td>0</td>\n",
       "      <td>27.27</td>\n",
       "    </tr>\n",
       "    <tr>\n",
       "      <th>4</th>\n",
       "      <td>Arizona St.</td>\n",
       "      <td>58</td>\n",
       "      <td>3</td>\n",
       "      <td>2</td>\n",
       "      <td>89</td>\n",
       "      <td>112</td>\n",
       "      <td>86</td>\n",
       "      <td>8</td>\n",
       "      <td>10</td>\n",
       "      <td>23</td>\n",
       "      <td>...</td>\n",
       "      <td>88</td>\n",
       "      <td>47</td>\n",
       "      <td>12</td>\n",
       "      <td>76</td>\n",
       "      <td>54</td>\n",
       "      <td>36</td>\n",
       "      <td>7</td>\n",
       "      <td>5</td>\n",
       "      <td>0</td>\n",
       "      <td>58.33</td>\n",
       "    </tr>\n",
       "  </tbody>\n",
       "</table>\n",
       "<p>5 rows × 23 columns</p>\n",
       "</div>"
      ],
      "text/plain": [
       "        School  Rush Rank  Pass Rank  Tot Off Rank  Rush Def Rank  \\\n",
       "0    Air Force          8         99            36             84   \n",
       "1        Akron        103         21            54             71   \n",
       "2      Alabama         65         69            67              9   \n",
       "3      Arizona         88         48            74             93   \n",
       "4  Arizona St.         58          3             2             89   \n",
       "\n",
       "   Pass Def Rank  Score Def Rank  Punt Ret Rank  KO Ret Rank  TO Margin Rank  \\\n",
       "0             94             100             45           78              95   \n",
       "1             16              52             73           53              90   \n",
       "2              5               1             82           26              22   \n",
       "3             72              64             37           15             105   \n",
       "4            112              86              8           10              23   \n",
       "\n",
       "   ...  Def Sacks Rank  Def Tckl Loss Rank  Off 3rd Dwn Rank  \\\n",
       "0  ...             112                  90                31   \n",
       "1  ...              42                  16                93   \n",
       "2  ...              57                  60                69   \n",
       "3  ...              60                  93                54   \n",
       "4  ...              88                  47                12   \n",
       "\n",
       "   Def 3rd Dwn Rank  Off 4th Dwn Rank  Def 4th Dwn Rank  Wins  Losses  Ties  \\\n",
       "0                99                 2                98     4       7     0   \n",
       "1                38                92                 5     7       6     0   \n",
       "2                 3                96                30    10       2     0   \n",
       "3                21               107                27     3       8     0   \n",
       "4                76                54                36     7       5     0   \n",
       "\n",
       "   Win Pct  \n",
       "0    36.36  \n",
       "1    53.85  \n",
       "2    83.33  \n",
       "3    27.27  \n",
       "4    58.33  \n",
       "\n",
       "[5 rows x 23 columns]"
      ]
     },
     "execution_count": 49,
     "metadata": {},
     "output_type": "execute_result"
    }
   ],
   "source": [
    "football = pd.read_csv(\"/Users/Fr333y3d3a/Documents/School/952986478/MATH839 Applied Regression Analysis/hw4/NCAAFootball2005.csv\")\n",
    "football.head()"
   ]
  },
  {
   "cell_type": "markdown",
   "id": "992438e0",
   "metadata": {},
   "source": [
    "Below, we split the data into the indepedent and dependent arrays as well as add a constant term. The describe() function allows us to get a snapshot of descriptive statistics for the dataset."
   ]
  },
  {
   "cell_type": "code",
   "execution_count": 50,
   "id": "d0a96f55",
   "metadata": {},
   "outputs": [
    {
     "data": {
      "text/html": [
       "<div>\n",
       "<style scoped>\n",
       "    .dataframe tbody tr th:only-of-type {\n",
       "        vertical-align: middle;\n",
       "    }\n",
       "\n",
       "    .dataframe tbody tr th {\n",
       "        vertical-align: top;\n",
       "    }\n",
       "\n",
       "    .dataframe thead th {\n",
       "        text-align: right;\n",
       "    }\n",
       "</style>\n",
       "<table border=\"1\" class=\"dataframe\">\n",
       "  <thead>\n",
       "    <tr style=\"text-align: right;\">\n",
       "      <th></th>\n",
       "      <th>Rush Rank</th>\n",
       "      <th>Pass Rank</th>\n",
       "      <th>Tot Off Rank</th>\n",
       "      <th>Rush Def Rank</th>\n",
       "      <th>Pass Def Rank</th>\n",
       "      <th>Score Def Rank</th>\n",
       "      <th>Punt Ret Rank</th>\n",
       "      <th>KO Ret Rank</th>\n",
       "      <th>TO Margin Rank</th>\n",
       "      <th>Penalty Yds Rank</th>\n",
       "      <th>...</th>\n",
       "      <th>Def Sacks Rank</th>\n",
       "      <th>Def Tckl Loss Rank</th>\n",
       "      <th>Off 3rd Dwn Rank</th>\n",
       "      <th>Def 3rd Dwn Rank</th>\n",
       "      <th>Off 4th Dwn Rank</th>\n",
       "      <th>Def 4th Dwn Rank</th>\n",
       "      <th>Wins</th>\n",
       "      <th>Losses</th>\n",
       "      <th>Ties</th>\n",
       "      <th>const</th>\n",
       "    </tr>\n",
       "  </thead>\n",
       "  <tbody>\n",
       "    <tr>\n",
       "      <th>count</th>\n",
       "      <td>117.000000</td>\n",
       "      <td>117.000000</td>\n",
       "      <td>117.000000</td>\n",
       "      <td>117.000000</td>\n",
       "      <td>117.000000</td>\n",
       "      <td>117.000000</td>\n",
       "      <td>117.000000</td>\n",
       "      <td>117.000000</td>\n",
       "      <td>117.000000</td>\n",
       "      <td>117.000000</td>\n",
       "      <td>...</td>\n",
       "      <td>117.000000</td>\n",
       "      <td>117.000000</td>\n",
       "      <td>117.000000</td>\n",
       "      <td>117.000000</td>\n",
       "      <td>117.000000</td>\n",
       "      <td>117.000000</td>\n",
       "      <td>117.000000</td>\n",
       "      <td>117.000000</td>\n",
       "      <td>117.0</td>\n",
       "      <td>117.0</td>\n",
       "    </tr>\n",
       "    <tr>\n",
       "      <th>mean</th>\n",
       "      <td>58.991453</td>\n",
       "      <td>58.982906</td>\n",
       "      <td>58.991453</td>\n",
       "      <td>58.982906</td>\n",
       "      <td>58.965812</td>\n",
       "      <td>58.905983</td>\n",
       "      <td>58.991453</td>\n",
       "      <td>58.974359</td>\n",
       "      <td>58.059829</td>\n",
       "      <td>58.965812</td>\n",
       "      <td>...</td>\n",
       "      <td>57.931624</td>\n",
       "      <td>58.495726</td>\n",
       "      <td>58.888889</td>\n",
       "      <td>58.905983</td>\n",
       "      <td>57.991453</td>\n",
       "      <td>57.880342</td>\n",
       "      <td>6.059829</td>\n",
       "      <td>5.564103</td>\n",
       "      <td>0.0</td>\n",
       "      <td>1.0</td>\n",
       "    </tr>\n",
       "    <tr>\n",
       "      <th>std</th>\n",
       "      <td>33.914826</td>\n",
       "      <td>33.908086</td>\n",
       "      <td>33.926517</td>\n",
       "      <td>33.929182</td>\n",
       "      <td>33.915700</td>\n",
       "      <td>33.917492</td>\n",
       "      <td>33.931344</td>\n",
       "      <td>33.895494</td>\n",
       "      <td>33.936627</td>\n",
       "      <td>33.921037</td>\n",
       "      <td>...</td>\n",
       "      <td>33.647956</td>\n",
       "      <td>33.866020</td>\n",
       "      <td>33.927859</td>\n",
       "      <td>33.871202</td>\n",
       "      <td>34.021417</td>\n",
       "      <td>34.071467</td>\n",
       "      <td>2.767704</td>\n",
       "      <td>2.298368</td>\n",
       "      <td>0.0</td>\n",
       "      <td>0.0</td>\n",
       "    </tr>\n",
       "    <tr>\n",
       "      <th>min</th>\n",
       "      <td>1.000000</td>\n",
       "      <td>1.000000</td>\n",
       "      <td>1.000000</td>\n",
       "      <td>1.000000</td>\n",
       "      <td>1.000000</td>\n",
       "      <td>1.000000</td>\n",
       "      <td>1.000000</td>\n",
       "      <td>1.000000</td>\n",
       "      <td>1.000000</td>\n",
       "      <td>1.000000</td>\n",
       "      <td>...</td>\n",
       "      <td>1.000000</td>\n",
       "      <td>1.000000</td>\n",
       "      <td>1.000000</td>\n",
       "      <td>1.000000</td>\n",
       "      <td>1.000000</td>\n",
       "      <td>1.000000</td>\n",
       "      <td>0.000000</td>\n",
       "      <td>0.000000</td>\n",
       "      <td>0.0</td>\n",
       "      <td>1.0</td>\n",
       "    </tr>\n",
       "    <tr>\n",
       "      <th>25%</th>\n",
       "      <td>30.000000</td>\n",
       "      <td>30.000000</td>\n",
       "      <td>29.000000</td>\n",
       "      <td>30.000000</td>\n",
       "      <td>30.000000</td>\n",
       "      <td>30.000000</td>\n",
       "      <td>30.000000</td>\n",
       "      <td>30.000000</td>\n",
       "      <td>30.000000</td>\n",
       "      <td>30.000000</td>\n",
       "      <td>...</td>\n",
       "      <td>30.000000</td>\n",
       "      <td>30.000000</td>\n",
       "      <td>30.000000</td>\n",
       "      <td>30.000000</td>\n",
       "      <td>29.000000</td>\n",
       "      <td>30.000000</td>\n",
       "      <td>4.000000</td>\n",
       "      <td>4.000000</td>\n",
       "      <td>0.0</td>\n",
       "      <td>1.0</td>\n",
       "    </tr>\n",
       "    <tr>\n",
       "      <th>50%</th>\n",
       "      <td>59.000000</td>\n",
       "      <td>59.000000</td>\n",
       "      <td>59.000000</td>\n",
       "      <td>59.000000</td>\n",
       "      <td>59.000000</td>\n",
       "      <td>59.000000</td>\n",
       "      <td>59.000000</td>\n",
       "      <td>59.000000</td>\n",
       "      <td>59.000000</td>\n",
       "      <td>59.000000</td>\n",
       "      <td>...</td>\n",
       "      <td>57.000000</td>\n",
       "      <td>53.000000</td>\n",
       "      <td>58.000000</td>\n",
       "      <td>59.000000</td>\n",
       "      <td>59.000000</td>\n",
       "      <td>58.000000</td>\n",
       "      <td>6.000000</td>\n",
       "      <td>6.000000</td>\n",
       "      <td>0.0</td>\n",
       "      <td>1.0</td>\n",
       "    </tr>\n",
       "    <tr>\n",
       "      <th>75%</th>\n",
       "      <td>88.000000</td>\n",
       "      <td>88.000000</td>\n",
       "      <td>88.000000</td>\n",
       "      <td>88.000000</td>\n",
       "      <td>88.000000</td>\n",
       "      <td>88.000000</td>\n",
       "      <td>88.000000</td>\n",
       "      <td>88.000000</td>\n",
       "      <td>88.000000</td>\n",
       "      <td>88.000000</td>\n",
       "      <td>...</td>\n",
       "      <td>88.000000</td>\n",
       "      <td>88.000000</td>\n",
       "      <td>88.000000</td>\n",
       "      <td>88.000000</td>\n",
       "      <td>88.000000</td>\n",
       "      <td>88.000000</td>\n",
       "      <td>8.000000</td>\n",
       "      <td>7.000000</td>\n",
       "      <td>0.0</td>\n",
       "      <td>1.0</td>\n",
       "    </tr>\n",
       "    <tr>\n",
       "      <th>max</th>\n",
       "      <td>117.000000</td>\n",
       "      <td>117.000000</td>\n",
       "      <td>117.000000</td>\n",
       "      <td>117.000000</td>\n",
       "      <td>117.000000</td>\n",
       "      <td>117.000000</td>\n",
       "      <td>117.000000</td>\n",
       "      <td>117.000000</td>\n",
       "      <td>117.000000</td>\n",
       "      <td>117.000000</td>\n",
       "      <td>...</td>\n",
       "      <td>117.000000</td>\n",
       "      <td>117.000000</td>\n",
       "      <td>117.000000</td>\n",
       "      <td>117.000000</td>\n",
       "      <td>117.000000</td>\n",
       "      <td>117.000000</td>\n",
       "      <td>13.000000</td>\n",
       "      <td>12.000000</td>\n",
       "      <td>0.0</td>\n",
       "      <td>1.0</td>\n",
       "    </tr>\n",
       "  </tbody>\n",
       "</table>\n",
       "<p>8 rows × 22 columns</p>\n",
       "</div>"
      ],
      "text/plain": [
       "        Rush Rank   Pass Rank  Tot Off Rank  Rush Def Rank  Pass Def Rank  \\\n",
       "count  117.000000  117.000000    117.000000     117.000000     117.000000   \n",
       "mean    58.991453   58.982906     58.991453      58.982906      58.965812   \n",
       "std     33.914826   33.908086     33.926517      33.929182      33.915700   \n",
       "min      1.000000    1.000000      1.000000       1.000000       1.000000   \n",
       "25%     30.000000   30.000000     29.000000      30.000000      30.000000   \n",
       "50%     59.000000   59.000000     59.000000      59.000000      59.000000   \n",
       "75%     88.000000   88.000000     88.000000      88.000000      88.000000   \n",
       "max    117.000000  117.000000    117.000000     117.000000     117.000000   \n",
       "\n",
       "       Score Def Rank  Punt Ret Rank  KO Ret Rank  TO Margin Rank  \\\n",
       "count      117.000000     117.000000   117.000000      117.000000   \n",
       "mean        58.905983      58.991453    58.974359       58.059829   \n",
       "std         33.917492      33.931344    33.895494       33.936627   \n",
       "min          1.000000       1.000000     1.000000        1.000000   \n",
       "25%         30.000000      30.000000    30.000000       30.000000   \n",
       "50%         59.000000      59.000000    59.000000       59.000000   \n",
       "75%         88.000000      88.000000    88.000000       88.000000   \n",
       "max        117.000000     117.000000   117.000000      117.000000   \n",
       "\n",
       "       Penalty Yds Rank  ...  Def Sacks Rank  Def Tckl Loss Rank  \\\n",
       "count        117.000000  ...      117.000000          117.000000   \n",
       "mean          58.965812  ...       57.931624           58.495726   \n",
       "std           33.921037  ...       33.647956           33.866020   \n",
       "min            1.000000  ...        1.000000            1.000000   \n",
       "25%           30.000000  ...       30.000000           30.000000   \n",
       "50%           59.000000  ...       57.000000           53.000000   \n",
       "75%           88.000000  ...       88.000000           88.000000   \n",
       "max          117.000000  ...      117.000000          117.000000   \n",
       "\n",
       "       Off 3rd Dwn Rank  Def 3rd Dwn Rank  Off 4th Dwn Rank  Def 4th Dwn Rank  \\\n",
       "count        117.000000        117.000000        117.000000        117.000000   \n",
       "mean          58.888889         58.905983         57.991453         57.880342   \n",
       "std           33.927859         33.871202         34.021417         34.071467   \n",
       "min            1.000000          1.000000          1.000000          1.000000   \n",
       "25%           30.000000         30.000000         29.000000         30.000000   \n",
       "50%           58.000000         59.000000         59.000000         58.000000   \n",
       "75%           88.000000         88.000000         88.000000         88.000000   \n",
       "max          117.000000        117.000000        117.000000        117.000000   \n",
       "\n",
       "             Wins      Losses   Ties  const  \n",
       "count  117.000000  117.000000  117.0  117.0  \n",
       "mean     6.059829    5.564103    0.0    1.0  \n",
       "std      2.767704    2.298368    0.0    0.0  \n",
       "min      0.000000    0.000000    0.0    1.0  \n",
       "25%      4.000000    4.000000    0.0    1.0  \n",
       "50%      6.000000    6.000000    0.0    1.0  \n",
       "75%      8.000000    7.000000    0.0    1.0  \n",
       "max     13.000000   12.000000    0.0    1.0  \n",
       "\n",
       "[8 rows x 22 columns]"
      ]
     },
     "execution_count": 50,
     "metadata": {},
     "output_type": "execute_result"
    }
   ],
   "source": [
    "X = football.iloc[:,1:-1]\n",
    "X[\"const\"]=1\n",
    "y = football.iloc[:,-1]\n",
    "X.describe()"
   ]
  },
  {
   "cell_type": "markdown",
   "id": "9a262e9c",
   "metadata": {},
   "source": [
    "Here, we fit and display the MLR model. We'll discuss the residual plots below."
   ]
  },
  {
   "cell_type": "code",
   "execution_count": 51,
   "id": "735b81a1",
   "metadata": {},
   "outputs": [
    {
     "name": "stdout",
     "output_type": "stream",
     "text": [
      "                            OLS Regression Results                            \n",
      "==============================================================================\n",
      "Dep. Variable:                Win Pct   R-squared:                       0.998\n",
      "Model:                            OLS   Adj. R-squared:                  0.998\n",
      "Method:                 Least Squares   F-statistic:                     2852.\n",
      "Date:                Mon, 01 Nov 2021   Prob (F-statistic):          5.84e-124\n",
      "Time:                        23:00:35   Log-Likelihood:                -150.82\n",
      "No. Observations:                 117   AIC:                             343.6\n",
      "Df Residuals:                      96   BIC:                             401.7\n",
      "Df Model:                          20                                         \n",
      "Covariance Type:            nonrobust                                         \n",
      "======================================================================================\n",
      "                         coef    std err          t      P>|t|      [0.025      0.975]\n",
      "--------------------------------------------------------------------------------------\n",
      "Rush Rank              0.0124      0.007      1.786      0.077      -0.001       0.026\n",
      "Pass Rank              0.0094      0.007      1.275      0.205      -0.005       0.024\n",
      "Tot Off Rank          -0.0234      0.009     -2.486      0.015      -0.042      -0.005\n",
      "Rush Def Rank          0.0070      0.007      1.048      0.297      -0.006       0.020\n",
      "Pass Def Rank          0.0089      0.005      1.764      0.081      -0.001       0.019\n",
      "Score Def Rank        -0.0106      0.008     -1.367      0.175      -0.026       0.005\n",
      "Punt Ret Rank          0.0014      0.003      0.403      0.688      -0.005       0.008\n",
      "KO Ret Rank            0.0014      0.003      0.476      0.635      -0.004       0.007\n",
      "TO Margin Rank        -0.0035      0.004     -0.910      0.365      -0.011       0.004\n",
      "Penalty Yds Rank      -0.0015      0.003     -0.489      0.626      -0.008       0.005\n",
      "Def Punt Ret Rank     -0.0040      0.003     -1.294      0.199      -0.010       0.002\n",
      "Def KO Ret Rank        0.0028      0.003      0.924      0.358      -0.003       0.009\n",
      "Def Sacks Rank        -0.0003      0.005     -0.068      0.946      -0.010       0.010\n",
      "Def Tckl Loss Rank    -0.0004      0.005     -0.095      0.924      -0.009       0.009\n",
      "Off 3rd Dwn Rank       0.0029      0.005      0.581      0.563      -0.007       0.013\n",
      "Def 3rd Dwn Rank      -0.0023      0.005     -0.481      0.631      -0.012       0.007\n",
      "Off 4th Dwn Rank       0.0057      0.003      1.820      0.072      -0.001       0.012\n",
      "Def 4th Dwn Rank      -0.0058      0.003     -1.862      0.066      -0.012       0.000\n",
      "Wins                   3.5654      0.190     18.807      0.000       3.189       3.942\n",
      "Losses                -4.9958      0.226    -22.110      0.000      -5.444      -4.547\n",
      "Ties                        0          0        nan        nan           0           0\n",
      "const                 57.4705      2.423     23.719      0.000      52.661      62.280\n",
      "==============================================================================\n",
      "Omnibus:                       30.305   Durbin-Watson:                   1.869\n",
      "Prob(Omnibus):                  0.000   Jarque-Bera (JB):               65.076\n",
      "Skew:                          -1.032   Prob(JB):                     7.40e-15\n",
      "Kurtosis:                       6.014   Cond. No.                          inf\n",
      "==============================================================================\n",
      "\n",
      "Notes:\n",
      "[1] Standard Errors assume that the covariance matrix of the errors is correctly specified.\n",
      "[2] The smallest eigenvalue is      0. This might indicate that there are\n",
      "strong multicollinearity problems or that the design matrix is singular.\n"
     ]
    },
    {
     "name": "stderr",
     "output_type": "stream",
     "text": [
      "/Users/Fr333y3d3a/miniconda3/envs/math839/lib/python3.9/site-packages/statsmodels/regression/linear_model.py:1860: RuntimeWarning: divide by zero encountered in double_scalars\n",
      "  return np.sqrt(eigvals[0]/eigvals[-1])\n"
     ]
    }
   ],
   "source": [
    "model = sm.OLS(y,X).fit()\n",
    "results = model.summary()\n",
    "print(results)"
   ]
  },
  {
   "cell_type": "markdown",
   "id": "e3a7e9cc",
   "metadata": {},
   "source": [
    "a. The actual vs predicted plot seems to be linear at first. Upon closer inspection, it can be seen that a slightly concave pattern exists, the higher and lower values preferring an opposite side of the fitted line to the vlues in the middle. \n",
    "\n",
    "b. There is a massive amount of curvature that bends like a rainbow over the plot. I image this is caused by a great deal of colinearity, especially considering the value we're attempting to predict can be calculated using factors within the model. Not to mention, To win means that a team will succeed and therefore be ranked highly in all of these categories, meaning that teams with high win percentages should have lower values in ranked categories."
   ]
  },
  {
   "cell_type": "code",
   "execution_count": 52,
   "id": "dbc94489",
   "metadata": {},
   "outputs": [
    {
     "data": {
      "text/plain": [
       "Text(0.5, 1.0, 'Actual by Predicted')"
      ]
     },
     "execution_count": 52,
     "metadata": {},
     "output_type": "execute_result"
    },
    {
     "data": {
      "image/png": "[encoded data removed]",
      "text/plain": [
       "<Figure size 864x432 with 2 Axes>"
      ]
     },
     "metadata": {
      "needs_background": "light"
     },
     "output_type": "display_data"
    }
   ],
   "source": [
    "#Residuals and predicted values\n",
    "resid = model.resid\n",
    "pred = model.predict(X)\n",
    "\n",
    "#These four lines describe two functions for displaying the fitted lines on the plots. \n",
    "coef_res = np.polyfit(pred,resid,1)\n",
    "poly1d_res = np.poly1d(coef_res)\n",
    "\n",
    "coef_act = np.polyfit(pred,y,1)\n",
    "poly1d_act = np.poly1d(coef_act)\n",
    "\n",
    "#Matplotlib arranges things using a figure and subplots. Here is a figure with two subplots. \n",
    "fig,axs = plt.subplots(1,2,figsize=(12,6))\n",
    "\n",
    "axs[0].plot(y,resid,\"o\",label=\"data\")\n",
    "axs[0].plot(pred,poly1d_res(pred))\n",
    "axs[0].set_title(\"Residual by Predicted\")\n",
    "\n",
    "axs[1].plot(y,pred,\"o\",label=\"data\")\n",
    "axs[1].plot(pred,poly1d_act(pred))\n",
    "axs[1].set_title(\"Actual by Predicted\")\n"
   ]
  },
  {
   "cell_type": "markdown",
   "id": "3c6520de",
   "metadata": {},
   "source": [
    "c. Even if raising our standards to assume that we need a VIF value above 10 in order to indicate colinearity, we've got three strong candidates already. I'd say it's pretty clear that win and loss counts as well as performance metrics exhibit multicolinearity when attempting to predict win percentage."
   ]
  },
  {
   "cell_type": "code",
   "execution_count": 53,
   "id": "9c34ee36",
   "metadata": {},
   "outputs": [
    {
     "name": "stdout",
     "output_type": "stream",
     "text": [
      "      VIF            Features\n",
      "0     6.8           Rush Rank\n",
      "1     7.7           Pass Rank\n",
      "2    12.6        Tot Off Rank\n",
      "3     6.3       Rush Def Rank\n",
      "4     3.6       Pass Def Rank\n",
      "5     8.5      Score Def Rank\n",
      "6     1.7       Punt Ret Rank\n",
      "7     1.2         KO Ret Rank\n",
      "8     2.1      TO Margin Rank\n",
      "9     1.4    Penalty Yds Rank\n",
      "10    1.3   Def Punt Ret Rank\n",
      "11    1.3     Def KO Ret Rank\n",
      "12    3.6      Def Sacks Rank\n",
      "13    2.9  Def Tckl Loss Rank\n",
      "14    3.4    Off 3rd Dwn Rank\n",
      "15    3.3    Def 3rd Dwn Rank\n",
      "16    1.4    Off 4th Dwn Rank\n",
      "17    1.4    Def 4th Dwn Rank\n",
      "18   34.0                Wins\n",
      "19   33.3              Losses\n",
      "20    NaN                Ties\n",
      "21  730.7               const\n"
     ]
    },
    {
     "name": "stderr",
     "output_type": "stream",
     "text": [
      "/Users/Fr333y3d3a/miniconda3/envs/math839/lib/python3.9/site-packages/statsmodels/regression/linear_model.py:1715: RuntimeWarning: invalid value encountered in double_scalars\n",
      "  return 1 - self.ssr/self.centered_tss\n"
     ]
    }
   ],
   "source": [
    "var_inff = pd.DataFrame()\n",
    "var_inff[\"VIF\"] = [vif(X.values,i) for i in range(X.shape[1])]\n",
    "var_inff[\"Features\"] = X.columns\n",
    "print(var_inff.round(1))"
   ]
  },
  {
   "cell_type": "markdown",
   "id": "5b20500e",
   "metadata": {},
   "source": [
    "e. When creating a quantile plot with the studentized residuals, there appears to be heavy swerving at the ends of the distribution. This likely indicates that our model contains values that are more extreme than we would expect in a normal distribution."
   ]
  },
  {
   "cell_type": "code",
   "execution_count": 54,
   "id": "58cf4c58",
   "metadata": {},
   "outputs": [
    {
     "name": "stderr",
     "output_type": "stream",
     "text": [
      "/Users/Fr333y3d3a/miniconda3/envs/math839/lib/python3.9/site-packages/statsmodels/graphics/gofplots.py:993: UserWarning: marker is redundantly defined by the 'marker' keyword argument and the fmt string \"bo\" (-> marker='o'). The keyword argument will take precedence.\n",
      "  ax.plot(x, y, fmt, **plot_style)\n"
     ]
    },
    {
     "data": {
      "image/png": "[encoded data removed]",
      "text/plain": [
       "<Figure size 432x288 with 1 Axes>"
      ]
     },
     "metadata": {
      "needs_background": "light"
     },
     "output_type": "display_data"
    }
   ],
   "source": [
    "student_resid = model.outlier_test().iloc[:,0]\n",
    "fig = sm.qqplot(student_resid,line=\"45\")\n",
    "plt.show()"
   ]
  },
  {
   "cell_type": "markdown",
   "id": "acf7f620",
   "metadata": {},
   "source": [
    "f. When comparing the PRESS data to the original residuals, there are no glaring differences that I notice, although the data may be slightly larger in absolute value and angular in pattern. If this distribution was suffering from simply errant outliers instead of multicoliearity, the curvature might have waned. Instead, the opposite is true, but not in a visually extreme way."
   ]
  },
  {
   "cell_type": "code",
   "execution_count": 55,
   "id": "4d85a803",
   "metadata": {},
   "outputs": [
    {
     "data": {
      "image/png": "[encoded data removed]",
      "text/plain": [
       "<Figure size 432x288 with 1 Axes>"
      ]
     },
     "metadata": {
      "needs_background": "light"
     },
     "output_type": "display_data"
    }
   ],
   "source": [
    "influence = oi.OLSInfluence(model)\n",
    "press = influence.resid_press\n",
    "press1 = influence.ess_press\n",
    "\n",
    "fig = plt.scatter(pred,press)"
   ]
  },
  {
   "cell_type": "markdown",
   "id": "6c2a3182",
   "metadata": {},
   "source": [
    "g. Using the external studentized residuals, we can even more clearly differentiate outliers (on a good day). I'd be suspicious about anything over abs(2.5) while possibly considering the exclusion of anything over abs(3) in studentized residual terms. Excluding individual values when calculating the std dev for the calculation assures fairness in proportionality, limiting the influence of the outsized values. "
   ]
  },
  {
   "cell_type": "code",
   "execution_count": 56,
   "id": "61171973",
   "metadata": {},
   "outputs": [
    {
     "data": {
      "image/png": "[encoded data removed]",
      "text/plain": [
       "<Figure size 432x288 with 1 Axes>"
      ]
     },
     "metadata": {
      "needs_background": "light"
     },
     "output_type": "display_data"
    }
   ],
   "source": [
    "external = influence.resid_studentized_external\n",
    "internal = influence.resid_studentized_internal\n",
    "fig = plt.scatter(pred,external)"
   ]
  },
  {
   "cell_type": "markdown",
   "id": "6b3bd33f",
   "metadata": {},
   "source": [
    "Two.\n",
    "Here, similar to the first part, we read the .csv, adding a constant, arranging the columns, fitting the model, and returning the results."
   ]
  },
  {
   "cell_type": "code",
   "execution_count": 57,
   "id": "e22691ad",
   "metadata": {},
   "outputs": [
    {
     "name": "stdout",
     "output_type": "stream",
     "text": [
      "                            OLS Regression Results                            \n",
      "==============================================================================\n",
      "Dep. Variable:                      y   R-squared:                       0.764\n",
      "Model:                            OLS   Adj. R-squared:                  0.693\n",
      "Method:                 Least Squares   F-statistic:                     10.80\n",
      "Date:                Mon, 01 Nov 2021   Prob (F-statistic):            0.00177\n",
      "Time:                        23:00:42   Log-Likelihood:                -53.142\n",
      "No. Observations:                  14   AIC:                             114.3\n",
      "Df Residuals:                      10   BIC:                             116.8\n",
      "Df Model:                           3                                         \n",
      "Covariance Type:            nonrobust                                         \n",
      "==============================================================================\n",
      "                 coef    std err          t      P>|t|      [0.025      0.975]\n",
      "------------------------------------------------------------------------------\n",
      "x1            16.8750      4.506      3.745      0.004       6.835      26.915\n",
      "x2            16.1250      4.506      3.579      0.005       6.085      26.165\n",
      "x3            10.6250      4.506      2.358      0.040       0.585      20.665\n",
      "const        134.1429      3.406     39.382      0.000     126.553     141.732\n",
      "==============================================================================\n",
      "Omnibus:                        0.749   Durbin-Watson:                   1.118\n",
      "Prob(Omnibus):                  0.688   Jarque-Bera (JB):                0.632\n",
      "Skew:                           0.108   Prob(JB):                        0.729\n",
      "Kurtosis:                       1.982   Cond. No.                         1.32\n",
      "==============================================================================\n",
      "\n",
      "Notes:\n",
      "[1] Standard Errors assume that the covariance matrix of the errors is correctly specified.\n"
     ]
    },
    {
     "name": "stderr",
     "output_type": "stream",
     "text": [
      "/Users/Fr333y3d3a/miniconda3/envs/math839/lib/python3.9/site-packages/scipy/stats/stats.py:1541: UserWarning: kurtosistest only valid for n>=20 ... continuing anyway, n=14\n",
      "  warnings.warn(\"kurtosistest only valid for n>=20 ... continuing \"\n"
     ]
    }
   ],
   "source": [
    "tired = pd.read_csv(\"/Users/Fr333y3d3a/Documents/School/952986478/MATH839 Applied Regression Analysis/hw4/TireTreadDOE.csv\")\n",
    "\n",
    "X = tired.iloc[:,:-1]\n",
    "X[\"const\"] = 1\n",
    "y = tired.iloc[:,-1]\n",
    "\n",
    "model = sm.OLS(y,X).fit()\n",
    "results = model.summary()\n",
    "\n",
    "print(results)"
   ]
  },
  {
   "cell_type": "markdown",
   "id": "4323f984",
   "metadata": {},
   "source": [
    "a. There is evidence of lack of fit in the data because of the outsided residuals. There does not appear to be any obvious curvature or bias within the directionality of the data aside from a potential bimodal rounding. I'm hesitant to believe that that would be a pattern we'd see in the data, but never say never.\n",
    "\n",
    "b. The residual by predicted sheds even less evidence of a pattern of lack of fit aside from making clear the extent to which the model is inaccurate."
   ]
  },
  {
   "cell_type": "code",
   "execution_count": 58,
   "id": "16a829b4",
   "metadata": {},
   "outputs": [
    {
     "name": "stdout",
     "output_type": "stream",
     "text": [
      "x1        16.875000\n",
      "x2        16.125000\n",
      "x3        10.625000\n",
      "const    134.142857\n",
      "dtype: float64 177.76785714285717\n"
     ]
    },
    {
     "data": {
      "text/plain": [
       "Text(0.5, 1.0, 'Actual by Predicted')"
      ]
     },
     "execution_count": 58,
     "metadata": {},
     "output_type": "execute_result"
    },
    {
     "data": {
      "image/png": "[encoded data removed]",
      "text/plain": [
       "<Figure size 864x432 with 2 Axes>"
      ]
     },
     "metadata": {
      "needs_background": "light"
     },
     "output_type": "display_data"
    }
   ],
   "source": [
    "resid = model.resid\n",
    "pred = model.predict(X)\n",
    "\n",
    "coef_res = np.polyfit(pred,resid,1)\n",
    "poly1d_res = np.poly1d(coef_res)\n",
    "\n",
    "coef_act = np.polyfit(pred,y,1)\n",
    "poly1d_act = np.poly1d(coef_act)\n",
    "\n",
    "fig,axs = plt.subplots(1,2,figsize=(12,6))\n",
    "print(model.params,sum(model.params))\n",
    "\n",
    "axs[0].plot(y,resid,\"o\",label=\"data\")\n",
    "axs[0].plot(pred,poly1d_res(pred))\n",
    "axs[0].set_title(\"Residual by Predicted\")\n",
    "\n",
    "axs[1].plot(y,pred,\"o\",label=\"data\")\n",
    "axs[1].plot(pred,poly1d_act(pred))\n",
    "axs[1].set_title(\"Actual by Predicted\")"
   ]
  },
  {
   "cell_type": "markdown",
   "id": "e15581ec",
   "metadata": {},
   "source": [
    "c. The lack of fit test does show significance based on the p-value given by the f-test. At a ratio of more than ten, the model's error outweighs the error of the residuals. I'd be looking for a value of less than one if I were going to reject the null hypothesis, that the model fits. "
   ]
  },
  {
   "cell_type": "code",
   "execution_count": 59,
   "id": "e6ebfe30",
   "metadata": {},
   "outputs": [
    {
     "name": "stdout",
     "output_type": "stream",
     "text": [
      "1753.791666666666 162.43392857142857 529.6703296703296\n",
      "10.796954072901432 0.00177219565571055\n"
     ]
    }
   ],
   "source": [
    "mse_t = model.mse_total\n",
    "mse_m = model.mse_model\n",
    "mse_r = model.mse_resid\n",
    "\n",
    "f = model.fvalue\n",
    "\n",
    "print(mse_m,mse_r,mse_t)\n",
    "print(f,model.f_pvalue)"
   ]
  },
  {
   "cell_type": "markdown",
   "id": "c519710c",
   "metadata": {},
   "source": [
    "d. Based on the effect leverage plots, all of the regressors do seem significant, although the large residuals show up here as well."
   ]
  },
  {
   "cell_type": "code",
   "execution_count": 60,
   "id": "a57f1279",
   "metadata": {},
   "outputs": [
    {
     "data": {
      "image/png": "[encoded data removed]",
      "text/plain": [
       "<Figure size 432x288 with 4 Axes>"
      ]
     },
     "metadata": {
      "needs_background": "light"
     },
     "output_type": "display_data"
    }
   ],
   "source": [
    "grid = sm.graphics.plot_partregress_grid(model)"
   ]
  },
  {
   "cell_type": "markdown",
   "id": "5a2a9ac9",
   "metadata": {},
   "source": [
    "e. The PRESS statistic is significantly larger than the total MSE of the model. This shows a model that is wildly inaccurate because individual omissions will disrupt the values significantly. "
   ]
  },
  {
   "cell_type": "code",
   "execution_count": 61,
   "id": "3b5e2b82",
   "metadata": {},
   "outputs": [
    {
     "name": "stdout",
     "output_type": "stream",
     "text": [
      "4715.321269141491 529.6703296703296\n"
     ]
    }
   ],
   "source": [
    "influence = oi.OLSInfluence(model)\n",
    "press_value = influence.ess_press\n",
    "print(press_value,mse_t)"
   ]
  },
  {
   "cell_type": "markdown",
   "id": "df664ea2",
   "metadata": {},
   "source": [
    "f. There does appear to be lack of fit in this model. Most of the datapoints are on one side of the regression line while a few pull clustered points pull the regression to one side. The difference is shown more clearly when simply looking at the residuals by predicted plot."
   ]
  },
  {
   "cell_type": "code",
   "execution_count": 62,
   "id": "bde73ce9",
   "metadata": {},
   "outputs": [
    {
     "name": "stdout",
     "output_type": "stream",
     "text": [
      "                            OLS Regression Results                            \n",
      "==============================================================================\n",
      "Dep. Variable:                      y   R-squared:                       0.943\n",
      "Model:                            OLS   Adj. R-squared:                  0.877\n",
      "Method:                 Least Squares   F-statistic:                     14.21\n",
      "Date:                Mon, 01 Nov 2021   Prob (F-statistic):            0.00239\n",
      "Time:                        23:00:47   Log-Likelihood:                -43.188\n",
      "No. Observations:                  14   AIC:                             102.4\n",
      "Df Residuals:                       6   BIC:                             107.5\n",
      "Df Model:                           7                                         \n",
      "Covariance Type:            nonrobust                                         \n",
      "==============================================================================\n",
      "                 coef    std err          t      P>|t|      [0.025      0.975]\n",
      "------------------------------------------------------------------------------\n",
      "x1            16.8750      2.857      5.906      0.001       9.884      23.866\n",
      "x2            16.1250      2.857      5.644      0.001       9.134      23.116\n",
      "x3            10.6250      2.857      3.719      0.010       3.634      17.616\n",
      "const        134.1429      2.160     62.109      0.000     128.858     139.428\n",
      "x1*x2          5.1250      2.857      1.794      0.123      -1.866      12.116\n",
      "x1*x3          7.1250      2.857      2.494      0.047       0.134      14.116\n",
      "x3*x2          7.8750      2.857      2.756      0.033       0.884      14.866\n",
      "x1*x2*x3       3.8750      2.857      1.356      0.224      -3.116      10.866\n",
      "==============================================================================\n",
      "Omnibus:                        3.477   Durbin-Watson:                   0.199\n",
      "Prob(Omnibus):                  0.176   Jarque-Bera (JB):                2.573\n",
      "Skew:                           0.974   Prob(JB):                        0.276\n",
      "Kurtosis:                       2.217   Cond. No.                         1.32\n",
      "==============================================================================\n",
      "\n",
      "Notes:\n",
      "[1] Standard Errors assume that the covariance matrix of the errors is correctly specified.\n",
      "x1           16.875000\n",
      "x2           16.125000\n",
      "x3           10.625000\n",
      "const       134.142857\n",
      "x1*x2         5.125000\n",
      "x1*x3         7.125000\n",
      "x3*x2         7.875000\n",
      "x1*x2*x3      3.875000\n",
      "dtype: float64 201.7678571428571\n"
     ]
    },
    {
     "name": "stderr",
     "output_type": "stream",
     "text": [
      "/Users/Fr333y3d3a/miniconda3/envs/math839/lib/python3.9/site-packages/scipy/stats/stats.py:1541: UserWarning: kurtosistest only valid for n>=20 ... continuing anyway, n=14\n",
      "  warnings.warn(\"kurtosistest only valid for n>=20 ... continuing \"\n"
     ]
    },
    {
     "data": {
      "text/plain": [
       "Text(0.5, 1.0, 'Actual by Predicted')"
      ]
     },
     "execution_count": 62,
     "metadata": {},
     "output_type": "execute_result"
    },
    {
     "data": {
      "image/png": "[encoded data removed]",
      "text/plain": [
       "<Figure size 864x432 with 2 Axes>"
      ]
     },
     "metadata": {
      "needs_background": "light"
     },
     "output_type": "display_data"
    }
   ],
   "source": [
    "X[\"x1*x2\"] = X[\"x1\"]*X[\"x2\"]\n",
    "X[\"x1*x3\"] = X[\"x1\"]*X[\"x3\"]\n",
    "X[\"x3*x2\"] = X[\"x3\"]*X[\"x2\"]\n",
    "X[\"x1*x2*x3\"] = X[\"x1\"]*X[\"x2\"]*X[\"x3\"]\n",
    "\n",
    "model = sm.OLS(y,X).fit()\n",
    "results = model.summary()\n",
    "print(results)\n",
    "\n",
    "resid = model.resid\n",
    "pred = model.predict(X)\n",
    "\n",
    "coef_res = np.polyfit(pred,resid,1)\n",
    "poly1d_res = np.poly1d(coef_res)\n",
    "\n",
    "coef_act = np.polyfit(pred,y,1)\n",
    "poly1d_act = np.poly1d(coef_act)\n",
    "\n",
    "fig,axs = plt.subplots(1,2,figsize=(12,6))\n",
    "print(model.params,sum(model.params))\n",
    "\n",
    "axs[0].plot(y,resid,\"o\",label=\"data\")\n",
    "axs[0].plot(pred,poly1d_res(pred))\n",
    "axs[0].set_title(\"Residual by Predicted\")\n",
    "\n",
    "axs[1].plot(y,pred,\"o\",label=\"data\")\n",
    "axs[1].plot(pred,poly1d_act(pred))\n",
    "axs[1].set_title(\"Actual by Predicted\")"
   ]
  },
  {
   "cell_type": "markdown",
   "id": "b6ac5fcb",
   "metadata": {},
   "source": [
    "g. The p-value of the test statistic has risen, but is still well below the typical value chosen for significance at 0.002. There is still a significant lack of fit in this model. The model's MSE is far larger than the MSE of the residuals, which is not ideal."
   ]
  },
  {
   "cell_type": "code",
   "execution_count": 63,
   "id": "23ed9803",
   "metadata": {},
   "outputs": [
    {
     "name": "stdout",
     "output_type": "stream",
     "text": [
      "927.6964285714284 65.30654761904762 529.6703296703296\n",
      "14.205259080344527 0.002386273890509798\n"
     ]
    }
   ],
   "source": [
    "mse_t = model.mse_total\n",
    "mse_m = model.mse_model\n",
    "mse_r = model.mse_resid\n",
    "\n",
    "f = model.fvalue\n",
    "\n",
    "print(mse_m,mse_r,mse_t)\n",
    "print(f,model.f_pvalue)"
   ]
  },
  {
   "cell_type": "markdown",
   "id": "0b751f24",
   "metadata": {},
   "source": [
    "h. Based purely on the effect leverage plots, the terms which should be considered for removal are the x1*x2 and x1*x2*X3 plots because they exhibit lower apparent slopes than the other plots. They also happened to have the highest p-values for the t-tests in the regression results, further making the case for their removal."
   ]
  },
  {
   "cell_type": "code",
   "execution_count": 64,
   "id": "1d977fae",
   "metadata": {},
   "outputs": [
    {
     "data": {
      "image/png": "[encoded data removed]",
      "text/plain": [
       "<Figure size 576x1152 with 8 Axes>"
      ]
     },
     "metadata": {
      "needs_background": "light"
     },
     "output_type": "display_data"
    }
   ],
   "source": [
    "grid = plt.figure(figsize=(8,16))\n",
    "fig = sm.graphics.plot_partregress_grid(model,fig=grid)"
   ]
  },
  {
   "cell_type": "markdown",
   "id": "60bc09ce",
   "metadata": {},
   "source": [
    "i. The PRESS statistic for the full factor model is orders of magnitude greater than the first PRESS statistic. Such a large PRESS statistic when the model attempts to generalize by exluding values will likely blow up if new values are introduced. Therefore, the first model is better for predicting abrasion wear because it can generalize better."
   ]
  },
  {
   "cell_type": "code",
   "execution_count": 66,
   "id": "e4bccadd",
   "metadata": {},
   "outputs": [
    {
     "name": "stdout",
     "output_type": "stream",
     "text": [
      "39896.94411571264 135.0578376445648\n"
     ]
    }
   ],
   "source": [
    "influence = oi.OLSInfluence(model)\n",
    "press2 = influence.ess_press\n",
    "press_resid = influence.resid_press\n",
    "print(press2,press1)"
   ]
  },
  {
   "cell_type": "markdown",
   "id": "81b1ca4b",
   "metadata": {},
   "source": [
    "j. The VIF values for this model are all 1 because all of the data was represented by dummy variables with a value of -1 or +1. There's a constant variance all around, so there's no variance which can be observed inflating results."
   ]
  },
  {
   "cell_type": "code",
   "execution_count": 67,
   "id": "fde53067",
   "metadata": {},
   "outputs": [
    {
     "name": "stdout",
     "output_type": "stream",
     "text": [
      "   VIF  Features\n",
      "0  1.0        x1\n",
      "1  1.0        x2\n",
      "2  1.0        x3\n",
      "3  1.0     const\n",
      "4  1.0     x1*x2\n",
      "5  1.0     x1*x3\n",
      "6  1.0     x3*x2\n",
      "7  1.0  x1*x2*x3\n"
     ]
    }
   ],
   "source": [
    "var_inff = pd.DataFrame()\n",
    "var_inff[\"VIF\"] = [vif(X.values,i) for i in range(X.shape[1])]\n",
    "var_inff[\"Features\"] = X.columns\n",
    "print(var_inff.round(1))"
   ]
  },
  {
   "cell_type": "code",
   "execution_count": null,
   "id": "117c9147",
   "metadata": {},
   "outputs": [],
   "source": []
  }
 ],
 "metadata": {
  "kernelspec": {
   "display_name": "Python 3 (ipykernel)",
   "language": "python",
   "name": "python3"
  },
  "language_info": {
   "codemirror_mode": {
    "name": "ipython",
    "version": 3
   },
   "file_extension": ".py",
   "mimetype": "text/x-python",
   "name": "python",
   "nbconvert_exporter": "python",
   "pygments_lexer": "ipython3",
   "version": "3.9.7"
  }
 },
 "nbformat": 4,
 "nbformat_minor": 5
}
