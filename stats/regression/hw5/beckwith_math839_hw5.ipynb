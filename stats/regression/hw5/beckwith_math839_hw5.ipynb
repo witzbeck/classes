{
 "cells": [
  {
   "cell_type": "markdown",
   "id": "f27d422a",
   "metadata": {},
   "source": [
    "Alex Beckwith\n",
    "\n",
    "Math 839 - Fall 21\n",
    "\n",
    "HW5"
   ]
  },
  {
   "cell_type": "markdown",
   "id": "277412db",
   "metadata": {},
   "source": [
    "As per convention, the library imports are stated at the beginning of the file.\n",
    "\n",
    "If I were being particular about professional best practice, I would import all of the objects and functions that I am using via absolute reference instead of importing the entire package."
   ]
  },
  {
   "cell_type": "code",
   "execution_count": 1,
   "id": "ea876f20",
   "metadata": {},
   "outputs": [],
   "source": [
    "import numpy as np\n",
    "import pandas as pd\n",
    "import seaborn as sns\n",
    "import statsmodels.api as sm\n",
    "import matplotlib.pyplot as plt\n",
    "from statsmodels.stats.outliers_influence import variance_inflation_factor as vif\n",
    "import statsmodels.stats.outliers_influence as oi"
   ]
  },
  {
   "cell_type": "markdown",
   "id": "c63c5df5",
   "metadata": {},
   "source": [
    "Problem 1a. Fit the straight-line model. Make scatterplot, summary stats, and residual plots. State conclusions about adequacy.\n",
    "\n",
    "I begin by using pandas to import the csv as a dataframe assigned to the variable vapor.\n",
    "\n",
    "The method \"head\" allows us to preview the data we'll be using."
   ]
  },
  {
   "cell_type": "code",
   "execution_count": 2,
   "id": "9a3cb8f7",
   "metadata": {},
   "outputs": [
    {
     "data": {
      "text/html": [
       "<div>\n",
       "<style scoped>\n",
       "    .dataframe tbody tr th:only-of-type {\n",
       "        vertical-align: middle;\n",
       "    }\n",
       "\n",
       "    .dataframe tbody tr th {\n",
       "        vertical-align: top;\n",
       "    }\n",
       "\n",
       "    .dataframe thead th {\n",
       "        text-align: right;\n",
       "    }\n",
       "</style>\n",
       "<table border=\"1\" class=\"dataframe\">\n",
       "  <thead>\n",
       "    <tr style=\"text-align: right;\">\n",
       "      <th></th>\n",
       "      <th>temp</th>\n",
       "      <th>vapor</th>\n",
       "    </tr>\n",
       "  </thead>\n",
       "  <tbody>\n",
       "    <tr>\n",
       "      <th>0</th>\n",
       "      <td>273</td>\n",
       "      <td>4.6</td>\n",
       "    </tr>\n",
       "    <tr>\n",
       "      <th>1</th>\n",
       "      <td>283</td>\n",
       "      <td>9.2</td>\n",
       "    </tr>\n",
       "    <tr>\n",
       "      <th>2</th>\n",
       "      <td>293</td>\n",
       "      <td>17.5</td>\n",
       "    </tr>\n",
       "    <tr>\n",
       "      <th>3</th>\n",
       "      <td>303</td>\n",
       "      <td>31.8</td>\n",
       "    </tr>\n",
       "    <tr>\n",
       "      <th>4</th>\n",
       "      <td>313</td>\n",
       "      <td>55.3</td>\n",
       "    </tr>\n",
       "  </tbody>\n",
       "</table>\n",
       "</div>"
      ],
      "text/plain": [
       "   temp  vapor\n",
       "0   273    4.6\n",
       "1   283    9.2\n",
       "2   293   17.5\n",
       "3   303   31.8\n",
       "4   313   55.3"
      ]
     },
     "execution_count": 2,
     "metadata": {},
     "output_type": "execute_result"
    }
   ],
   "source": [
    "vapor = pd.read_csv(\"/Users/Fr333y3d3a/Documents/School/952986478/MATH839 Applied Regression Analysis/hw5/Hwk5Prob1.csv\")\n",
    "vapor.head()"
   ]
  },
  {
   "cell_type": "markdown",
   "id": "2a789b18",
   "metadata": {},
   "source": [
    "Since we're making a linear model, it'll be useful to have a constant term. \n",
    "\n",
    "We'll also separate the regressors from the term being predicted. "
   ]
  },
  {
   "cell_type": "code",
   "execution_count": 3,
   "id": "04b2c714",
   "metadata": {},
   "outputs": [],
   "source": [
    "vapor[\"const\"] = 1\n",
    "X = vapor.loc[:,[\"temp\",\"const\"]]\n",
    "y = vapor.loc[:,\"vapor\"]"
   ]
  },
  {
   "cell_type": "markdown",
   "id": "5c727c83",
   "metadata": {},
   "source": [
    "Here is the requested scatterplot. That doesn't look linear!"
   ]
  },
  {
   "cell_type": "code",
   "execution_count": 4,
   "id": "f1aa33b8",
   "metadata": {},
   "outputs": [
    {
     "data": {
      "image/png": "[encoded data removed]",
      "text/plain": [
       "<Figure size 432x288 with 1 Axes>"
      ]
     },
     "metadata": {
      "needs_background": "light"
     },
     "output_type": "display_data"
    }
   ],
   "source": [
    "plt.scatter(vapor[\"temp\"],vapor[\"vapor\"])\n",
    "plt.show()"
   ]
  },
  {
   "cell_type": "markdown",
   "id": "d42e9aba",
   "metadata": {},
   "source": [
    "Our correlation coefficient doesn't reflect how strong of a relationship the scatterplot appears to show. \n",
    "\n",
    "The residual plots provide further evidence for a nonlinear relationship."
   ]
  },
  {
   "cell_type": "code",
   "execution_count": 5,
   "id": "8b2623ff",
   "metadata": {},
   "outputs": [
    {
     "name": "stderr",
     "output_type": "stream",
     "text": [
      "/Users/Fr333y3d3a/miniconda3/envs/math839/lib/python3.9/site-packages/scipy/stats/stats.py:1541: UserWarning: kurtosistest only valid for n>=20 ... continuing anyway, n=11\n",
      "  warnings.warn(\"kurtosistest only valid for n>=20 ... continuing \"\n"
     ]
    },
    {
     "data": {
      "text/html": [
       "<table class=\"simpletable\">\n",
       "<caption>OLS Regression Results</caption>\n",
       "<tr>\n",
       "  <th>Dep. Variable:</th>          <td>vapor</td>      <th>  R-squared:         </th> <td>   0.798</td>\n",
       "</tr>\n",
       "<tr>\n",
       "  <th>Model:</th>                   <td>OLS</td>       <th>  Adj. R-squared:    </th> <td>   0.776</td>\n",
       "</tr>\n",
       "<tr>\n",
       "  <th>Method:</th>             <td>Least Squares</td>  <th>  F-statistic:       </th> <td>   35.57</td>\n",
       "</tr>\n",
       "<tr>\n",
       "  <th>Date:</th>             <td>Thu, 11 Nov 2021</td> <th>  Prob (F-statistic):</th> <td>0.000212</td>\n",
       "</tr>\n",
       "<tr>\n",
       "  <th>Time:</th>                 <td>23:06:36</td>     <th>  Log-Likelihood:    </th> <td> -66.942</td>\n",
       "</tr>\n",
       "<tr>\n",
       "  <th>No. Observations:</th>      <td>    11</td>      <th>  AIC:               </th> <td>   137.9</td>\n",
       "</tr>\n",
       "<tr>\n",
       "  <th>Df Residuals:</th>          <td>     9</td>      <th>  BIC:               </th> <td>   138.7</td>\n",
       "</tr>\n",
       "<tr>\n",
       "  <th>Df Model:</th>              <td>     1</td>      <th>                     </th>     <td> </td>   \n",
       "</tr>\n",
       "<tr>\n",
       "  <th>Covariance Type:</th>      <td>nonrobust</td>    <th>                     </th>     <td> </td>   \n",
       "</tr>\n",
       "</table>\n",
       "<table class=\"simpletable\">\n",
       "<tr>\n",
       "    <td></td>       <th>coef</th>     <th>std err</th>      <th>t</th>      <th>P>|t|</th>  <th>[0.025</th>    <th>0.975]</th>  \n",
       "</tr>\n",
       "<tr>\n",
       "  <th>temp</th>  <td>    6.6855</td> <td>    1.121</td> <td>    5.964</td> <td> 0.000</td> <td>    4.150</td> <td>    9.221</td>\n",
       "</tr>\n",
       "<tr>\n",
       "  <th>const</th> <td>-1956.2585</td> <td>  363.807</td> <td>   -5.377</td> <td> 0.000</td> <td>-2779.248</td> <td>-1133.269</td>\n",
       "</tr>\n",
       "</table>\n",
       "<table class=\"simpletable\">\n",
       "<tr>\n",
       "  <th>Omnibus:</th>       <td> 1.564</td> <th>  Durbin-Watson:     </th> <td>   0.442</td>\n",
       "</tr>\n",
       "<tr>\n",
       "  <th>Prob(Omnibus):</th> <td> 0.458</td> <th>  Jarque-Bera (JB):  </th> <td>   1.056</td>\n",
       "</tr>\n",
       "<tr>\n",
       "  <th>Skew:</th>          <td> 0.694</td> <th>  Prob(JB):          </th> <td>   0.590</td>\n",
       "</tr>\n",
       "<tr>\n",
       "  <th>Kurtosis:</th>      <td> 2.386</td> <th>  Cond. No.          </th> <td>3.33e+03</td>\n",
       "</tr>\n",
       "</table><br/><br/>Notes:<br/>[1] Standard Errors assume that the covariance matrix of the errors is correctly specified.<br/>[2] The condition number is large, 3.33e+03. This might indicate that there are<br/>strong multicollinearity or other numerical problems."
      ],
      "text/plain": [
       "<class 'statsmodels.iolib.summary.Summary'>\n",
       "\"\"\"\n",
       "                            OLS Regression Results                            \n",
       "==============================================================================\n",
       "Dep. Variable:                  vapor   R-squared:                       0.798\n",
       "Model:                            OLS   Adj. R-squared:                  0.776\n",
       "Method:                 Least Squares   F-statistic:                     35.57\n",
       "Date:                Thu, 11 Nov 2021   Prob (F-statistic):           0.000212\n",
       "Time:                        23:06:36   Log-Likelihood:                -66.942\n",
       "No. Observations:                  11   AIC:                             137.9\n",
       "Df Residuals:                       9   BIC:                             138.7\n",
       "Df Model:                           1                                         \n",
       "Covariance Type:            nonrobust                                         \n",
       "==============================================================================\n",
       "                 coef    std err          t      P>|t|      [0.025      0.975]\n",
       "------------------------------------------------------------------------------\n",
       "temp           6.6855      1.121      5.964      0.000       4.150       9.221\n",
       "const      -1956.2585    363.807     -5.377      0.000   -2779.248   -1133.269\n",
       "==============================================================================\n",
       "Omnibus:                        1.564   Durbin-Watson:                   0.442\n",
       "Prob(Omnibus):                  0.458   Jarque-Bera (JB):                1.056\n",
       "Skew:                           0.694   Prob(JB):                        0.590\n",
       "Kurtosis:                       2.386   Cond. No.                     3.33e+03\n",
       "==============================================================================\n",
       "\n",
       "Notes:\n",
       "[1] Standard Errors assume that the covariance matrix of the errors is correctly specified.\n",
       "[2] The condition number is large, 3.33e+03. This might indicate that there are\n",
       "strong multicollinearity or other numerical problems.\n",
       "\"\"\""
      ]
     },
     "execution_count": 5,
     "metadata": {},
     "output_type": "execute_result"
    }
   ],
   "source": [
    "model = sm.OLS(y,X).fit()\n",
    "model.summary()"
   ]
  },
  {
   "cell_type": "code",
   "execution_count": 6,
   "id": "d26afdfe",
   "metadata": {},
   "outputs": [
    {
     "data": {
      "text/plain": [
       "Text(0.5, 1.0, 'Actual by Predicted')"
      ]
     },
     "execution_count": 6,
     "metadata": {},
     "output_type": "execute_result"
    },
    {
     "data": {
      "image/png": "[encoded data removed]",
      "text/plain": [
       "<Figure size 864x432 with 2 Axes>"
      ]
     },
     "metadata": {
      "needs_background": "light"
     },
     "output_type": "display_data"
    }
   ],
   "source": [
    "#Residuals and predicted values\n",
    "resid = model.resid\n",
    "pred = model.predict(X)\n",
    "\n",
    "#These four lines describe two functions for displaying the fitted lines on the plots. \n",
    "coef_res = np.polyfit(pred,resid,1)\n",
    "poly1d_res = np.poly1d(coef_res)\n",
    "\n",
    "coef_act = np.polyfit(pred,y,1)\n",
    "poly1d_act = np.poly1d(coef_act)\n",
    "\n",
    "#Matplotlib arranges things using a figure and subplots. Here is a figure with two subplots. \n",
    "fig,axs = plt.subplots(1,2,figsize=(12,6))\n",
    "\n",
    "axs[0].plot(y,resid,\"o\",label=\"data\")\n",
    "axs[0].plot(pred,poly1d_res(pred))\n",
    "axs[0].set_title(\"Residual by Predicted\")\n",
    "\n",
    "axs[1].plot(y,pred,\"o\",label=\"data\")\n",
    "axs[1].plot(pred,poly1d_act(pred))\n",
    "axs[1].set_title(\"Actual by Predicted\")"
   ]
  },
  {
   "cell_type": "markdown",
   "id": "45f4b149",
   "metadata": {},
   "source": [
    "1b.\n",
    "\n",
    "Wouldn't you know it, apparently there's a law from physical chemistry that mathematically describes the data we've got. \n",
    "\n",
    "Let's transform the model to accommodate the new information.\n",
    "\n",
    "A negative reciprocal function is applied to the temperature terms, while we also take the natural log of the vapor pressure.\n",
    "\n",
    "The scatterplot looks much more linear!"
   ]
  },
  {
   "cell_type": "code",
   "execution_count": 7,
   "id": "f9445734",
   "metadata": {},
   "outputs": [
    {
     "data": {
      "image/png": "[encoded data removed]",
      "text/plain": [
       "<Figure size 432x288 with 1 Axes>"
      ]
     },
     "metadata": {
      "needs_background": "light"
     },
     "output_type": "display_data"
    }
   ],
   "source": [
    "X = vapor[\"temp\"].transform(lambda x: (-1)/x)\n",
    "y = vapor[\"vapor\"].transform(np.log)#.transform(lambda x: -x)\n",
    "\n",
    "plt.scatter(X,y)\n",
    "plt.show()"
   ]
  },
  {
   "cell_type": "markdown",
   "id": "842d2a0f",
   "metadata": {},
   "source": [
    "A value of 1.0 for Rsq and Rsq adj ain't bad."
   ]
  },
  {
   "cell_type": "code",
   "execution_count": 8,
   "id": "4c738a72",
   "metadata": {},
   "outputs": [
    {
     "name": "stderr",
     "output_type": "stream",
     "text": [
      "/Users/Fr333y3d3a/miniconda3/envs/math839/lib/python3.9/site-packages/scipy/stats/stats.py:1541: UserWarning: kurtosistest only valid for n>=20 ... continuing anyway, n=11\n",
      "  warnings.warn(\"kurtosistest only valid for n>=20 ... continuing \"\n"
     ]
    },
    {
     "data": {
      "text/html": [
       "<table class=\"simpletable\">\n",
       "<caption>OLS Regression Results</caption>\n",
       "<tr>\n",
       "  <th>Dep. Variable:</th>          <td>vapor</td>      <th>  R-squared:         </th> <td>   1.000</td> \n",
       "</tr>\n",
       "<tr>\n",
       "  <th>Model:</th>                   <td>OLS</td>       <th>  Adj. R-squared:    </th> <td>   1.000</td> \n",
       "</tr>\n",
       "<tr>\n",
       "  <th>Method:</th>             <td>Least Squares</td>  <th>  F-statistic:       </th> <td>6.672e+04</td>\n",
       "</tr>\n",
       "<tr>\n",
       "  <th>Date:</th>             <td>Thu, 11 Nov 2021</td> <th>  Prob (F-statistic):</th> <td>9.95e-19</td> \n",
       "</tr>\n",
       "<tr>\n",
       "  <th>Time:</th>                 <td>23:06:37</td>     <th>  Log-Likelihood:    </th> <td>  28.164</td> \n",
       "</tr>\n",
       "<tr>\n",
       "  <th>No. Observations:</th>      <td>    11</td>      <th>  AIC:               </th> <td>  -52.33</td> \n",
       "</tr>\n",
       "<tr>\n",
       "  <th>Df Residuals:</th>          <td>     9</td>      <th>  BIC:               </th> <td>  -51.53</td> \n",
       "</tr>\n",
       "<tr>\n",
       "  <th>Df Model:</th>              <td>     1</td>      <th>                     </th>     <td> </td>    \n",
       "</tr>\n",
       "<tr>\n",
       "  <th>Covariance Type:</th>      <td>nonrobust</td>    <th>                     </th>     <td> </td>    \n",
       "</tr>\n",
       "</table>\n",
       "<table class=\"simpletable\">\n",
       "<tr>\n",
       "    <td></td>       <th>coef</th>     <th>std err</th>      <th>t</th>      <th>P>|t|</th>  <th>[0.025</th>    <th>0.975]</th>  \n",
       "</tr>\n",
       "<tr>\n",
       "  <th>temp</th>  <td> 5200.7618</td> <td>   20.135</td> <td>  258.293</td> <td> 0.000</td> <td> 5155.213</td> <td> 5246.311</td>\n",
       "</tr>\n",
       "<tr>\n",
       "  <th>const</th> <td>   20.6074</td> <td>    0.063</td> <td>  325.790</td> <td> 0.000</td> <td>   20.464</td> <td>   20.750</td>\n",
       "</tr>\n",
       "</table>\n",
       "<table class=\"simpletable\">\n",
       "<tr>\n",
       "  <th>Omnibus:</th>       <td> 1.633</td> <th>  Durbin-Watson:     </th> <td>   0.373</td>\n",
       "</tr>\n",
       "<tr>\n",
       "  <th>Prob(Omnibus):</th> <td> 0.442</td> <th>  Jarque-Bera (JB):  </th> <td>   1.041</td>\n",
       "</tr>\n",
       "<tr>\n",
       "  <th>Skew:</th>          <td>-0.483</td> <th>  Prob(JB):          </th> <td>   0.594</td>\n",
       "</tr>\n",
       "<tr>\n",
       "  <th>Kurtosis:</th>      <td> 1.843</td> <th>  Cond. No.          </th> <td>3.23e+03</td>\n",
       "</tr>\n",
       "</table><br/><br/>Notes:<br/>[1] Standard Errors assume that the covariance matrix of the errors is correctly specified.<br/>[2] The condition number is large, 3.23e+03. This might indicate that there are<br/>strong multicollinearity or other numerical problems."
      ],
      "text/plain": [
       "<class 'statsmodels.iolib.summary.Summary'>\n",
       "\"\"\"\n",
       "                            OLS Regression Results                            \n",
       "==============================================================================\n",
       "Dep. Variable:                  vapor   R-squared:                       1.000\n",
       "Model:                            OLS   Adj. R-squared:                  1.000\n",
       "Method:                 Least Squares   F-statistic:                 6.672e+04\n",
       "Date:                Thu, 11 Nov 2021   Prob (F-statistic):           9.95e-19\n",
       "Time:                        23:06:37   Log-Likelihood:                 28.164\n",
       "No. Observations:                  11   AIC:                            -52.33\n",
       "Df Residuals:                       9   BIC:                            -51.53\n",
       "Df Model:                           1                                         \n",
       "Covariance Type:            nonrobust                                         \n",
       "==============================================================================\n",
       "                 coef    std err          t      P>|t|      [0.025      0.975]\n",
       "------------------------------------------------------------------------------\n",
       "temp        5200.7618     20.135    258.293      0.000    5155.213    5246.311\n",
       "const         20.6074      0.063    325.790      0.000      20.464      20.750\n",
       "==============================================================================\n",
       "Omnibus:                        1.633   Durbin-Watson:                   0.373\n",
       "Prob(Omnibus):                  0.442   Jarque-Bera (JB):                1.041\n",
       "Skew:                          -0.483   Prob(JB):                        0.594\n",
       "Kurtosis:                       1.843   Cond. No.                     3.23e+03\n",
       "==============================================================================\n",
       "\n",
       "Notes:\n",
       "[1] Standard Errors assume that the covariance matrix of the errors is correctly specified.\n",
       "[2] The condition number is large, 3.23e+03. This might indicate that there are\n",
       "strong multicollinearity or other numerical problems.\n",
       "\"\"\""
      ]
     },
     "execution_count": 8,
     "metadata": {},
     "output_type": "execute_result"
    }
   ],
   "source": [
    "X = pd.DataFrame(X)\n",
    "X[\"const\"] = 1\n",
    "model = sm.OLS(y,X).fit()\n",
    "model.summary()"
   ]
  },
  {
   "cell_type": "markdown",
   "id": "0230ce56",
   "metadata": {},
   "source": [
    "It's interesting to see a parabolic pattern remain in the residual by predicted plot. I suppose that comes not from sampling error, but from the equation's proportionality term. It's not a perfect description of the physical system, but it is a very useful model."
   ]
  },
  {
   "cell_type": "code",
   "execution_count": 9,
   "id": "dc516ef3",
   "metadata": {},
   "outputs": [
    {
     "data": {
      "text/plain": [
       "Text(0.5, 1.0, 'Actual by Predicted')"
      ]
     },
     "execution_count": 9,
     "metadata": {},
     "output_type": "execute_result"
    },
    {
     "data": {
      "image/png": "[encoded data removed]",
      "text/plain": [
       "<Figure size 864x432 with 2 Axes>"
      ]
     },
     "metadata": {
      "needs_background": "light"
     },
     "output_type": "display_data"
    }
   ],
   "source": [
    "#Residuals and predicted values\n",
    "resid = model.resid\n",
    "pred = model.predict(X)\n",
    "\n",
    "#These four lines describe two functions for displaying the fitted lines on the plots. \n",
    "coef_res = np.polyfit(pred,resid,1)\n",
    "poly1d_res = np.poly1d(coef_res)\n",
    "\n",
    "coef_act = np.polyfit(pred,y,1)\n",
    "poly1d_act = np.poly1d(coef_act)\n",
    "\n",
    "#Matplotlib arranges things using a figure and subplots. Here is a figure with two subplots. \n",
    "fig,axs = plt.subplots(1,2,figsize=(12,6))\n",
    "\n",
    "axs[0].plot(y,resid,\"o\",label=\"data\")\n",
    "axs[0].plot(pred,poly1d_res(pred))\n",
    "axs[0].set_title(\"Residual by Predicted\")\n",
    "\n",
    "axs[1].plot(y,pred,\"o\",label=\"data\")\n",
    "axs[1].plot(pred,poly1d_act(pred))\n",
    "axs[1].set_title(\"Actual by Predicted\")"
   ]
  },
  {
   "cell_type": "markdown",
   "id": "3a84f011",
   "metadata": {},
   "source": [
    "Problem 2a. Fit straight line regression model. Perform standard tests for adequacy.\n",
    "\n",
    "Similar to the previous problem, we'll read in the data, add a constant term, and separate out the variables before fitting the initial model."
   ]
  },
  {
   "cell_type": "code",
   "execution_count": 10,
   "id": "bcf8fb4a",
   "metadata": {},
   "outputs": [
    {
     "name": "stderr",
     "output_type": "stream",
     "text": [
      "/Users/Fr333y3d3a/miniconda3/envs/math839/lib/python3.9/site-packages/scipy/stats/stats.py:1541: UserWarning: kurtosistest only valid for n>=20 ... continuing anyway, n=14\n",
      "  warnings.warn(\"kurtosistest only valid for n>=20 ... continuing \"\n"
     ]
    },
    {
     "data": {
      "text/html": [
       "<table class=\"simpletable\">\n",
       "<caption>OLS Regression Results</caption>\n",
       "<tr>\n",
       "  <th>Dep. Variable:</th>         <td>defects</td>     <th>  R-squared:         </th> <td>   0.854</td>\n",
       "</tr>\n",
       "<tr>\n",
       "  <th>Model:</th>                   <td>OLS</td>       <th>  Adj. R-squared:    </th> <td>   0.842</td>\n",
       "</tr>\n",
       "<tr>\n",
       "  <th>Method:</th>             <td>Least Squares</td>  <th>  F-statistic:       </th> <td>   70.09</td>\n",
       "</tr>\n",
       "<tr>\n",
       "  <th>Date:</th>             <td>Thu, 11 Nov 2021</td> <th>  Prob (F-statistic):</th> <td>2.35e-06</td>\n",
       "</tr>\n",
       "<tr>\n",
       "  <th>Time:</th>                 <td>23:06:39</td>     <th>  Log-Likelihood:    </th> <td> -54.813</td>\n",
       "</tr>\n",
       "<tr>\n",
       "  <th>No. Observations:</th>      <td>    14</td>      <th>  AIC:               </th> <td>   113.6</td>\n",
       "</tr>\n",
       "<tr>\n",
       "  <th>Df Residuals:</th>          <td>    12</td>      <th>  BIC:               </th> <td>   114.9</td>\n",
       "</tr>\n",
       "<tr>\n",
       "  <th>Df Model:</th>              <td>     1</td>      <th>                     </th>     <td> </td>   \n",
       "</tr>\n",
       "<tr>\n",
       "  <th>Covariance Type:</th>      <td>nonrobust</td>    <th>                     </th>     <td> </td>   \n",
       "</tr>\n",
       "</table>\n",
       "<table class=\"simpletable\">\n",
       "<tr>\n",
       "    <td></td>       <th>coef</th>     <th>std err</th>      <th>t</th>      <th>P>|t|</th>  <th>[0.025</th>    <th>0.975]</th>  \n",
       "</tr>\n",
       "<tr>\n",
       "  <th>weeks</th> <td>    7.2767</td> <td>    0.869</td> <td>    8.372</td> <td> 0.000</td> <td>    5.383</td> <td>    9.170</td>\n",
       "</tr>\n",
       "<tr>\n",
       "  <th>const</th> <td>  -31.6982</td> <td>    9.776</td> <td>   -3.243</td> <td> 0.007</td> <td>  -52.998</td> <td>  -10.399</td>\n",
       "</tr>\n",
       "</table>\n",
       "<table class=\"simpletable\">\n",
       "<tr>\n",
       "  <th>Omnibus:</th>       <td> 0.049</td> <th>  Durbin-Watson:     </th> <td>   1.085</td>\n",
       "</tr>\n",
       "<tr>\n",
       "  <th>Prob(Omnibus):</th> <td> 0.976</td> <th>  Jarque-Bera (JB):  </th> <td>   0.153</td>\n",
       "</tr>\n",
       "<tr>\n",
       "  <th>Skew:</th>          <td>-0.095</td> <th>  Prob(JB):          </th> <td>   0.926</td>\n",
       "</tr>\n",
       "<tr>\n",
       "  <th>Kurtosis:</th>      <td> 2.524</td> <th>  Cond. No.          </th> <td>    31.6</td>\n",
       "</tr>\n",
       "</table><br/><br/>Notes:<br/>[1] Standard Errors assume that the covariance matrix of the errors is correctly specified."
      ],
      "text/plain": [
       "<class 'statsmodels.iolib.summary.Summary'>\n",
       "\"\"\"\n",
       "                            OLS Regression Results                            \n",
       "==============================================================================\n",
       "Dep. Variable:                defects   R-squared:                       0.854\n",
       "Model:                            OLS   Adj. R-squared:                  0.842\n",
       "Method:                 Least Squares   F-statistic:                     70.09\n",
       "Date:                Thu, 11 Nov 2021   Prob (F-statistic):           2.35e-06\n",
       "Time:                        23:06:39   Log-Likelihood:                -54.813\n",
       "No. Observations:                  14   AIC:                             113.6\n",
       "Df Residuals:                      12   BIC:                             114.9\n",
       "Df Model:                           1                                         \n",
       "Covariance Type:            nonrobust                                         \n",
       "==============================================================================\n",
       "                 coef    std err          t      P>|t|      [0.025      0.975]\n",
       "------------------------------------------------------------------------------\n",
       "weeks          7.2767      0.869      8.372      0.000       5.383       9.170\n",
       "const        -31.6982      9.776     -3.243      0.007     -52.998     -10.399\n",
       "==============================================================================\n",
       "Omnibus:                        0.049   Durbin-Watson:                   1.085\n",
       "Prob(Omnibus):                  0.976   Jarque-Bera (JB):                0.153\n",
       "Skew:                          -0.095   Prob(JB):                        0.926\n",
       "Kurtosis:                       2.524   Cond. No.                         31.6\n",
       "==============================================================================\n",
       "\n",
       "Notes:\n",
       "[1] Standard Errors assume that the covariance matrix of the errors is correctly specified.\n",
       "\"\"\""
      ]
     },
     "execution_count": 10,
     "metadata": {},
     "output_type": "execute_result"
    }
   ],
   "source": [
    "glass = pd.read_csv(\"/Users/Fr333y3d3a/Documents/School/952986478/MATH839 Applied Regression Analysis/hw5/Hwk5Prob2.csv\")\n",
    "glass[\"const\"] = 1\n",
    "\n",
    "X = glass.loc[:,[\"weeks\",\"const\"]]\n",
    "y = glass.loc[:,\"defects\"]\n",
    "\n",
    "model = sm.OLS(y,X).fit()\n",
    "model.summary()\n"
   ]
  },
  {
   "cell_type": "markdown",
   "id": "d4c2d0d6",
   "metadata": {},
   "source": [
    "We seem to have gotten nonlinear data, just like the last problem. This time, the data's noisier.\n",
    "\n",
    "The correlation statistics aren't bad, but we can make a better model. "
   ]
  },
  {
   "cell_type": "code",
   "execution_count": 11,
   "id": "4e0df602",
   "metadata": {},
   "outputs": [
    {
     "data": {
      "text/plain": [
       "Text(0.5, 1.0, 'Actual by Predicted')"
      ]
     },
     "execution_count": 11,
     "metadata": {},
     "output_type": "execute_result"
    },
    {
     "data": {
      "image/png": "[encoded data removed]",
      "text/plain": [
       "<Figure size 864x432 with 2 Axes>"
      ]
     },
     "metadata": {
      "needs_background": "light"
     },
     "output_type": "display_data"
    }
   ],
   "source": [
    "#Residuals and predicted values\n",
    "resid = model.resid\n",
    "pred = model.predict(X)\n",
    "\n",
    "#These four lines describe two functions for displaying the fitted lines on the plots. \n",
    "coef_res = np.polyfit(pred,resid,1)\n",
    "poly1d_res = np.poly1d(coef_res)\n",
    "\n",
    "coef_act = np.polyfit(pred,y,1)\n",
    "poly1d_act = np.poly1d(coef_act)\n",
    "\n",
    "#Matplotlib arranges things using a figure and subplots. Here is a figure with two subplots. \n",
    "fig,axs = plt.subplots(1,2,figsize=(12,6))\n",
    "\n",
    "axs[0].plot(y,resid,\"o\",label=\"data\")\n",
    "axs[0].plot(pred,poly1d_res(pred))\n",
    "axs[0].set_title(\"Residual by Predicted\")\n",
    "\n",
    "axs[1].plot(y,pred,\"o\",label=\"data\")\n",
    "axs[1].plot(pred,poly1d_act(pred))\n",
    "axs[1].set_title(\"Actual by Predicted\")"
   ]
  },
  {
   "cell_type": "markdown",
   "id": "6ecdb0c0",
   "metadata": {},
   "source": [
    "2b.\n",
    "\n",
    "I tried a few different transformations and came to the conclusion that taking the square root and natural log of the predicted variables led to the best results.\n",
    "\n",
    "This conclusion was based both on the noisy linearity of the residual plots and the maximized Rsq and Rsq adj values."
   ]
  },
  {
   "cell_type": "code",
   "execution_count": 12,
   "id": "efaa2155",
   "metadata": {},
   "outputs": [
    {
     "name": "stderr",
     "output_type": "stream",
     "text": [
      "/Users/Fr333y3d3a/miniconda3/envs/math839/lib/python3.9/site-packages/scipy/stats/stats.py:1541: UserWarning: kurtosistest only valid for n>=20 ... continuing anyway, n=14\n",
      "  warnings.warn(\"kurtosistest only valid for n>=20 ... continuing \"\n"
     ]
    },
    {
     "data": {
      "text/html": [
       "<table class=\"simpletable\">\n",
       "<caption>OLS Regression Results</caption>\n",
       "<tr>\n",
       "  <th>Dep. Variable:</th>         <td>defects</td>     <th>  R-squared:         </th> <td>   0.915</td>\n",
       "</tr>\n",
       "<tr>\n",
       "  <th>Model:</th>                   <td>OLS</td>       <th>  Adj. R-squared:    </th> <td>   0.908</td>\n",
       "</tr>\n",
       "<tr>\n",
       "  <th>Method:</th>             <td>Least Squares</td>  <th>  F-statistic:       </th> <td>   128.5</td>\n",
       "</tr>\n",
       "<tr>\n",
       "  <th>Date:</th>             <td>Thu, 11 Nov 2021</td> <th>  Prob (F-statistic):</th> <td>9.08e-08</td>\n",
       "</tr>\n",
       "<tr>\n",
       "  <th>Time:</th>                 <td>23:06:42</td>     <th>  Log-Likelihood:    </th> <td>  20.298</td>\n",
       "</tr>\n",
       "<tr>\n",
       "  <th>No. Observations:</th>      <td>    14</td>      <th>  AIC:               </th> <td>  -36.60</td>\n",
       "</tr>\n",
       "<tr>\n",
       "  <th>Df Residuals:</th>          <td>    12</td>      <th>  BIC:               </th> <td>  -35.32</td>\n",
       "</tr>\n",
       "<tr>\n",
       "  <th>Df Model:</th>              <td>     1</td>      <th>                     </th>     <td> </td>   \n",
       "</tr>\n",
       "<tr>\n",
       "  <th>Covariance Type:</th>      <td>nonrobust</td>    <th>                     </th>     <td> </td>   \n",
       "</tr>\n",
       "</table>\n",
       "<table class=\"simpletable\">\n",
       "<tr>\n",
       "    <td></td>       <th>coef</th>     <th>std err</th>      <th>t</th>      <th>P>|t|</th>  <th>[0.025</th>    <th>0.975]</th>  \n",
       "</tr>\n",
       "<tr>\n",
       "  <th>weeks</th> <td>    0.0461</td> <td>    0.004</td> <td>   11.338</td> <td> 0.000</td> <td>    0.037</td> <td>    0.055</td>\n",
       "</tr>\n",
       "<tr>\n",
       "  <th>const</th> <td>    1.3870</td> <td>    0.046</td> <td>   30.334</td> <td> 0.000</td> <td>    1.287</td> <td>    1.487</td>\n",
       "</tr>\n",
       "</table>\n",
       "<table class=\"simpletable\">\n",
       "<tr>\n",
       "  <th>Omnibus:</th>       <td>13.782</td> <th>  Durbin-Watson:     </th> <td>   2.114</td>\n",
       "</tr>\n",
       "<tr>\n",
       "  <th>Prob(Omnibus):</th> <td> 0.001</td> <th>  Jarque-Bera (JB):  </th> <td>  10.986</td>\n",
       "</tr>\n",
       "<tr>\n",
       "  <th>Skew:</th>          <td>-1.348</td> <th>  Prob(JB):          </th> <td> 0.00411</td>\n",
       "</tr>\n",
       "<tr>\n",
       "  <th>Kurtosis:</th>      <td> 6.401</td> <th>  Cond. No.          </th> <td>    31.6</td>\n",
       "</tr>\n",
       "</table><br/><br/>Notes:<br/>[1] Standard Errors assume that the covariance matrix of the errors is correctly specified."
      ],
      "text/plain": [
       "<class 'statsmodels.iolib.summary.Summary'>\n",
       "\"\"\"\n",
       "                            OLS Regression Results                            \n",
       "==============================================================================\n",
       "Dep. Variable:                defects   R-squared:                       0.915\n",
       "Model:                            OLS   Adj. R-squared:                  0.908\n",
       "Method:                 Least Squares   F-statistic:                     128.5\n",
       "Date:                Thu, 11 Nov 2021   Prob (F-statistic):           9.08e-08\n",
       "Time:                        23:06:42   Log-Likelihood:                 20.298\n",
       "No. Observations:                  14   AIC:                            -36.60\n",
       "Df Residuals:                      12   BIC:                            -35.32\n",
       "Df Model:                           1                                         \n",
       "Covariance Type:            nonrobust                                         \n",
       "==============================================================================\n",
       "                 coef    std err          t      P>|t|      [0.025      0.975]\n",
       "------------------------------------------------------------------------------\n",
       "weeks          0.0461      0.004     11.338      0.000       0.037       0.055\n",
       "const          1.3870      0.046     30.334      0.000       1.287       1.487\n",
       "==============================================================================\n",
       "Omnibus:                       13.782   Durbin-Watson:                   2.114\n",
       "Prob(Omnibus):                  0.001   Jarque-Bera (JB):               10.986\n",
       "Skew:                          -1.348   Prob(JB):                      0.00411\n",
       "Kurtosis:                       6.401   Cond. No.                         31.6\n",
       "==============================================================================\n",
       "\n",
       "Notes:\n",
       "[1] Standard Errors assume that the covariance matrix of the errors is correctly specified.\n",
       "\"\"\""
      ]
     },
     "execution_count": 12,
     "metadata": {},
     "output_type": "execute_result"
    }
   ],
   "source": [
    "X = glass.loc[:,[\"weeks\",\"const\"]]\n",
    "y = glass.loc[:,\"defects\"]\n",
    "y = y.transform(np.log).transform(lambda x:x**(1/2))\n",
    "model = sm.OLS(y,X).fit()\n",
    "model.summary()"
   ]
  },
  {
   "cell_type": "code",
   "execution_count": 13,
   "id": "d957a43f",
   "metadata": {},
   "outputs": [
    {
     "data": {
      "text/plain": [
       "Text(0.5, 1.0, 'Actual by Predicted')"
      ]
     },
     "execution_count": 13,
     "metadata": {},
     "output_type": "execute_result"
    },
    {
     "data": {
      "image/png": "[encoded data removed]",
      "text/plain": [
       "<Figure size 864x432 with 2 Axes>"
      ]
     },
     "metadata": {
      "needs_background": "light"
     },
     "output_type": "display_data"
    }
   ],
   "source": [
    "#Residuals and predicted values\n",
    "resid = model.resid\n",
    "pred = model.predict(X)\n",
    "\n",
    "#These four lines describe two functions for displaying the fitted lines on the plots. \n",
    "coef_res = np.polyfit(pred,resid,1)\n",
    "poly1d_res = np.poly1d(coef_res)\n",
    "\n",
    "coef_act = np.polyfit(pred,y,1)\n",
    "poly1d_act = np.poly1d(coef_act)\n",
    "\n",
    "#Matplotlib arranges things using a figure and subplots. Here is a figure with two subplots. \n",
    "fig,axs = plt.subplots(1,2,figsize=(12,6))\n",
    "\n",
    "axs[0].plot(y,resid,\"o\",label=\"data\")\n",
    "axs[0].plot(pred,poly1d_res(pred))\n",
    "axs[0].set_title(\"Residual by Predicted\")\n",
    "\n",
    "axs[1].plot(y,pred,\"o\",label=\"data\")\n",
    "axs[1].plot(pred,poly1d_act(pred))\n",
    "axs[1].set_title(\"Actual by Predicted\")"
   ]
  },
  {
   "cell_type": "markdown",
   "id": "f5935fe3",
   "metadata": {},
   "source": [
    "Problem 3a. Fit an appropriate multivariate model and conduct the residual analysis.\n",
    "\n",
    "This data is more complex than the previous two problems. I printed the entire dataset instead of just using the head method for that reason."
   ]
  },
  {
   "cell_type": "code",
   "execution_count": 14,
   "id": "d7d71e30",
   "metadata": {},
   "outputs": [
    {
     "name": "stdout",
     "output_type": "stream",
     "text": [
      "    x1  x2  x3  yi1  yi2   yi3       ybar_i     si  const\n",
      "0   -1  -1  -1   34   10    28    24.000000   12.5      1\n",
      "1    0  -1  -1  115  116   130   120.333333    8.4      1\n",
      "2    1  -1  -1  192  186   263   213.666667   42.8      1\n",
      "3   -1   0  -1   82   88    88    86.000000    3.7      1\n",
      "4    0   0  -1   44  178   188   136.666667   80.4      1\n",
      "5    1   0  -1  322  350   350   340.666667   16.2      1\n",
      "6   -1   1  -1  141  110    86   112.333333   27.6      1\n",
      "7    0   1  -1  259  251   259   256.333333    4.6      1\n",
      "8    1   1  -1  290  280   245   271.666667   23.6      1\n",
      "9   -1  -1   0   81   81    81    81.000000    0.0      1\n",
      "10   0  -1   0   90  122    93   101.666667   17.7      1\n",
      "11   1  -1   0  319  376   376   357.000000   32.9      1\n",
      "12  -1   0   0  180  180   154   171.333333   15.0      1\n",
      "13   0   0   0  372  372   372   372.000000    0.0      1\n",
      "14   1   0   0  541  568   396   501.666667   92.5      1\n",
      "15  -1   1   0  288  192   312   264.000000   63.5      1\n",
      "16   0   1   0  432  336   513   427.000000   88.6      1\n",
      "17   1   1   0  713  725   754   730.666667   21.1      1\n",
      "18  -1  -1   1  364   99   199   220.666667  133.8      1\n",
      "19   0  -1   1  232  221   266   239.666667   23.5      1\n",
      "20   1  -1   1  408  415   443   422.000000   18.5      1\n",
      "21  -1   0   1  182  233   182   199.000000   29.4      1\n",
      "22   0   0   1  507  515   434   485.333333   44.6      1\n",
      "23   1   0   1  846  535   640   673.666667  158.2      1\n",
      "24  -1   1   1  236  126   168   176.666667   55.5      1\n",
      "25   0   1   1  660  440   403   501.000000  138.9      1\n",
      "26   1   1   1  878  991  1161  1010.000000  142.5      1\n"
     ]
    }
   ],
   "source": [
    "taguchi = pd.read_csv(\"/Users/Fr333y3d3a/Documents/School/952986478/MATH839 Applied Regression Analysis/hw5/Hwk5Prob3.csv\")\n",
    "taguchi[\"const\"] = 1\n",
    "print(taguchi)"
   ]
  },
  {
   "cell_type": "markdown",
   "id": "7f5d3272",
   "metadata": {},
   "source": [
    "We need to do a bit of wrangling in order to get this data the way we want it."
   ]
  },
  {
   "cell_type": "code",
   "execution_count": 15,
   "id": "de1881a1",
   "metadata": {},
   "outputs": [
    {
     "name": "stdout",
     "output_type": "stream",
     "text": [
      "    x1  x2  x3  y_number  const\n",
      "0   -1  -1  -1        -1      1\n",
      "1   -1  -1  -1         0      1\n",
      "2   -1  -1  -1         1      1\n",
      "3    0  -1  -1        -1      1\n",
      "4    0  -1  -1         0      1\n",
      "..  ..  ..  ..       ...    ...\n",
      "76   0   1   1         0      1\n",
      "77   0   1   1         1      1\n",
      "78   1   1   1        -1      1\n",
      "79   1   1   1         0      1\n",
      "80   1   1   1         1      1\n",
      "\n",
      "[81 rows x 5 columns]\n"
     ]
    }
   ],
   "source": [
    "#We'll first pull out the columns we want to analyze\n",
    "X_wide = taguchi.loc[:,[\"x1\",\"x2\",\"x3\",\"yi1\",\"yi2\",\"yi3\",\"const\",\"si\"]]\n",
    "\n",
    "#This pandas function is one of a few that can do different versions of stacking.\n",
    "#This one was ideal because of the serialized ys.\n",
    "X = pd.wide_to_long(X_wide,[\"yi\"],i=[\"x1\",\"x2\",\"x3\"],j=\"y_number\")\n",
    "\n",
    "#The funciton creates a multiindex, which we want to turn back into columns.\n",
    "X = X.reset_index()\n",
    "\n",
    "#We'll put the sample std devs aside for use in a varianced-based weighting later.\n",
    "w = X.loc[:,\"si\"]\n",
    "\n",
    "#Predicted\n",
    "y = X.loc[:,\"yi\"]\n",
    "\n",
    "#Making the X dataframe be just the regressors\n",
    "X = X.drop([\"si\",\"yi\"],axis=1)\n",
    "\n",
    "#Instead of keeping the numerals resulting from each y column the way they are, \n",
    "#we'll subtract 2 from each to give them the same range as our x variables.\n",
    "X[\"y_number\"] = X[\"y_number\"].transform(lambda x:x-2)\n",
    "print(X)\n",
    "\n"
   ]
  },
  {
   "cell_type": "markdown",
   "id": "f38903ae",
   "metadata": {},
   "source": [
    "The model could be better. The Rsq value isn't too high, and the difference with the Rsq adj value implies that there might be some covariance there. \n",
    "\n",
    "Including the y number doesn't appear to be very helpful to the model, given its p value and t-test confidence interval.\n",
    "\n",
    "The nonlinearity of the residuals implies either covariance that we need to control for or a potential nonlinear relationship."
   ]
  },
  {
   "cell_type": "code",
   "execution_count": 16,
   "id": "2f0cdea1",
   "metadata": {},
   "outputs": [
    {
     "data": {
      "text/html": [
       "<table class=\"simpletable\">\n",
       "<caption>OLS Regression Results</caption>\n",
       "<tr>\n",
       "  <th>Dep. Variable:</th>           <td>yi</td>        <th>  R-squared:         </th> <td>   0.764</td>\n",
       "</tr>\n",
       "<tr>\n",
       "  <th>Model:</th>                   <td>OLS</td>       <th>  Adj. R-squared:    </th> <td>   0.751</td>\n",
       "</tr>\n",
       "<tr>\n",
       "  <th>Method:</th>             <td>Least Squares</td>  <th>  F-statistic:       </th> <td>   61.46</td>\n",
       "</tr>\n",
       "<tr>\n",
       "  <th>Date:</th>             <td>Thu, 11 Nov 2021</td> <th>  Prob (F-statistic):</th> <td>4.54e-23</td>\n",
       "</tr>\n",
       "<tr>\n",
       "  <th>Time:</th>                 <td>23:06:46</td>     <th>  Log-Likelihood:    </th> <td> -496.96</td>\n",
       "</tr>\n",
       "<tr>\n",
       "  <th>No. Observations:</th>      <td>    81</td>      <th>  AIC:               </th> <td>   1004.</td>\n",
       "</tr>\n",
       "<tr>\n",
       "  <th>Df Residuals:</th>          <td>    76</td>      <th>  BIC:               </th> <td>   1016.</td>\n",
       "</tr>\n",
       "<tr>\n",
       "  <th>Df Model:</th>              <td>     4</td>      <th>                     </th>     <td> </td>   \n",
       "</tr>\n",
       "<tr>\n",
       "  <th>Covariance Type:</th>      <td>nonrobust</td>    <th>                     </th>     <td> </td>   \n",
       "</tr>\n",
       "</table>\n",
       "<table class=\"simpletable\">\n",
       "<tr>\n",
       "      <td></td>        <th>coef</th>     <th>std err</th>      <th>t</th>      <th>P>|t|</th>  <th>[0.025</th>    <th>0.975]</th>  \n",
       "</tr>\n",
       "<tr>\n",
       "  <th>x1</th>       <td>  177.0000</td> <td>   15.700</td> <td>   11.274</td> <td> 0.000</td> <td>  145.730</td> <td>  208.270</td>\n",
       "</tr>\n",
       "<tr>\n",
       "  <th>x2</th>       <td>  109.4259</td> <td>   15.700</td> <td>    6.970</td> <td> 0.000</td> <td>   78.156</td> <td>  140.696</td>\n",
       "</tr>\n",
       "<tr>\n",
       "  <th>x3</th>       <td>  131.4630</td> <td>   15.700</td> <td>    8.373</td> <td> 0.000</td> <td>  100.193</td> <td>  162.733</td>\n",
       "</tr>\n",
       "<tr>\n",
       "  <th>y_number</th> <td>   -4.1481</td> <td>   15.700</td> <td>   -0.264</td> <td> 0.792</td> <td>  -35.418</td> <td>   27.122</td>\n",
       "</tr>\n",
       "<tr>\n",
       "  <th>const</th>    <td>  314.6667</td> <td>   12.819</td> <td>   24.547</td> <td> 0.000</td> <td>  289.135</td> <td>  340.198</td>\n",
       "</tr>\n",
       "</table>\n",
       "<table class=\"simpletable\">\n",
       "<tr>\n",
       "  <th>Omnibus:</th>       <td>10.801</td> <th>  Durbin-Watson:     </th> <td>   0.968</td>\n",
       "</tr>\n",
       "<tr>\n",
       "  <th>Prob(Omnibus):</th> <td> 0.005</td> <th>  Jarque-Bera (JB):  </th> <td>  14.531</td>\n",
       "</tr>\n",
       "<tr>\n",
       "  <th>Skew:</th>          <td> 0.579</td> <th>  Prob(JB):          </th> <td>0.000699</td>\n",
       "</tr>\n",
       "<tr>\n",
       "  <th>Kurtosis:</th>      <td> 4.722</td> <th>  Cond. No.          </th> <td>    1.22</td>\n",
       "</tr>\n",
       "</table><br/><br/>Notes:<br/>[1] Standard Errors assume that the covariance matrix of the errors is correctly specified."
      ],
      "text/plain": [
       "<class 'statsmodels.iolib.summary.Summary'>\n",
       "\"\"\"\n",
       "                            OLS Regression Results                            \n",
       "==============================================================================\n",
       "Dep. Variable:                     yi   R-squared:                       0.764\n",
       "Model:                            OLS   Adj. R-squared:                  0.751\n",
       "Method:                 Least Squares   F-statistic:                     61.46\n",
       "Date:                Thu, 11 Nov 2021   Prob (F-statistic):           4.54e-23\n",
       "Time:                        23:06:46   Log-Likelihood:                -496.96\n",
       "No. Observations:                  81   AIC:                             1004.\n",
       "Df Residuals:                      76   BIC:                             1016.\n",
       "Df Model:                           4                                         \n",
       "Covariance Type:            nonrobust                                         \n",
       "==============================================================================\n",
       "                 coef    std err          t      P>|t|      [0.025      0.975]\n",
       "------------------------------------------------------------------------------\n",
       "x1           177.0000     15.700     11.274      0.000     145.730     208.270\n",
       "x2           109.4259     15.700      6.970      0.000      78.156     140.696\n",
       "x3           131.4630     15.700      8.373      0.000     100.193     162.733\n",
       "y_number      -4.1481     15.700     -0.264      0.792     -35.418      27.122\n",
       "const        314.6667     12.819     24.547      0.000     289.135     340.198\n",
       "==============================================================================\n",
       "Omnibus:                       10.801   Durbin-Watson:                   0.968\n",
       "Prob(Omnibus):                  0.005   Jarque-Bera (JB):               14.531\n",
       "Skew:                           0.579   Prob(JB):                     0.000699\n",
       "Kurtosis:                       4.722   Cond. No.                         1.22\n",
       "==============================================================================\n",
       "\n",
       "Notes:\n",
       "[1] Standard Errors assume that the covariance matrix of the errors is correctly specified.\n",
       "\"\"\""
      ]
     },
     "execution_count": 16,
     "metadata": {},
     "output_type": "execute_result"
    }
   ],
   "source": [
    "model = sm.OLS(y,X).fit()\n",
    "model.summary()"
   ]
  },
  {
   "cell_type": "code",
   "execution_count": 17,
   "id": "3ae19678",
   "metadata": {},
   "outputs": [
    {
     "data": {
      "text/plain": [
       "Text(0.5, 1.0, 'Actual by Predicted')"
      ]
     },
     "execution_count": 17,
     "metadata": {},
     "output_type": "execute_result"
    },
    {
     "data": {
      "image/png": "[encoded data removed]",
      "text/plain": [
       "<Figure size 864x432 with 2 Axes>"
      ]
     },
     "metadata": {
      "needs_background": "light"
     },
     "output_type": "display_data"
    }
   ],
   "source": [
    "#Residuals and predicted values\n",
    "resid = model.resid\n",
    "pred = model.predict(X)\n",
    "\n",
    "#These four lines describe two functions for displaying the fitted lines on the plots. \n",
    "coef_res = np.polyfit(pred,resid,1)\n",
    "poly1d_res = np.poly1d(coef_res)\n",
    "\n",
    "coef_act = np.polyfit(pred,y,1)\n",
    "poly1d_act = np.poly1d(coef_act)\n",
    "\n",
    "#Matplotlib arranges things using a figure and subplots. Here is a figure with two subplots. \n",
    "fig,axs = plt.subplots(1,2,figsize=(12,6))\n",
    "\n",
    "axs[0].plot(y,resid,\"o\",label=\"data\")\n",
    "axs[0].plot(pred,poly1d_res(pred))\n",
    "axs[0].set_title(\"Residual by Predicted\")\n",
    "\n",
    "axs[1].plot(y,pred,\"o\",label=\"data\")\n",
    "axs[1].plot(pred,poly1d_act(pred))\n",
    "axs[1].set_title(\"Actual by Predicted\")"
   ]
  },
  {
   "cell_type": "code",
   "execution_count": 18,
   "id": "594ae2ab",
   "metadata": {},
   "outputs": [
    {
     "data": {
      "image/png": "[encoded data removed]",
      "text/plain": [
       "<Figure size 432x288 with 5 Axes>"
      ]
     },
     "metadata": {
      "needs_background": "light"
     },
     "output_type": "display_data"
    }
   ],
   "source": [
    "#This partial regression plot provides another way to show how useless the y_number olumn is.\n",
    "fig = sm.graphics.plot_partregress_grid(model)\n"
   ]
  },
  {
   "cell_type": "markdown",
   "id": "9e1166e9",
   "metadata": {},
   "source": [
    "3b. Let's see what we can get when we use the std devs in order to weight our model. \n",
    "\n",
    "Woah! That bumped our Rsq values right up! It appears giving the values which vary the most greater influence may give models more predictive power. \n",
    "\n",
    "Let's see what the residuals look like. "
   ]
  },
  {
   "cell_type": "code",
   "execution_count": 19,
   "id": "631aeaab",
   "metadata": {},
   "outputs": [
    {
     "data": {
      "text/html": [
       "<table class=\"simpletable\">\n",
       "<caption>OLS Regression Results</caption>\n",
       "<tr>\n",
       "  <th>Dep. Variable:</th>           <td>yi</td>        <th>  R-squared:         </th> <td>   0.997</td>\n",
       "</tr>\n",
       "<tr>\n",
       "  <th>Model:</th>                   <td>OLS</td>       <th>  Adj. R-squared:    </th> <td>   0.997</td>\n",
       "</tr>\n",
       "<tr>\n",
       "  <th>Method:</th>             <td>Least Squares</td>  <th>  F-statistic:       </th> <td>   5770.</td>\n",
       "</tr>\n",
       "<tr>\n",
       "  <th>Date:</th>             <td>Thu, 11 Nov 2021</td> <th>  Prob (F-statistic):</th> <td>1.60e-93</td>\n",
       "</tr>\n",
       "<tr>\n",
       "  <th>Time:</th>                 <td>23:06:50</td>     <th>  Log-Likelihood:    </th> <td> -496.96</td>\n",
       "</tr>\n",
       "<tr>\n",
       "  <th>No. Observations:</th>      <td>    81</td>      <th>  AIC:               </th> <td>   1004.</td>\n",
       "</tr>\n",
       "<tr>\n",
       "  <th>Df Residuals:</th>          <td>    76</td>      <th>  BIC:               </th> <td>   1016.</td>\n",
       "</tr>\n",
       "<tr>\n",
       "  <th>Df Model:</th>              <td>     4</td>      <th>                     </th>     <td> </td>   \n",
       "</tr>\n",
       "<tr>\n",
       "  <th>Covariance Type:</th>      <td>nonrobust</td>    <th>                     </th>     <td> </td>   \n",
       "</tr>\n",
       "</table>\n",
       "<table class=\"simpletable\">\n",
       "<tr>\n",
       "      <td></td>        <th>coef</th>     <th>std err</th>      <th>t</th>      <th>P>|t|</th>  <th>[0.025</th>    <th>0.975]</th>  \n",
       "</tr>\n",
       "<tr>\n",
       "  <th>x1</th>       <td>  177.0000</td> <td>   15.700</td> <td>   11.274</td> <td> 0.000</td> <td>  145.730</td> <td>  208.270</td>\n",
       "</tr>\n",
       "<tr>\n",
       "  <th>x2</th>       <td>  109.4259</td> <td>   15.700</td> <td>    6.970</td> <td> 0.000</td> <td>   78.156</td> <td>  140.696</td>\n",
       "</tr>\n",
       "<tr>\n",
       "  <th>x3</th>       <td>  131.4630</td> <td>   15.700</td> <td>    8.373</td> <td> 0.000</td> <td>  100.193</td> <td>  162.733</td>\n",
       "</tr>\n",
       "<tr>\n",
       "  <th>y_number</th> <td>   -4.1481</td> <td>   15.700</td> <td>   -0.264</td> <td> 0.792</td> <td>  -35.418</td> <td>   27.122</td>\n",
       "</tr>\n",
       "<tr>\n",
       "  <th>const</th>    <td>  314.6667</td> <td>   12.819</td> <td>   24.547</td> <td> 0.000</td> <td>  289.135</td> <td>  340.198</td>\n",
       "</tr>\n",
       "</table>\n",
       "<table class=\"simpletable\">\n",
       "<tr>\n",
       "  <th>Omnibus:</th>       <td>10.801</td> <th>  Durbin-Watson:     </th> <td>   0.968</td>\n",
       "</tr>\n",
       "<tr>\n",
       "  <th>Prob(Omnibus):</th> <td> 0.005</td> <th>  Jarque-Bera (JB):  </th> <td>  14.531</td>\n",
       "</tr>\n",
       "<tr>\n",
       "  <th>Skew:</th>          <td> 0.579</td> <th>  Prob(JB):          </th> <td>0.000699</td>\n",
       "</tr>\n",
       "<tr>\n",
       "  <th>Kurtosis:</th>      <td> 4.722</td> <th>  Cond. No.          </th> <td>    1.22</td>\n",
       "</tr>\n",
       "</table><br/><br/>Notes:<br/>[1] Standard Errors assume that the covariance matrix of the errors is correctly specified."
      ],
      "text/plain": [
       "<class 'statsmodels.iolib.summary.Summary'>\n",
       "\"\"\"\n",
       "                            OLS Regression Results                            \n",
       "==============================================================================\n",
       "Dep. Variable:                     yi   R-squared:                       0.997\n",
       "Model:                            OLS   Adj. R-squared:                  0.997\n",
       "Method:                 Least Squares   F-statistic:                     5770.\n",
       "Date:                Thu, 11 Nov 2021   Prob (F-statistic):           1.60e-93\n",
       "Time:                        23:06:50   Log-Likelihood:                -496.96\n",
       "No. Observations:                  81   AIC:                             1004.\n",
       "Df Residuals:                      76   BIC:                             1016.\n",
       "Df Model:                           4                                         \n",
       "Covariance Type:            nonrobust                                         \n",
       "==============================================================================\n",
       "                 coef    std err          t      P>|t|      [0.025      0.975]\n",
       "------------------------------------------------------------------------------\n",
       "x1           177.0000     15.700     11.274      0.000     145.730     208.270\n",
       "x2           109.4259     15.700      6.970      0.000      78.156     140.696\n",
       "x3           131.4630     15.700      8.373      0.000     100.193     162.733\n",
       "y_number      -4.1481     15.700     -0.264      0.792     -35.418      27.122\n",
       "const        314.6667     12.819     24.547      0.000     289.135     340.198\n",
       "==============================================================================\n",
       "Omnibus:                       10.801   Durbin-Watson:                   0.968\n",
       "Prob(Omnibus):                  0.005   Jarque-Bera (JB):               14.531\n",
       "Skew:                           0.579   Prob(JB):                     0.000699\n",
       "Kurtosis:                       4.722   Cond. No.                         1.22\n",
       "==============================================================================\n",
       "\n",
       "Notes:\n",
       "[1] Standard Errors assume that the covariance matrix of the errors is correctly specified.\n",
       "\"\"\""
      ]
     },
     "execution_count": 19,
     "metadata": {},
     "output_type": "execute_result"
    }
   ],
   "source": [
    "model = sm.OLS(y,X,weights=w).fit()\n",
    "model.summary()"
   ]
  },
  {
   "cell_type": "markdown",
   "id": "793a32b3",
   "metadata": {},
   "source": [
    "We're still essentially the same with those residuals. It appears that with categorical data, for now, we haven't too many options. "
   ]
  },
  {
   "cell_type": "code",
   "execution_count": null,
   "id": "5631c86b",
   "metadata": {},
   "outputs": [],
   "source": []
  }
 ],
 "metadata": {
  "kernelspec": {
   "display_name": "Python 3 (ipykernel)",
   "language": "python",
   "name": "python3"
  },
  "language_info": {
   "codemirror_mode": {
    "name": "ipython",
    "version": 3
   },
   "file_extension": ".py",
   "mimetype": "text/x-python",
   "name": "python",
   "nbconvert_exporter": "python",
   "pygments_lexer": "ipython3",
   "version": "3.9.7"
  }
 },
 "nbformat": 4,
 "nbformat_minor": 5
}
