{
 "cells": [
  {
   "cell_type": "markdown",
   "id": "b81f605c",
   "metadata": {},
   "source": [
    "Alex Beckwith\n",
    "\n",
    "Math 839 - Fall 21\n",
    "\n",
    "HW 6"
   ]
  },
  {
   "cell_type": "markdown",
   "id": "eb9d25ee",
   "metadata": {},
   "source": [
    "As usual, we need to import the packages we'll be using in this notebook. \n",
    "The convention is to import everything at the top."
   ]
  },
  {
   "cell_type": "code",
   "execution_count": 1,
   "id": "149195c3",
   "metadata": {},
   "outputs": [],
   "source": [
    "import numpy as np\n",
    "import pandas as pd\n",
    "import seaborn as sns\n",
    "import statsmodels.api as sm\n",
    "import matplotlib.pyplot as plt\n",
    "from statsmodels.stats.outliers_influence import variance_inflation_factor as vif\n",
    "from statsmodels.stats.outliers_influence import OLSInfluence as inf"
   ]
  },
  {
   "cell_type": "markdown",
   "id": "6e373588",
   "metadata": {},
   "source": [
    "Here, we're using pandas to read the data and create a DataFrame object from the .csv file.\n",
    "We then use the head() method to check out the first five lines, which helps us get a sense of what we're dealing with."
   ]
  },
  {
   "cell_type": "code",
   "execution_count": 2,
   "id": "2dc3450d",
   "metadata": {},
   "outputs": [
    {
     "data": {
      "text/html": [
       "<div>\n",
       "<style scoped>\n",
       "    .dataframe tbody tr th:only-of-type {\n",
       "        vertical-align: middle;\n",
       "    }\n",
       "\n",
       "    .dataframe tbody tr th {\n",
       "        vertical-align: top;\n",
       "    }\n",
       "\n",
       "    .dataframe thead th {\n",
       "        text-align: right;\n",
       "    }\n",
       "</style>\n",
       "<table border=\"1\" class=\"dataframe\">\n",
       "  <thead>\n",
       "    <tr style=\"text-align: right;\">\n",
       "      <th></th>\n",
       "      <th>Y</th>\n",
       "      <th>X1</th>\n",
       "      <th>X2</th>\n",
       "      <th>X3</th>\n",
       "      <th>X4</th>\n",
       "      <th>X5</th>\n",
       "      <th>X6</th>\n",
       "      <th>X7</th>\n",
       "    </tr>\n",
       "  </thead>\n",
       "  <tbody>\n",
       "    <tr>\n",
       "      <th>0</th>\n",
       "      <td>36.98</td>\n",
       "      <td>5.1</td>\n",
       "      <td>400</td>\n",
       "      <td>51.37</td>\n",
       "      <td>4.24</td>\n",
       "      <td>1484.83</td>\n",
       "      <td>2227.25</td>\n",
       "      <td>2.06</td>\n",
       "    </tr>\n",
       "    <tr>\n",
       "      <th>1</th>\n",
       "      <td>13.74</td>\n",
       "      <td>26.4</td>\n",
       "      <td>400</td>\n",
       "      <td>72.33</td>\n",
       "      <td>30.87</td>\n",
       "      <td>289.94</td>\n",
       "      <td>434.90</td>\n",
       "      <td>1.33</td>\n",
       "    </tr>\n",
       "    <tr>\n",
       "      <th>2</th>\n",
       "      <td>10.08</td>\n",
       "      <td>23.8</td>\n",
       "      <td>400</td>\n",
       "      <td>71.44</td>\n",
       "      <td>33.01</td>\n",
       "      <td>320.79</td>\n",
       "      <td>481.19</td>\n",
       "      <td>0.97</td>\n",
       "    </tr>\n",
       "    <tr>\n",
       "      <th>3</th>\n",
       "      <td>8.53</td>\n",
       "      <td>46.4</td>\n",
       "      <td>400</td>\n",
       "      <td>79.15</td>\n",
       "      <td>44.61</td>\n",
       "      <td>164.76</td>\n",
       "      <td>247.14</td>\n",
       "      <td>0.62</td>\n",
       "    </tr>\n",
       "    <tr>\n",
       "      <th>4</th>\n",
       "      <td>36.42</td>\n",
       "      <td>7.0</td>\n",
       "      <td>450</td>\n",
       "      <td>80.47</td>\n",
       "      <td>33.84</td>\n",
       "      <td>1097.26</td>\n",
       "      <td>1645.89</td>\n",
       "      <td>0.22</td>\n",
       "    </tr>\n",
       "  </tbody>\n",
       "</table>\n",
       "</div>"
      ],
      "text/plain": [
       "       Y    X1   X2     X3     X4       X5       X6    X7\n",
       "0  36.98   5.1  400  51.37   4.24  1484.83  2227.25  2.06\n",
       "1  13.74  26.4  400  72.33  30.87   289.94   434.90  1.33\n",
       "2  10.08  23.8  400  71.44  33.01   320.79   481.19  0.97\n",
       "3   8.53  46.4  400  79.15  44.61   164.76   247.14  0.62\n",
       "4  36.42   7.0  450  80.47  33.84  1097.26  1645.89  0.22"
      ]
     },
     "execution_count": 2,
     "metadata": {},
     "output_type": "execute_result"
    }
   ],
   "source": [
    "coal = pd.read_csv(\"/Users/Fr333y3d3a/Documents/School/952986478/MATH839 Applied Regression Analysis/hw6/BelleAyr_MPV.csv\")\n",
    "coal.head()"
   ]
  },
  {
   "cell_type": "code",
   "execution_count": null,
   "id": "47de0ef4",
   "metadata": {},
   "outputs": [],
   "source": [
    "In order to "
   ]
  },
  {
   "cell_type": "code",
   "execution_count": null,
   "id": "e1891e36",
   "metadata": {},
   "outputs": [],
   "source": [
    "y = coal.loc[:,\"Y\"]\n",
    "X = coal.loc[:,\"X1\"::]"
   ]
  },
  {
   "cell_type": "code",
   "execution_count": null,
   "id": "e6a3a8e5",
   "metadata": {},
   "outputs": [],
   "source": [
    "model = sm.OLS(y,X).fit()\n",
    "model.summary()"
   ]
  },
  {
   "cell_type": "code",
   "execution_count": null,
   "id": "4ac0c498",
   "metadata": {},
   "outputs": [],
   "source": [
    "#Residuals and predicted values\n",
    "resid = model.resid\n",
    "pred = model.predict(X)\n",
    "\n",
    "#These four lines describe two functions for displaying the fitted lines on the plots. \n",
    "coef_res = np.polyfit(pred,resid,1)\n",
    "poly1d_res = np.poly1d(coef_res)\n",
    "\n",
    "coef_act = np.polyfit(pred,y,1)\n",
    "poly1d_act = np.poly1d(coef_act)\n",
    "\n",
    "#Matplotlib arranges things using a figure and subplots. Here is a figure with two subplots. \n",
    "fig,axs = plt.subplots(1,2,figsize=(12,6))\n",
    "\n",
    "axs[0].plot(y,resid,\"o\",label=\"data\")\n",
    "axs[0].plot(pred,poly1d_res(pred))\n",
    "axs[0].set_title(\"Residual by Predicted\")\n",
    "\n",
    "axs[1].plot(y,pred,\"o\",label=\"data\")\n",
    "axs[1].plot(pred,poly1d_act(pred))\n",
    "axs[1].set_title(\"Actual by Predicted\")"
   ]
  },
  {
   "cell_type": "code",
   "execution_count": null,
   "id": "37c0239d",
   "metadata": {},
   "outputs": [],
   "source": [
    "pair = sns.pairplot(coal)"
   ]
  },
  {
   "cell_type": "code",
   "execution_count": null,
   "id": "3718b736",
   "metadata": {},
   "outputs": [],
   "source": [
    "coal[\"X1\"]=coal[\"X1\"].transform(lambda x: 1/x)\n",
    "coal = coal.drop(\"X5\",axis=1)\n",
    "coal = coal.drop(\"X6\",axis=1)\n",
    "pair = sns.pairplot(coal)"
   ]
  },
  {
   "cell_type": "code",
   "execution_count": null,
   "id": "75426521",
   "metadata": {},
   "outputs": [],
   "source": [
    "y = coal.loc[:,\"Y\"]\n",
    "X = coal.loc[:,\"X1\"::]\n",
    "model = sm.OLS(y,X).fit()\n",
    "model.summary()"
   ]
  },
  {
   "cell_type": "code",
   "execution_count": null,
   "id": "47fbbff9",
   "metadata": {},
   "outputs": [],
   "source": [
    "coal = pd.read_csv(\"/Users/Fr333y3d3a/Documents/School/952986478/MATH839 Applied Regression Analysis/hw6/BelleAyr_MPV.csv\")\n",
    "coal[\"X1\"]=coal[\"X1\"].transform(lambda x: 1/x)\n",
    "coal[\"X1\"]=coal[\"X1\"].transform(lambda x: x/max(coal[\"X1\"]))\n",
    "coal[\"X5\"]=coal[\"X5\"].transform(lambda x: x/max(coal[\"X5\"]))\n",
    "coal[\"X6\"]=coal[\"X6\"].transform(lambda x: x/max(coal[\"X6\"]))\n",
    "for i in range(len(coal[\"X5\"])):\n",
    "    print(coal[\"X1\"][i],coal[\"X5\"][i],coal[\"X6\"][i],\"\\n\")\n",
    "#pair = sns.pairplot(coal)"
   ]
  },
  {
   "cell_type": "code",
   "execution_count": null,
   "id": "4e751e9a",
   "metadata": {},
   "outputs": [],
   "source": [
    "coal[\"X3\"]=coal[\"X3\"].transform(lambda x: 1/x)\n",
    "coal[\"X4\"]=coal[\"X4\"].transform(lambda x: 1/x)\n",
    "pair = sns.pairplot(coal)"
   ]
  },
  {
   "cell_type": "code",
   "execution_count": null,
   "id": "0a6a9c67",
   "metadata": {},
   "outputs": [],
   "source": [
    "y = coal.loc[:,\"Y\"]\n",
    "X = coal.loc[:,\"X1\"::]\n",
    "model = sm.OLS(y,X).fit()\n",
    "model.summary()"
   ]
  },
  {
   "cell_type": "code",
   "execution_count": null,
   "id": "a690915f",
   "metadata": {},
   "outputs": [],
   "source": [
    "coal = pd.read_csv(\"/Users/Fr333y3d3a/Documents/School/952986478/MATH839 Applied Regression Analysis/hw6/BelleAyr_MPV.csv\")\n",
    "y = coal.loc[:,\"Y\"]\n",
    "X = coal.loc[:,\"X1\"::]"
   ]
  },
  {
   "cell_type": "code",
   "execution_count": null,
   "id": "1463eb1f",
   "metadata": {},
   "outputs": [],
   "source": [
    "varif = pd.DataFrame()\n",
    "varif[\"VIF\"] = [vif(X.values,i) for i in range(X.shape[1])]\n",
    "varif[\"Features\"] = X.columns\n",
    "print(varif.round(1))"
   ]
  },
  {
   "cell_type": "code",
   "execution_count": null,
   "id": "f94d77a7",
   "metadata": {},
   "outputs": [],
   "source": [
    "#Obtain the RStudent, Hats, Cook’s DF, DFFITS, and COVRATIO.  \n",
    "results = sm.OLS(y,X).fit()\n",
    "var_figs = inf(results)\n",
    "rstudents = var_figs.resid_studentized\n",
    "hat_diag_factor = var_figs.hat_diag_factor\n",
    "hat_matrix_diag = var_figs.hat_matrix_diag\n",
    "cooks = var_figs.cooks_distance\n",
    "dffits = var_figs.dffits\n",
    "covratio = var_figs.cov_ratio\n",
    "\n",
    "covar_figs = pd.DataFrame()\n",
    "\n",
    "covar_figs[\"R-Students\"]=rstudents\n",
    "covar_figs[\"Hat Diag Factor\"]=hat_diag_factor\n",
    "covar_figs[\"Hat Matrix Diag\"] = hat_matrix_diag\n",
    "covar_figs[\"Cook's D1\"]=cooks[0]\n",
    "covar_figs[\"Cook's D2\"]=cooks[1]\n",
    "covar_figs[\"DFFits1\"]=dffits[0]\n",
    "covar_figs[\"DFFits2\"]=dffits[1]\n",
    "covar_figs[\"Cov Ratio\"]=covratio\n",
    "print(covar_figs)\n"
   ]
  },
  {
   "cell_type": "code",
   "execution_count": null,
   "id": "7c37affe",
   "metadata": {},
   "outputs": [],
   "source": [
    "#get dfbetas\n",
    "dfbetas = pd.DataFrame(var_figs.dfbetas)\n",
    "print(dfbetas)"
   ]
  },
  {
   "cell_type": "code",
   "execution_count": null,
   "id": "78f60793",
   "metadata": {},
   "outputs": [],
   "source": []
  }
 ],
 "metadata": {
  "kernelspec": {
   "display_name": "Python 3 (ipykernel)",
   "language": "python",
   "name": "python3"
  },
  "language_info": {
   "codemirror_mode": {
    "name": "ipython",
    "version": 3
   },
   "file_extension": ".py",
   "mimetype": "text/x-python",
   "name": "python",
   "nbconvert_exporter": "python",
   "pygments_lexer": "ipython3",
   "version": "3.9.7"
  }
 },
 "nbformat": 4,
 "nbformat_minor": 5
}
